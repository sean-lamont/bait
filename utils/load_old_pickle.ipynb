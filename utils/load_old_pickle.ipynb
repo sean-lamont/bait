{
 "cells": [
  {
   "cell_type": "code",
   "execution_count": null,
   "outputs": [],
   "source": [],
   "metadata": {
    "collapsed": false
   }
  },
  {
   "cell_type": "code",
   "execution_count": 6,
   "outputs": [],
   "source": [
    "import io\n",
    "import pickle\n",
    "\n",
    "\n",
    "class RenameUnpickler(pickle.Unpickler):\n",
    "    def find_class(self, module, name):\n",
    "        renamed_module = module\n",
    "        # replace old with new modules here\n",
    "        if 'refactor' in module:\n",
    "            renamed_module = module.replace('refactor', 'experiments.end_to_end')\n",
    "\n",
    "        return super(RenameUnpickler, self).find_class(renamed_module, name)\n",
    "\n",
    "\n",
    "def renamed_load(file_obj):\n",
    "    return RenameUnpickler(file_obj).load()\n",
    "\n",
    "\n",
    "def renamed_loads(pickled_bytes):\n",
    "    file_obj = io.BytesIO(pickled_bytes)\n",
    "    return renamed_load(file_obj)"
   ],
   "metadata": {
    "collapsed": false,
    "ExecuteTime": {
     "end_time": "2024-03-05T03:26:25.006391Z",
     "start_time": "2024-03-05T03:26:25.000548Z"
    }
   }
  },
  {
   "cell_type": "code",
   "execution_count": 10,
   "outputs": [
    {
     "name": "stderr",
     "output_type": "stream",
     "text": [
      "100%|██████████| 32389/32389 [05:42<00:00, 94.45it/s] \n"
     ]
    }
   ],
   "source": [
    "from tqdm import tqdm\n",
    "import glob\n",
    "\n",
    "files = glob.glob('../runs/random_train/original_reprover_2023_12_21/17_20_53/traces/0/*')\n",
    "\n",
    "def rename_module(file):\n",
    "    with open(file, 'rb') as f:\n",
    "        x = renamed_load(f)\n",
    "\n",
    "    with open(file, 'wb') as f:\n",
    "        pickle.dump(x, f)\n",
    "        \n",
    "        \n",
    "# use multiprocessing to rename all files\n",
    "from multiprocessing import Pool\n",
    "with Pool(8) as p:\n",
    "    list(tqdm(p.imap(rename_module, files), total=len(files)))\n",
    "\n",
    "\n"
   ],
   "metadata": {
    "collapsed": false,
    "ExecuteTime": {
     "end_time": "2024-03-05T03:33:51.776677Z",
     "start_time": "2024-03-05T03:28:08.624989Z"
    }
   }
  },
  {
   "cell_type": "code",
   "outputs": [
    {
     "name": "stdout",
     "output_type": "stream",
     "text": [
      "/home/sean/Documents/bait/utils\r\n"
     ]
    }
   ],
   "source": [],
   "metadata": {
    "collapsed": false,
    "ExecuteTime": {
     "end_time": "2024-03-05T03:26:42.091340Z",
     "start_time": "2024-03-05T03:26:41.850776Z"
    }
   },
   "execution_count": 8
  }
 ],
 "metadata": {
  "kernelspec": {
   "display_name": "Python 3",
   "language": "python",
   "name": "python3"
  },
  "language_info": {
   "codemirror_mode": {
    "name": "ipython",
    "version": 2
   },
   "file_extension": ".py",
   "mimetype": "text/x-python",
   "name": "python",
   "nbconvert_exporter": "python",
   "pygments_lexer": "ipython2",
   "version": "2.7.6"
  }
 },
 "nbformat": 4,
 "nbformat_minor": 0
}
