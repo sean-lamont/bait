{
 "cells": [
  {
   "cell_type": "code",
   "execution_count": 1,
   "id": "initial_id",
   "metadata": {
    "collapsed": true,
    "ExecuteTime": {
     "end_time": "2024-02-29T01:42:02.573244744Z",
     "start_time": "2024-02-29T01:42:02.559222920Z"
    }
   },
   "outputs": [],
   "source": [
    "import pickle\n",
    "\n"
   ]
  },
  {
   "cell_type": "code",
   "outputs": [],
   "source": [],
   "metadata": {
    "collapsed": false
   },
   "id": "d00b58aa0b23b76e"
  },
  {
   "cell_type": "code",
   "outputs": [],
   "source": [
    "test_trace = pickle.load(open('runs/end_to_end_hol4/test/2024_02_29/12_09_51/traces/0/listLENGTH_ZIP', 'rb'))"
   ],
   "metadata": {
    "collapsed": false,
    "ExecuteTime": {
     "end_time": "2024-02-29T01:43:05.350418595Z",
     "start_time": "2024-02-29T01:43:05.340228199Z"
    }
   },
   "id": "7d452ccf1de74418",
   "execution_count": 5
  },
  {
   "cell_type": "code",
   "outputs": [
    {
     "data": {
      "text/plain": "SearchResult(theorem=('@ C$bool$ ! | Vl1 @ C$bool$ ! | Vl2 @ @ C$min$ ==> @ @ C$min$ = @ C$list$ LENGTH Vl1 @ C$list$ LENGTH Vl2 @ @ C$bool$ /\\\\ @ @ C$min$ = @ C$list$ LENGTH @ C$list$ ZIP @ @ C$pair$ , Vl1 Vl2 @ C$list$ LENGTH Vl1 @ @ C$min$ = @ C$list$ LENGTH @ C$list$ ZIP @ @ C$pair$ , Vl1 Vl2 @ C$list$ LENGTH Vl2', '∀(l1 :α list) (l2 :β list). LENGTH l1 = LENGTH l2 ⇒ LENGTH (ZIP (l1,l2)) = LENGTH l1 ∧ LENGTH (ZIP (l1,l2)) = LENGTH l2'), status=<Status.OPEN: 'Open'>, proof=None, tree=InternalNode(goal='@ C$bool$ ! | Vl1 @ C$bool$ ! | Vl2 @ @ C$min$ ==> @ @ C$min$ = @ C$list$ LENGTH Vl1 @ C$list$ LENGTH Vl2 @ @ C$bool$ /\\\\ @ @ C$min$ = @ C$list$ LENGTH @ C$list$ ZIP @ @ C$pair$ , Vl1 Vl2 @ C$list$ LENGTH Vl1 @ @ C$min$ = @ C$list$ LENGTH @ C$list$ ZIP @ @ C$pair$ , Vl1 Vl2 @ C$list$ LENGTH Vl2', _status=<Status.OPEN: 'Open'>), total_time=24.318550089999917, tac_time=14.224278782000056, search_time=0.00034797199964486936, env_time=10.092693095998811, num_expansions=384, num_nodes=24)"
     },
     "execution_count": 6,
     "metadata": {},
     "output_type": "execute_result"
    }
   ],
   "source": [
    "test_trace"
   ],
   "metadata": {
    "collapsed": false,
    "ExecuteTime": {
     "end_time": "2024-02-29T01:43:07.977157667Z",
     "start_time": "2024-02-29T01:43:07.962089272Z"
    }
   },
   "id": "5fc249f496d25346",
   "execution_count": 6
  },
  {
   "cell_type": "code",
   "outputs": [
    {
     "data": {
      "text/plain": "['EQ_TAC',\n 'irule listTheory.MAP_MAP_o',\n 'irule boolTheory.bool_case_CONG',\n 'fs[boolTheory.ITSELF_UNIQUE, pairTheory.ELIM_PEXISTS, boolTheory.literal_case_RATOR, listTheory.FILTER_EQ_APPEND, listTheory.list_case_compute]',\n 'strip_tac',\n 'fs[listTheory.LENGTH_MAP, pairTheory.reflexive_LEX, boolTheory.PULL_FORALL, pairTheory.ELIM_UNCURRY, boolTheory.boolAxiom]',\n 'irule boolTheory.ITSELF_EQN_RWT',\n 'metis_tac[listTheory.LIST_REL_CONS1, listTheory.APPEND_EQ_SING, listTheory.LIST_EQ_REWRITE, listTheory.LIST_NOT_EQ, pairTheory.LEX_MONO]',\n 'strip_tac',\n 'rw[pairTheory.CLOSED_PAIR_EQ, listTheory.LIST_REL_CONS2, boolTheory.MONO_COND, boolTheory.SELECT_ELIM_THM, pairTheory.LEX_CONG]',\n 'drule listTheory.LIST_REL_CONS1',\n 'EQ_TAC',\n 'irule boolTheory.SKOLEM_THM',\n 'irule boolTheory.LEFT_FORALL_OR_THM',\n 'simp[listTheory.MAP_MAP_o, pairTheory.PAIR_REL_EQ, listTheory.LIST_REL_NIL, listTheory.list_Axiom_old, listTheory.EVERY_FILTER]',\n 'metis_tac[boolTheory.RES_EXISTS_FALSE, listTheory.list_case_eq, boolTheory.ITSELF_EQN_RWT, listTheory.MAP2_DEF, boolTheory.FORALL_itself]',\n 'irule listTheory.LENGTH_MAP2',\n 'EQ_TAC',\n 'fs[pairTheory.S_UNCURRY_R, listTheory.FLAT_compute, pairTheory.PAIR_EQ, listTheory.MEM_FILTER, listTheory.LIST_REL_NIL]',\n 'metis_tac[listTheory.LENGTH_EQ_NIL, boolTheory.SELECT_UNIQUE, listTheory.WF_LIST_PRED, listTheory.EL_restricted, listTheory.LENGTH_CONS]',\n 'strip_tac',\n 'metis_tac[boolTheory.UNWIND_FORALL_THM1, listTheory.FILTER_F, pairTheory.ELIM_PEXISTS_EVAL, listTheory.MAP2_APPEND, boolTheory.LEFT_AND_OVER_OR]',\n 'drule boolTheory.EQ_EXT',\n 'drule listTheory.list_Axiom_old',\n 'irule listTheory.WF_LIST_PRED',\n 'rw[listTheory.NULL_APPEND, listTheory.EXISTS_SIMP, boolTheory.ABS_SIMP, listTheory.MEM_APPEND, listTheory.list_case_compute]',\n 'strip_tac',\n 'drule listTheory.LIST_REL_ind',\n 'strip_tac',\n 'simp[listTheory.LIST_REL_strongind, boolTheory.LEFT_OR_OVER_AND, pairTheory.PAIR_FUN_THM, boolTheory.FUN_EQ_THM, listTheory.EVERY_SIMP]',\n 'simp[boolTheory.itself_Axiom, listTheory.EL_simp_restricted, listTheory.NOT_EXISTS, listTheory.MAP_EQ_SING, listTheory.EL_MAP]',\n 'metis_tac[listTheory.list_Axiom_old, listTheory.list_size_append, boolTheory.FUN_EQ_THM, listTheory.MAP_EQ_f, listTheory.NOT_EQ_LIST]',\n 'drule boolTheory.EXCLUDED_MIDDLE',\n 'irule boolTheory.LEFT_OR_EXISTS_THM',\n 'fs[listTheory.NULL, pairTheory.CLOSED_PAIR_EQ, boolTheory.LET_RAND, pairTheory.PAIR_REL_TRANS, pairTheory.UNCURRY_VAR]',\n 'strip_tac',\n 'irule pairTheory.PAIR_REL',\n 'fs[listTheory.FILTER_APPEND_DISTRIB, boolTheory.IMP_F, listTheory.FOLDL_CONG, boolTheory.IMP_F_EQ_F, listTheory.CONS]',\n 'metis_tac[boolTheory.FORALL_THM, listTheory.FOLDR_CONS, listTheory.SUM_eq_0, pairTheory.PAIR_FST_SND_EQ, listTheory.EXISTS_CONG]',\n 'strip_tac',\n 'irule listTheory.UNZIP_MAP',\n 'irule listTheory.LIST_REL_rules',\n 'irule listTheory.APPEND_NIL',\n 'fs[pairTheory.FST_PAIR_MAP, listTheory.NOT_EVERY, boolTheory.NOT_EXISTS_THM, listTheory.APPEND_11_LENGTH, listTheory.SING_HD]',\n 'fs[boolTheory.LEFT_OR_OVER_AND, boolTheory.AND_CONG, listTheory.LENGTH_EQ_NUM, listTheory.NULL, boolTheory.NOT_IMP]',\n 'irule boolTheory.boolAxiom',\n 'drule pairTheory.CURRY_UNCURRY_THM',\n 'Induct_on `l1`',\n 'rw[listTheory.EVERY_CONG, boolTheory.COND_EXPAND_OR, listTheory.LENGTH_EQ_SUM, pairTheory.PAIR_REL, boolTheory.BOTH_FORALL_IMP_THM]',\n 'Induct_on `l1`',\n 'EQ_TAC',\n 'fs[boolTheory.literal_case_RAND, pairTheory.pair_induction, pairTheory.SND_PAIR_MAP, boolTheory.SELECT_REFL, pairTheory.LET2_RAND]',\n 'simp[listTheory.LIST_REL_CONS1, boolTheory.literal_case_RATOR, boolTheory.LET_RAND, listTheory.MAP_EQ_APPEND, listTheory.LIST_REL_strongind]',\n 'Induct_on `l1`',\n 'fs[boolTheory.EXCLUDED_MIDDLE, boolTheory.MONO_IMP, listTheory.EL_compute, pairTheory.LET2_RATOR, pairTheory.datatype_pair]',\n 'strip_tac',\n 'drule pairTheory.UNCURRY_CURRY_THM',\n 'Induct_on `l2`',\n 'drule listTheory.list_size_cong',\n 'strip_tac',\n 'metis_tac[boolTheory.IMP_CONG, pairTheory.PAIR_MAP_CONG, boolTheory.COND_ABS, boolTheory.LEFT_FORALL_OR_THM, boolTheory.OR_IMP_THM]',\n 'metis_tac[boolTheory.RIGHT_FORALL_IMP_THM, boolTheory.RIGHT_FORALL_OR_THM, listTheory.EL_simp, listTheory.FILTER_APPEND_DISTRIB, boolTheory.MONO_NOT]',\n 'strip_tac',\n 'fs[listTheory.EXISTS_APPEND, listTheory.MONO_EXISTS, listTheory.MEM_FLAT, listTheory.MEM_FILTER, pairTheory.FORALL_UNCURRY]']"
     },
     "execution_count": 11,
     "metadata": {},
     "output_type": "execute_result"
    }
   ],
   "source": [
    "[a.tactic for a in test_trace.tree.out_edges]"
   ],
   "metadata": {
    "collapsed": false,
    "ExecuteTime": {
     "end_time": "2024-02-29T01:57:00.293156902Z",
     "start_time": "2024-02-29T01:57:00.289954399Z"
    }
   },
   "id": "87dbee94a9cbb532",
   "execution_count": 11
  },
  {
   "cell_type": "code",
   "outputs": [
    {
     "data": {
      "text/plain": "[[InternalNode(goal='@ C$bool$ ! | Vl1 @ C$bool$ ! | Vl2 @ @ C$min$ ==> @ @ C$min$ = @ C$list$ LENGTH Vl1 @ C$list$ LENGTH Vl2 @ @ C$min$ = @ C$list$ LENGTH @ C$list$ ZIP @ @ C$pair$ , Vl1 Vl2 @ C$list$ LENGTH Vl2', _status=<Status.OPEN: 'Open'>)],\n [InternalNode(goal='@ C$bool$ ! | Vl2 @ @ C$min$ ==> @ @ C$min$ = @ C$list$ LENGTH Vl1 @ C$list$ LENGTH Vl2 @ @ C$bool$ /\\\\ @ @ C$min$ = @ C$list$ LENGTH @ C$list$ ZIP @ @ C$pair$ , Vl1 Vl2 @ C$list$ LENGTH Vl1 @ @ C$min$ = @ C$list$ LENGTH @ C$list$ ZIP @ @ C$pair$ , Vl1 Vl2 @ C$list$ LENGTH Vl2', _status=<Status.OPEN: 'Open'>)],\n [InternalNode(goal='@ C$bool$ ! | Vl1 @ C$bool$ ! | Vl2 @ @ C$min$ ==> @ @ C$min$ = @ C$list$ LENGTH Vl1 @ C$list$ LENGTH Vl2 @ @ C$min$ = @ C$list$ LENGTH @ C$list$ ZIP @ @ C$pair$ , Vl1 Vl2 @ C$list$ LENGTH Vl2', _status=<Status.OPEN: 'Open'>)],\n [InternalNode(goal='@ C$bool$ ! | Vl2 @ @ C$min$ ==> @ @ C$min$ = @ C$list$ LENGTH Vl1 @ C$list$ LENGTH Vl2 @ @ C$bool$ /\\\\ @ @ C$min$ = @ C$list$ LENGTH @ C$list$ ZIP @ @ C$pair$ , Vl1 Vl2 @ C$list$ LENGTH Vl1 @ @ C$min$ = @ C$list$ LENGTH @ C$list$ ZIP @ @ C$pair$ , Vl1 Vl2 @ C$list$ LENGTH Vl2', _status=<Status.OPEN: 'Open'>)],\n [InternalNode(goal='@ @ C$min$ ==> @ @ C$min$ = @ C$list$ LENGTH Vl1 @ C$list$ LENGTH Vl2 @ @ C$min$ = @ C$list$ LENGTH @ C$list$ ZIP @ @ C$pair$ , Vl1 Vl2 @ C$list$ LENGTH Vl2', _status=<Status.OPEN: 'Open'>)],\n [InternalNode(goal='@ C$bool$ ! | Vl1 @ C$bool$ ! | Vl2 @ @ C$min$ ==> @ @ C$min$ = @ C$list$ LENGTH Vl1 @ C$list$ LENGTH Vl2 @ @ C$min$ = @ C$list$ LENGTH @ C$list$ ZIP @ @ C$pair$ , Vl1 Vl2 @ C$list$ LENGTH Vl2', _status=<Status.OPEN: 'Open'>)],\n [InternalNode(goal='@ C$bool$ ! | Vl1 @ C$bool$ ! | Vl2 @ @ C$min$ ==> @ @ C$min$ = @ C$list$ LENGTH Vl1 @ C$list$ LENGTH Vl2 @ @ C$min$ = @ C$list$ LENGTH @ C$list$ ZIP @ @ C$pair$ , Vl1 Vl2 @ C$list$ LENGTH Vl2', _status=<Status.OPEN: 'Open'>)],\n [InternalNode(goal='@ C$bool$ ! | Vl2 @ @ C$min$ ==> @ @ C$min$ = @ C$list$ LENGTH Vl1 @ C$list$ LENGTH Vl2 @ @ C$bool$ /\\\\ @ @ C$min$ = @ C$list$ LENGTH @ C$list$ ZIP @ @ C$pair$ , Vl1 Vl2 @ C$list$ LENGTH Vl1 @ @ C$min$ = @ C$list$ LENGTH @ C$list$ ZIP @ @ C$pair$ , Vl1 Vl2 @ C$list$ LENGTH Vl2', _status=<Status.OPEN: 'Open'>)],\n [InternalNode(goal='@ C$bool$ ! | Vl2 @ @ C$min$ ==> @ @ C$min$ = @ C$list$ LENGTH Vl1 @ C$list$ LENGTH Vl2 @ @ C$bool$ /\\\\ @ @ C$min$ = @ C$list$ LENGTH @ C$list$ ZIP @ @ C$pair$ , Vl1 Vl2 @ C$list$ LENGTH Vl1 @ @ C$min$ = @ C$list$ LENGTH @ C$list$ ZIP @ @ C$pair$ , Vl1 Vl2 @ C$list$ LENGTH Vl2', _status=<Status.OPEN: 'Open'>)],\n [InternalNode(goal='@ C$bool$ ! | Vl2 @ @ C$min$ ==> @ @ C$min$ = @ C$list$ LENGTH Vl1 @ C$list$ LENGTH Vl2 @ @ C$bool$ /\\\\ @ @ C$min$ = @ C$list$ LENGTH @ C$list$ ZIP @ @ C$pair$ , Vl1 Vl2 @ C$list$ LENGTH Vl1 @ @ C$min$ = @ C$list$ LENGTH @ C$list$ ZIP @ @ C$pair$ , Vl1 Vl2 @ C$list$ LENGTH Vl2', _status=<Status.OPEN: 'Open'>)],\n [InternalNode(goal='@ C$bool$ ! | Vl1 @ C$bool$ ! | Vl2 @ @ C$min$ ==> @ @ C$min$ = @ C$list$ LENGTH Vl1 @ C$list$ LENGTH Vl2 @ @ C$min$ = @ C$list$ LENGTH @ C$list$ ZIP @ @ C$pair$ , Vl1 Vl2 @ C$list$ LENGTH Vl2', _status=<Status.OPEN: 'Open'>)],\n [InternalNode(goal='@ C$bool$ ! | Vl1 @ C$bool$ ! | Vl2 @ @ C$min$ ==> @ @ C$min$ = @ C$list$ LENGTH Vl1 @ C$list$ LENGTH Vl2 @ @ C$min$ = @ C$list$ LENGTH @ C$list$ ZIP @ @ C$pair$ , Vl1 Vl2 @ C$list$ LENGTH Vl2', _status=<Status.OPEN: 'Open'>)],\n [InternalNode(goal='@ C$bool$ ! | Vl1 @ C$bool$ ! | Vl2 @ @ C$min$ ==> @ @ C$min$ = @ C$list$ LENGTH Vl1 @ C$list$ LENGTH Vl2 @ @ C$min$ = @ C$list$ LENGTH @ C$list$ ZIP @ @ C$pair$ , Vl1 Vl2 @ C$list$ LENGTH Vl2', _status=<Status.OPEN: 'Open'>)],\n [InternalNode(goal='@ C$bool$ ! | Vl2 @ @ C$min$ ==> @ @ C$min$ = @ C$list$ LENGTH Vl1 @ C$list$ LENGTH Vl2 @ @ C$bool$ /\\\\ @ @ C$min$ = @ C$list$ LENGTH @ C$list$ ZIP @ @ C$pair$ , Vl1 Vl2 @ C$list$ LENGTH Vl1 @ @ C$min$ = @ C$list$ LENGTH @ C$list$ ZIP @ @ C$pair$ , Vl1 Vl2 @ C$list$ LENGTH Vl2', _status=<Status.OPEN: 'Open'>)],\n [InternalNode(goal='@ C$bool$ ! | Vl1 @ C$bool$ ! | Vl2 @ @ C$min$ ==> @ @ C$min$ = @ C$list$ LENGTH Vl1 @ C$list$ LENGTH Vl2 @ @ C$min$ = @ C$list$ LENGTH @ C$list$ ZIP @ @ C$pair$ , Vl1 Vl2 @ C$list$ LENGTH Vl2', _status=<Status.OPEN: 'Open'>)],\n [InternalNode(goal='@ C$bool$ ! | Vl2 @ @ C$min$ ==> @ @ C$min$ = @ C$list$ LENGTH Vl1 @ C$list$ LENGTH Vl2 @ @ C$bool$ /\\\\ @ @ C$min$ = @ C$list$ LENGTH @ C$list$ ZIP @ @ C$pair$ , Vl1 Vl2 @ C$list$ LENGTH Vl1 @ @ C$min$ = @ C$list$ LENGTH @ C$list$ ZIP @ @ C$pair$ , Vl1 Vl2 @ C$list$ LENGTH Vl2', _status=<Status.OPEN: 'Open'>)],\n [InternalNode(goal='@ C$bool$ ! | Vl1 @ C$bool$ ! | Vl2 @ @ C$min$ ==> @ @ C$min$ = @ C$list$ LENGTH Vl1 @ C$list$ LENGTH Vl2 @ @ C$min$ = @ C$list$ LENGTH @ C$list$ ZIP @ @ C$pair$ , Vl1 Vl2 @ C$list$ LENGTH Vl2', _status=<Status.OPEN: 'Open'>)],\n [InternalNode(goal='@ C$bool$ ! | Vl1 @ C$bool$ ! | Vl2 @ @ C$min$ ==> @ @ C$min$ = @ C$list$ LENGTH Vl1 @ C$list$ LENGTH Vl2 @ @ C$min$ = @ C$list$ LENGTH @ C$list$ ZIP @ @ C$pair$ , Vl1 Vl2 @ C$list$ LENGTH Vl2', _status=<Status.OPEN: 'Open'>)],\n [InternalNode(goal='@ C$bool$ ! | Vl2 @ @ C$min$ ==> @ @ C$min$ = @ C$list$ LENGTH C$list$ NIL @ C$list$ LENGTH Vl2 @ @ C$bool$ /\\\\ @ @ C$min$ = @ C$list$ LENGTH @ C$list$ ZIP @ @ C$pair$ , C$list$ NIL Vl2 @ C$list$ LENGTH C$list$ NIL @ @ C$min$ = @ C$list$ LENGTH @ C$list$ ZIP @ @ C$pair$ , C$list$ NIL Vl2 @ C$list$ LENGTH Vl2', _status=<Status.OPEN: 'Open'>),\n  InternalNode(goal='@ @ C$min$ ==> @ C$bool$ ! | Vl2 @ @ C$min$ ==> @ @ C$min$ = @ C$list$ LENGTH Vl1 @ C$list$ LENGTH Vl2 @ @ C$bool$ /\\\\ @ @ C$min$ = @ C$list$ LENGTH @ C$list$ ZIP @ @ C$pair$ , Vl1 Vl2 @ C$list$ LENGTH Vl1 @ @ C$min$ = @ C$list$ LENGTH @ C$list$ ZIP @ @ C$pair$ , Vl1 Vl2 @ C$list$ LENGTH Vl2 @ C$bool$ ! | Vh @ C$bool$ ! | Vl2 @ @ C$min$ ==> @ @ C$min$ = @ C$list$ LENGTH @ @ C$list$ CONS Vh Vl1 @ C$list$ LENGTH Vl2 @ @ C$bool$ /\\\\ @ @ C$min$ = @ C$list$ LENGTH @ C$list$ ZIP @ @ C$pair$ , @ @ C$list$ CONS Vh Vl1 Vl2 @ C$list$ LENGTH @ @ C$list$ CONS Vh Vl1 @ @ C$min$ = @ C$list$ LENGTH @ C$list$ ZIP @ @ C$pair$ , @ @ C$list$ CONS Vh Vl1 Vl2 @ C$list$ LENGTH Vl2', _status=<Status.OPEN: 'Open'>)],\n [InternalNode(goal='@ @ C$min$ ==> @ @ C$min$ = @ C$list$ LENGTH Vl1 @ C$list$ LENGTH Vl2 @ @ C$min$ = @ C$list$ LENGTH @ C$list$ ZIP @ @ C$pair$ , Vl1 Vl2 @ C$list$ LENGTH Vl2', _status=<Status.OPEN: 'Open'>)],\n [InternalNode(goal='@ C$bool$ ! | Vl2 @ @ C$min$ ==> @ @ C$min$ = @ C$list$ LENGTH C$list$ NIL @ C$list$ LENGTH Vl2 @ @ C$bool$ /\\\\ @ @ C$min$ = @ C$list$ LENGTH @ C$list$ ZIP @ @ C$pair$ , C$list$ NIL Vl2 @ C$list$ LENGTH C$list$ NIL @ @ C$min$ = @ C$list$ LENGTH @ C$list$ ZIP @ @ C$pair$ , C$list$ NIL Vl2 @ C$list$ LENGTH Vl2', _status=<Status.OPEN: 'Open'>),\n  InternalNode(goal='@ @ C$min$ ==> @ C$bool$ ! | Vl2 @ @ C$min$ ==> @ @ C$min$ = @ C$list$ LENGTH Vl1 @ C$list$ LENGTH Vl2 @ @ C$bool$ /\\\\ @ @ C$min$ = @ C$list$ LENGTH @ C$list$ ZIP @ @ C$pair$ , Vl1 Vl2 @ C$list$ LENGTH Vl1 @ @ C$min$ = @ C$list$ LENGTH @ C$list$ ZIP @ @ C$pair$ , Vl1 Vl2 @ C$list$ LENGTH Vl2 @ C$bool$ ! | Vh @ C$bool$ ! | Vl2 @ @ C$min$ ==> @ @ C$min$ = @ C$list$ LENGTH @ @ C$list$ CONS Vh Vl1 @ C$list$ LENGTH Vl2 @ @ C$bool$ /\\\\ @ @ C$min$ = @ C$list$ LENGTH @ C$list$ ZIP @ @ C$pair$ , @ @ C$list$ CONS Vh Vl1 Vl2 @ C$list$ LENGTH @ @ C$list$ CONS Vh Vl1 @ @ C$min$ = @ C$list$ LENGTH @ C$list$ ZIP @ @ C$pair$ , @ @ C$list$ CONS Vh Vl1 Vl2 @ C$list$ LENGTH Vl2', _status=<Status.OPEN: 'Open'>)],\n [InternalNode(goal='@ C$bool$ ! | Vl1 @ C$bool$ ! | Vl2 @ @ C$min$ ==> @ @ C$min$ = @ C$list$ LENGTH Vl1 @ C$list$ LENGTH Vl2 @ @ C$min$ = @ C$list$ LENGTH @ C$list$ ZIP @ @ C$pair$ , Vl1 Vl2 @ C$list$ LENGTH Vl2', _status=<Status.OPEN: 'Open'>)],\n [InternalNode(goal='@ C$bool$ ! | Vl1 @ C$bool$ ! | Vl2 @ @ C$min$ ==> @ @ C$min$ = @ C$list$ LENGTH Vl1 @ C$list$ LENGTH Vl2 @ @ C$min$ = @ C$list$ LENGTH @ C$list$ ZIP @ @ C$pair$ , Vl1 Vl2 @ C$list$ LENGTH Vl2', _status=<Status.OPEN: 'Open'>)],\n [InternalNode(goal='@ C$bool$ ! | Vl2 @ @ C$min$ ==> @ @ C$min$ = @ C$list$ LENGTH C$list$ NIL @ C$list$ LENGTH Vl2 @ @ C$bool$ /\\\\ @ @ C$min$ = @ C$list$ LENGTH @ C$list$ ZIP @ @ C$pair$ , C$list$ NIL Vl2 @ C$list$ LENGTH C$list$ NIL @ @ C$min$ = @ C$list$ LENGTH @ C$list$ ZIP @ @ C$pair$ , C$list$ NIL Vl2 @ C$list$ LENGTH Vl2', _status=<Status.OPEN: 'Open'>),\n  InternalNode(goal='@ @ C$min$ ==> @ C$bool$ ! | Vl2 @ @ C$min$ ==> @ @ C$min$ = @ C$list$ LENGTH Vl1 @ C$list$ LENGTH Vl2 @ @ C$bool$ /\\\\ @ @ C$min$ = @ C$list$ LENGTH @ C$list$ ZIP @ @ C$pair$ , Vl1 Vl2 @ C$list$ LENGTH Vl1 @ @ C$min$ = @ C$list$ LENGTH @ C$list$ ZIP @ @ C$pair$ , Vl1 Vl2 @ C$list$ LENGTH Vl2 @ C$bool$ ! | Vh @ C$bool$ ! | Vl2 @ @ C$min$ ==> @ @ C$min$ = @ C$list$ LENGTH @ @ C$list$ CONS Vh Vl1 @ C$list$ LENGTH Vl2 @ @ C$bool$ /\\\\ @ @ C$min$ = @ C$list$ LENGTH @ C$list$ ZIP @ @ C$pair$ , @ @ C$list$ CONS Vh Vl1 Vl2 @ C$list$ LENGTH @ @ C$list$ CONS Vh Vl1 @ @ C$min$ = @ C$list$ LENGTH @ C$list$ ZIP @ @ C$pair$ , @ @ C$list$ CONS Vh Vl1 Vl2 @ C$list$ LENGTH Vl2', _status=<Status.OPEN: 'Open'>)],\n [InternalNode(goal='@ C$bool$ ! | Vl1 @ C$bool$ ! | Vl2 @ @ C$min$ ==> @ @ C$min$ = @ C$list$ LENGTH Vl1 @ C$list$ LENGTH Vl2 @ @ C$min$ = @ C$list$ LENGTH @ C$list$ ZIP @ @ C$pair$ , Vl1 Vl2 @ C$list$ LENGTH Vl2', _status=<Status.OPEN: 'Open'>)],\n [InternalNode(goal='@ C$bool$ ! | Vl2 @ @ C$min$ ==> @ @ C$min$ = @ C$list$ LENGTH Vl1 @ C$list$ LENGTH Vl2 @ @ C$bool$ /\\\\ @ @ C$min$ = @ C$list$ LENGTH @ C$list$ ZIP @ @ C$pair$ , Vl1 Vl2 @ C$list$ LENGTH Vl1 @ @ C$min$ = @ C$list$ LENGTH @ C$list$ ZIP @ @ C$pair$ , Vl1 Vl2 @ C$list$ LENGTH Vl2', _status=<Status.OPEN: 'Open'>)],\n [InternalNode(goal='@ C$bool$ ! | Vl1 @ @ C$min$ ==> @ @ C$min$ = @ C$list$ LENGTH Vl1 @ C$list$ LENGTH C$list$ NIL @ @ C$bool$ /\\\\ @ @ C$min$ = @ C$list$ LENGTH @ C$list$ ZIP @ @ C$pair$ , Vl1 C$list$ NIL @ C$list$ LENGTH Vl1 @ @ C$min$ = @ C$list$ LENGTH @ C$list$ ZIP @ @ C$pair$ , Vl1 C$list$ NIL @ C$list$ LENGTH C$list$ NIL', _status=<Status.OPEN: 'Open'>),\n  InternalNode(goal='@ @ C$min$ ==> @ C$bool$ ! | Vl1 @ @ C$min$ ==> @ @ C$min$ = @ C$list$ LENGTH Vl1 @ C$list$ LENGTH Vl2 @ @ C$bool$ /\\\\ @ @ C$min$ = @ C$list$ LENGTH @ C$list$ ZIP @ @ C$pair$ , Vl1 Vl2 @ C$list$ LENGTH Vl1 @ @ C$min$ = @ C$list$ LENGTH @ C$list$ ZIP @ @ C$pair$ , Vl1 Vl2 @ C$list$ LENGTH Vl2 @ C$bool$ ! | Vh @ C$bool$ ! | Vl1 @ @ C$min$ ==> @ @ C$min$ = @ C$list$ LENGTH Vl1 @ C$list$ LENGTH @ @ C$list$ CONS Vh Vl2 @ @ C$bool$ /\\\\ @ @ C$min$ = @ C$list$ LENGTH @ C$list$ ZIP @ @ C$pair$ , Vl1 @ @ C$list$ CONS Vh Vl2 @ C$list$ LENGTH Vl1 @ @ C$min$ = @ C$list$ LENGTH @ C$list$ ZIP @ @ C$pair$ , Vl1 @ @ C$list$ CONS Vh Vl2 @ C$list$ LENGTH @ @ C$list$ CONS Vh Vl2', _status=<Status.OPEN: 'Open'>)],\n [InternalNode(goal='@ C$bool$ ! | Vl2 @ @ C$min$ ==> @ @ C$min$ = @ C$list$ LENGTH Vl1 @ C$list$ LENGTH Vl2 @ @ C$bool$ /\\\\ @ @ C$min$ = @ C$list$ LENGTH @ C$list$ ZIP @ @ C$pair$ , Vl1 Vl2 @ C$list$ LENGTH Vl1 @ @ C$min$ = @ C$list$ LENGTH @ C$list$ ZIP @ @ C$pair$ , Vl1 Vl2 @ C$list$ LENGTH Vl2', _status=<Status.OPEN: 'Open'>)],\n [InternalNode(goal='@ C$bool$ ! | Vl2 @ @ C$min$ ==> @ @ C$min$ = @ C$list$ LENGTH Vl1 @ C$list$ LENGTH Vl2 @ @ C$bool$ /\\\\ @ @ C$min$ = @ C$list$ LENGTH @ C$list$ ZIP @ @ C$pair$ , Vl1 Vl2 @ C$list$ LENGTH Vl1 @ @ C$min$ = @ C$list$ LENGTH @ C$list$ ZIP @ @ C$pair$ , Vl1 Vl2 @ C$list$ LENGTH Vl2', _status=<Status.OPEN: 'Open'>)]]"
     },
     "execution_count": 21,
     "metadata": {},
     "output_type": "execute_result"
    }
   ],
   "source": [
    "from experiments.end_to_end.proof_node import ErrorNode\n",
    "\n",
    "[a.dst for a in test_trace.tree.out_edges if not isinstance(a.dst[0], ErrorNode)]"
   ],
   "metadata": {
    "collapsed": false,
    "ExecuteTime": {
     "end_time": "2024-02-29T01:58:00.985146113Z",
     "start_time": "2024-02-29T01:58:00.982159086Z"
    }
   },
   "id": "d0ccb97c247f3362",
   "execution_count": 21
  },
  {
   "cell_type": "code",
   "outputs": [
    {
     "data": {
      "text/plain": "InternalNode(goal='@ C$bool$ ! | Vl1 @ C$bool$ ! | Vl2 @ @ C$min$ ==> @ @ C$min$ = @ C$list$ LENGTH Vl1 @ C$list$ LENGTH Vl2 @ @ C$bool$ /\\\\ @ @ C$min$ = @ C$list$ LENGTH @ C$list$ ZIP @ @ C$pair$ , Vl1 Vl2 @ C$list$ LENGTH Vl1 @ @ C$min$ = @ C$list$ LENGTH @ C$list$ ZIP @ @ C$pair$ , Vl1 Vl2 @ C$list$ LENGTH Vl2', _status=<Status.OPEN: 'Open'>)"
     },
     "execution_count": 24,
     "metadata": {},
     "output_type": "execute_result"
    }
   ],
   "source": [
    "test_trace.tree\n"
   ],
   "metadata": {
    "collapsed": false,
    "ExecuteTime": {
     "end_time": "2024-02-29T01:58:36.775612606Z",
     "start_time": "2024-02-29T01:58:36.772088028Z"
    }
   },
   "id": "6625f4f06793a3ef",
   "execution_count": 24
  }
 ],
 "metadata": {
  "kernelspec": {
   "display_name": "Python 3",
   "language": "python",
   "name": "python3"
  },
  "language_info": {
   "codemirror_mode": {
    "name": "ipython",
    "version": 2
   },
   "file_extension": ".py",
   "mimetype": "text/x-python",
   "name": "python",
   "nbconvert_exporter": "python",
   "pygments_lexer": "ipython2",
   "version": "2.7.6"
  }
 },
 "nbformat": 4,
 "nbformat_minor": 5
}
