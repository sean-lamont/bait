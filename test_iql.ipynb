{
 "cells": [
  {
   "cell_type": "code",
   "execution_count": null,
   "metadata": {
    "collapsed": true
   },
   "outputs": [],
   "source": [
    "from refactor.dpo.model import DPOTrainModule\n",
    "\n",
    "tac_gen_first = DPOTrainModule.load(\n",
    "      'experiments/runs/lean_dojo_dpo/dpo_beamsearch_2023_12_05/10_09_00/checkpoints/epoch=0-step=10000-Pass@1_val=0.46.ckpt', device='cuda', freeze=True\n",
    ")\n"
   ]
  },
  {
   "cell_type": "code",
   "execution_count": null,
   "outputs": [],
   "source": [
    "# generate input to test\n",
    "\n",
    "tokenizer = tac_gen_first.tokenizer\n"
   ],
   "metadata": {
    "collapsed": false
   }
  },
  {
   "cell_type": "code",
   "execution_count": null,
   "outputs": [],
   "source": [
    "state = 'E : Type u_3,\\n' \\\n",
    "      '_inst_1 : normed_add_comm_group E,\\n' \\\n",
    "      'f : ℝ → E,\\n' \\\n",
    "      'a b c d : ℝ,\\n' \\\n",
    "      'μ : measure ℝ,\\n' \\\n",
    "      'h : [c, d] ⊆ [a, b],\\n' \\\n",
    "      'hf : integrable_on f (Ι a b) μ,\\n' \\\n",
    "      'hc : ¬c = d\\n' \\\n",
    "      '⊢ integrable_on f (Ι c d) μ'"
   ],
   "metadata": {
    "collapsed": false
   }
  },
  {
   "cell_type": "code",
   "execution_count": null,
   "outputs": [],
   "source": [
    "tokenized_input = tokenizer(state, return_tensors=\"pt\", max_length=2048, truncation=True)"
   ],
   "metadata": {
    "collapsed": false
   }
  },
  {
   "cell_type": "code",
   "execution_count": null,
   "outputs": [],
   "source": [
    "tactic = 'have : <a>measure_theory.integrable_on</a> f (Ι c d) μ := hf.mono_set <a>set.Ioo_subset_uIoc_self</a>'"
   ],
   "metadata": {
    "collapsed": false
   }
  },
  {
   "cell_type": "code",
   "execution_count": null,
   "outputs": [],
   "source": [
    "tokenized_target =  tokenizer(tactic, return_tensors=\"pt\", max_length=2048, truncation=True)\n"
   ],
   "metadata": {
    "collapsed": false
   }
  },
  {
   "cell_type": "code",
   "execution_count": null,
   "outputs": [],
   "source": [
    "import torch\n",
    "rewards = torch.zeros(tokenized_target.input_ids.shape[1] - 1)"
   ],
   "metadata": {
    "collapsed": false
   }
  },
  {
   "cell_type": "code",
   "execution_count": null,
   "outputs": [],
   "source": [
    "rewards[-1] = 1"
   ],
   "metadata": {
    "collapsed": false
   }
  },
  {
   "cell_type": "code",
   "execution_count": null,
   "outputs": [],
   "source": [
    "rewards = rewards.unsqueeze(0)"
   ],
   "metadata": {
    "collapsed": false
   }
  },
  {
   "cell_type": "code",
   "execution_count": null,
   "outputs": [],
   "source": [
    "rewards.shape"
   ],
   "metadata": {
    "collapsed": false
   }
  },
  {
   "cell_type": "code",
   "execution_count": null,
   "outputs": [],
   "source": [
    "input = {'tokens': tokenized_input.input_ids.cuda(), 'attn_mask': tokenized_input.attention_mask.cuda(),\n",
    "         'target': tokenized_target.input_ids.cuda(), 'target_mask': tokenized_target.attention_mask.cuda(),\n",
    "         'rewards': rewards.cuda()}"
   ],
   "metadata": {
    "collapsed": false
   }
  },
  {
   "cell_type": "code",
   "execution_count": null,
   "outputs": [],
   "source": [
    "from models.iql_model import PerTokenIQL\n",
    "\n",
    "\n",
    "\n",
    "iql = PerTokenIQL(tac_gen_first.generator, tac_gen_first.tokenizer).cuda()\n",
    "\n",
    "iql.get_loss(input)"
   ],
   "metadata": {
    "collapsed": false
   }
  }
 ],
 "metadata": {
  "kernelspec": {
   "display_name": "Python 3",
   "language": "python",
   "name": "python3"
  },
  "language_info": {
   "codemirror_mode": {
    "name": "ipython",
    "version": 2
   },
   "file_extension": ".py",
   "mimetype": "text/x-python",
   "name": "python",
   "nbconvert_exporter": "python",
   "pygments_lexer": "ipython2",
   "version": "2.7.6"
  }
 },
 "nbformat": 4,
 "nbformat_minor": 0
}
