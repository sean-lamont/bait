{
 "cells": [
  {
   "cell_type": "code",
   "execution_count": null,
   "metadata": {
    "collapsed": true
   },
   "outputs": [],
   "source": [
    "from data.holist.utils.io_util import read_protos\n",
    "from experiments.holist.deephol_pb2 import ProofLog\n",
    "from environments.holist.proof_assistant_pb2 import TheoremDatabase\n",
    "from refactor.holist_env import HOListEnv\n",
    "\n",
    "gen = read_protos('data/holist/theorem_database_v1.1.textpb', TheoremDatabase)\n",
    "# gen = read_protos('data/holist/raw_data/hollightdata/final/proofs/human/train/prooflogs-test-sample.pbtxt', ProofLog)\n",
    "for t in gen:\n",
    "    # print(t)\n",
    "    break"
   ]
  },
  {
   "cell_type": "code",
   "execution_count": null,
   "outputs": [],
   "source": [
    "import environments.holist.proof_assistant_pb2"
   ],
   "metadata": {
    "collapsed": false
   }
  },
  {
   "cell_type": "code",
   "execution_count": null,
   "outputs": [],
   "source": [
    "len(t.theorems)"
   ],
   "metadata": {
    "collapsed": false
   }
  },
  {
   "cell_type": "code",
   "execution_count": null,
   "outputs": [],
   "source": [
    "t.t"
   ],
   "metadata": {
    "collapsed": false
   }
  },
  {
   "cell_type": "code",
   "execution_count": null,
   "outputs": [],
   "source": [
    "thm = t.nodes[0].goal"
   ],
   "metadata": {
    "collapsed": false
   }
  },
  {
   "cell_type": "code",
   "execution_count": null,
   "outputs": [],
   "source": [
    "thm"
   ],
   "metadata": {
    "collapsed": false
   }
  },
  {
   "cell_type": "code",
   "execution_count": null,
   "outputs": [],
   "source": [
    "thm"
   ],
   "metadata": {
    "collapsed": false
   }
  },
  {
   "cell_type": "code",
   "execution_count": null,
   "outputs": [],
   "source": [
    "env = HOListEnv((thm, 'data/holist/theorem_database_v1.1.textpb'), 100)"
   ],
   "metadata": {
    "collapsed": false
   }
  },
  {
   "cell_type": "code",
   "execution_count": null,
   "outputs": [],
   "source": [
    "env.__enter__()"
   ],
   "metadata": {
    "collapsed": false
   }
  },
  {
   "cell_type": "code",
   "execution_count": null,
   "outputs": [],
   "source": [
    "from environments.holist import proof_assistant_pb2\n",
    "tactic = 'X_GEN_TAC `(v (fun A (fun A A)) add)`'\n",
    "# tactic = 'BETA_TAC'\n",
    "theorem = env.thm\n",
    "theorem.conclusion\n",
    "holist_request = proof_assistant_pb2.ApplyTacticRequest(tactic=tactic, goal=theorem)\n",
    "resp = env.hol_wrapper.ApplyTactic(holist_request)\n",
    "resp"
   ],
   "metadata": {
    "collapsed": false
   }
  },
  {
   "cell_type": "code",
   "execution_count": null,
   "outputs": [],
   "source": [
    "resp.goals"
   ],
   "metadata": {
    "collapsed": false
   }
  },
  {
   "cell_type": "code",
   "execution_count": null,
   "outputs": [],
   "source": [
    "print (resp.goals.goals[0].pretty_printed)"
   ],
   "metadata": {
    "collapsed": false
   }
  },
  {
   "cell_type": "code",
   "execution_count": null,
   "outputs": [],
   "source": [
    "tactic = 'X_GEN_TAC `(v (fun A (fun A A)) mul)`'\n",
    "theorem = resp.goals.goals[0]\n",
    "holist_request = proof_assistant_pb2.ApplyTacticRequest(tactic=tactic, goal=theorem)\n",
    "resp = env.hol_wrapper.ApplyTactic(holist_request)\n",
    "resp\n"
   ],
   "metadata": {
    "collapsed": false
   }
  },
  {
   "cell_type": "code",
   "execution_count": null,
   "outputs": [],
   "source": [
    "print (resp.goals.goals[0].pretty_printed)"
   ],
   "metadata": {
    "collapsed": false
   }
  },
  {
   "cell_type": "code",
   "execution_count": null,
   "outputs": [],
   "source": [
    "tactic = 'X_GEN_TAC `(v A n0)`'\n",
    "theorem = resp.goals.goals[0]\n",
    "holist_request = proof_assistant_pb2.ApplyTacticRequest(tactic=tactic, goal=theorem)\n",
    "resp = env.hol_wrapper.ApplyTactic(holist_request)\n",
    "print (resp.goals.goals[0].pretty_printed)"
   ],
   "metadata": {
    "collapsed": false
   }
  },
  {
   "cell_type": "code",
   "execution_count": null,
   "outputs": [],
   "source": [
    "print (resp.goals.goals[0].pretty_printed)"
   ],
   "metadata": {
    "collapsed": false
   }
  },
  {
   "cell_type": "code",
   "execution_count": null,
   "outputs": [],
   "source": [
    "tactic = 'DISCH_TAC'\n",
    "theorem = resp.goals.goals[0]\n",
    "holist_request = proof_assistant_pb2.ApplyTacticRequest(tactic=tactic, goal=theorem)\n",
    "resp = env.hol_wrapper.ApplyTactic(holist_request)\n",
    "print (resp)"
   ],
   "metadata": {
    "collapsed": false
   }
  },
  {
   "cell_type": "code",
   "execution_count": null,
   "outputs": [],
   "source": [
    "# pretty printed goal includes hypotheses!\n",
    "print (resp.goals.goals[0].pretty_printed)"
   ],
   "metadata": {
    "collapsed": false
   }
  },
  {
   "cell_type": "code",
   "execution_count": null,
   "outputs": [],
   "source": [
    "# 'UNKNOWN' tactic parameter (0)\n",
    "tactic = 'RAW_POP_TAC 0'\n",
    "theorem = resp.goals.goals[0]\n",
    "holist_request = proof_assistant_pb2.ApplyTacticRequest(tactic=tactic, goal=theorem)\n",
    "resp = env.hol_wrapper.ApplyTactic(holist_request)\n",
    "print (resp)"
   ],
   "metadata": {
    "collapsed": false
   }
  },
  {
   "cell_type": "code",
   "execution_count": null,
   "outputs": [],
   "source": [
    "print (resp.goals.goals[0].pretty_printed)"
   ],
   "metadata": {
    "collapsed": false
   }
  },
  {
   "cell_type": "code",
   "execution_count": null,
   "outputs": [],
   "source": [
    "# Can't add theorems with hypotheses. Can't make arbitrary assumptions. Quite restrictive..\n",
    "\n",
    "# new_thm = proof_assistant_pb2.Theorem(hypotheses=[\"(a (a (c (fun (bool) (fun (bool) (bool))) /\\\\) (a (c (fun (fun A (bool)) (bool)) !) (l (v A x) (a (c (fun (fun A (bool)) (bool)) !) (l (v A y) (a (c (fun (fun A (bool)) (bool)) !) (l (v A z) (a (a (c (fun (bool) (fun (bool) (bool))) =) (a (a (c (fun A (fun A (bool))) =) (a (a (v (fun A (fun A A)) add) (v A x)) (v A y))) (a (a (v (fun A (fun A A)) add) (v A x)) (v A z)))) (a (a (c (fun A (fun A (bool))) =) (v A y)) (v A z)))))))))) (a (c (fun (fun A (bool)) (bool)) !) (l (v A w) (a (c (fun (fun A (bool)) (bool)) !) (l (v A x) (a (c (fun (fun A (bool)) (bool)) !) (l (v A y) (a (c (fun (fun A (bool)) (bool)) !) (l (v A z) (a (a (c (fun (bool) (fun (bool) (bool))) =) (a (a (c (fun A (fun A (bool))) =) (a (a (v (fun A (fun A A)) add) (a (a (v (fun A (fun A A)) mul) (v A w)) (v A y))) (a (a (v (fun A (fun A A)) mul) (v A x)) (v A z)))) (a (a (v (fun A (fun A A)) add) (a (a (v (fun A (fun A A)) mul) (v A w)) (v A z))) (a (a (v (fun A (fun A A)) mul) (v A x)) (v A y))))) (a (a (c (fun (bool) (fun (bool) (bool))) \\\\/) (a (a (c (fun A (fun A (bool))) =) (v A w)) (v A x))) (a (a (c (fun A (fun A (bool))) =) (v A y)) (v A z)))))))))))))\"],\n",
    "#       conclusion=\"(a (a (c (fun (bool) (fun (bool) (bool))) /\\\\) (a (c (fun (fun A (bool)) (bool)) !) (l (v A x) (a (c (fun (fun A (bool)) (bool)) !) (l (v A y) (a (c (fun (fun A (bool)) (bool)) !) (l (v A z) (a (a (c (fun (bool) (fun (bool) (bool))) =) (a (a (c (fun A (fun A (bool))) =) (a (a (v (fun A (fun A A)) add) (v A x)) (v A y))) (a (a (v (fun A (fun A A)) add) (v A x)) (v A z)))) (a (a (c (fun A (fun A (bool))) =) (v A y)) (v A z)))))))))) (a (c (fun (fun A (bool)) (bool)) !) (l (v A w) (a (c (fun (fun A (bool)) (bool)) !) (l (v A x) (a (c (fun (fun A (bool)) (bool)) !) (l (v A y) (a (c (fun (fun A (bool)) (bool)) !) (l (v A z) (a (a (c (fun (bool) (fun (bool) (bool))) =) (a (a (c (fun A (fun A (bool))) =) (a (a (v (fun A (fun A A)) add) (a (a (v (fun A (fun A A)) mul) (v A w)) (v A y))) (a (a (v (fun A (fun A A)) mul) (v A x)) (v A z)))) (a (a (v (fun A (fun A A)) add) (a (a (v (fun A (fun A A)) mul) (v A w)) (v A z))) (a (a (v (fun A (fun A A)) mul) (v A x)) (v A y))))) (a (a (c (fun (bool) (fun (bool) (bool))) \\\\/) (a (a (c (fun A (fun A (bool))) =) (v A w)) (v A x))) (a (a (c (fun A (fun A (bool))) =) (v A y)) (v A z)))))))))))))\")\n",
    "# response = env.hol_wrapper.RegisterTheorem(\n",
    "#     proof_assistant_pb2.RegisterTheoremRequest(theorem=new_thm))"
   ],
   "metadata": {
    "collapsed": false
   }
  }
 ],
 "metadata": {
  "kernelspec": {
   "display_name": "Python 3",
   "language": "python",
   "name": "python3"
  },
  "language_info": {
   "codemirror_mode": {
    "name": "ipython",
    "version": 2
   },
   "file_extension": ".py",
   "mimetype": "text/x-python",
   "name": "python",
   "nbconvert_exporter": "python",
   "pygments_lexer": "ipython2",
   "version": "2.7.6"
  }
 },
 "nbformat": 4,
 "nbformat_minor": 0
}
