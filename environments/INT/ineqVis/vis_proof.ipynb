{
 "cells": [
  {
   "cell_type": "code",
   "execution_count": null,
   "metadata": {
    "collapsed": true
   },
   "outputs": [],
   "source": [
    "import pickle\n",
    "from environments.int_environment.visualization.latex_parse import *"
   ]
  },
  {
   "cell_type": "code",
   "execution_count": null,
   "metadata": {
    "collapsed": true
   },
   "outputs": [],
   "source": [
    "def proof_path_to_str(proof_path):\n",
    "    proof_str = \"\"\n",
    "    steps = pickle.load(open(proof_path, \"rb\"))\n",
    "    for step in steps:\n",
    "        proof_str += (\"*\" * 100 + \"\\n\")\n",
    "        proof_str += (step_to_latex(step) + \"\\n\")\n",
    "    return proof_str"
   ]
  },
  {
   "cell_type": "code",
   "execution_count": null,
   "metadata": {},
   "outputs": [],
   "source": [
    "print(proof_path_to_str(\"/scratch/hdd001/home/ajiang/data/benchmark/random_specified/k=3_l=7/train/steps_18_0.p\"))"
   ]
  }
 ],
 "metadata": {
  "kernelspec": {
   "display_name": "Python 3",
   "language": "python",
   "name": "python3"
  },
  "language_info": {
   "codemirror_mode": {
    "name": "ipython",
    "version": 3
   },
   "file_extension": ".py",
   "mimetype": "text/x-python",
   "name": "python",
   "nbconvert_exporter": "python",
   "pygments_lexer": "ipython3",
   "version": "3.6.2"
  }
 },
 "nbformat": 4,
 "nbformat_minor": 2
}
