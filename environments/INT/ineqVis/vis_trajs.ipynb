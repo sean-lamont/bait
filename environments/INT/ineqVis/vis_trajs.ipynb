{
 "cells": [
  {
   "cell_type": "code",
   "execution_count": null,
   "metadata": {
    "collapsed": true
   },
   "outputs": [],
   "source": [
    "import json\n",
    "import os"
   ]
  },
  {
   "cell_type": "code",
   "execution_count": null,
   "metadata": {
    "collapsed": true
   },
   "outputs": [],
   "source": [
    "def step_to_latex(step):\n",
    "    step_string = \"\"\n",
    "    step_string += \"The observation is: \\n\"\n",
    "    step_string += \"Ground truth:\\n\"\n",
    "    for gt in step[\"gt\"]:\n",
    "        step_string += \"\\t{}\\n\".format(gt)\n",
    "    step_string += \"Objective:\\n\"\n",
    "    step_string += \"\\t{}\\n\".format(step[\"obj\"][0])\n",
    "    step_string += \"Lemma name is: {}\\n\".format(step[\"lemma\"])\n",
    "    for i, in_ent in enumerate(step[\"input_entities\"]):\n",
    "        step_string += \"The {}th chosen input entity is {}\\n\".format(i + 1, in_ent)\n",
    "    return step_string"
   ]
  },
  {
   "cell_type": "code",
   "execution_count": null,
   "metadata": {
    "collapsed": true
   },
   "outputs": [],
   "source": [
    "def traj_path_to_str(trajectories_path):\n",
    "    all_traj_strs = []\n",
    "    trajectories = json.load(open(trajectories_path, \"r\"))\n",
    "    for traj in trajectories:\n",
    "        single_traj_str = \"\"\n",
    "        for step in traj:\n",
    "            single_traj_str += (\"*\" * 100 + \"\\n\")\n",
    "            single_traj_str += (step_to_latex(step) + \"\\n\")\n",
    "        all_traj_strs.append(single_traj_str)\n",
    "    return all_traj_strs"
   ]
  },
  {
   "cell_type": "code",
   "execution_count": null,
   "metadata": {
    "collapsed": true
   },
   "outputs": [],
   "source": [
    "all_traj_strs = traj_path_to_str(\n",
    "    \"/scratch/hdd001/home/ajiang/ywu/ineqResultsEasy/2019_11_27_03_50_30_744052/k4l7_test_right_case.json\")"
   ]
  },
  {
   "cell_type": "code",
   "execution_count": null,
   "metadata": {},
   "outputs": [],
   "source": [
    "print(all_traj_strs[0])"
   ]
  }
 ],
 "metadata": {
  "kernelspec": {
   "display_name": "Python 3",
   "language": "python",
   "name": "python3"
  },
  "language_info": {
   "codemirror_mode": {
    "name": "ipython",
    "version": 3
   },
   "file_extension": ".py",
   "mimetype": "text/x-python",
   "name": "python",
   "nbconvert_exporter": "python",
   "pygments_lexer": "ipython3",
   "version": "3.6.2"
  }
 },
 "nbformat": 4,
 "nbformat_minor": 2
}
