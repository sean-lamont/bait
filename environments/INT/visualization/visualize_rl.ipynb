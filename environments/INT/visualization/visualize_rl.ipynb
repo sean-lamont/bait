{
 "cells": [
  {
   "cell_type": "code",
   "execution_count": null,
   "metadata": {},
   "outputs": [],
   "source": [
    "from baselines.common import plot_util as pu"
   ]
  },
  {
   "cell_type": "markdown",
   "metadata": {},
   "source": [
    "If you want to average results for multiple seeds, LOG_DIRS must contain subfolders in the following format: ```<name_exp0>-0```, ```<name_exp0>-1```, ```<name_exp1>-0```, ```<name_exp1>-1```. Where names correspond to experiments you want to compare separated with random seeds by dash."
   ]
  },
  {
   "cell_type": "code",
   "execution_count": null,
   "metadata": {},
   "outputs": [],
   "source": [
    "import json\n",
    "import os\n",
    "import matplotlib.pyplot as plt\n",
    "from matplotlib.pyplot import figure"
   ]
  },
  {
   "cell_type": "code",
   "execution_count": null,
   "metadata": {},
   "outputs": [],
   "source": [
    "def clip_and_rm(input_list, maximum=1, gamma=0.9):\n",
    "    output_list = []\n",
    "    ma = min(input_list[0], maximum)\n",
    "    for element in input_list:\n",
    "        element = min(element, maximum)\n",
    "        ma = gamma * ma + (1-gamma) * element\n",
    "        output_list.append(ma)\n",
    "    return output_list"
   ]
  },
  {
   "cell_type": "code",
   "execution_count": null,
   "metadata": {},
   "outputs": [],
   "source": [
    "def plot_reward(log_dirs):\n",
    "    print(phonebook[log_dirs])\n",
    "    print(log_dirs)\n",
    "    results = pu.load_results(log_dirs)\n",
    "    pu.plot_results(results, average_group=True, split_fn=lambda _: '', shaded_std=False)\n",
    "\n",
    "def plot_losses(log_dirs, eval_interval=500):\n",
    "    print(phonebook[log_dirs])\n",
    "    if os.path.isfile(os.path.join(log_dirs, \"eval_rewards.json\")):\n",
    "        eval_rewards = json.load(open(os.path.join(log_dirs, \"eval_rewards.json\"), \"r\"))\n",
    "        figure_to_plot = 2 + len(eval_rewards)\n",
    "    else:\n",
    "        figure_to_plot=2\n",
    "    figure(num=None, figsize=(12, 6*figure_to_plot), dpi=80, facecolor='w', edgecolor='k')\n",
    "    plt.subplot(figure_to_plot, 1, 1)\n",
    "    value_losses = json.load(open(os.path.join(log_dirs, \"value_losses.json\"), \"r\"))\n",
    "    plt.plot(clip_and_rm(value_losses))\n",
    "    plt.xlabel(\"updates\")\n",
    "    plt.ylabel(\"value loss\")\n",
    "    plt.subplot(figure_to_plot, 1, 2)\n",
    "    action_losses = json.load(open(os.path.join(log_dirs, \"action_losses.json\"), \"r\"))\n",
    "    plt.plot(clip_and_rm(action_losses))\n",
    "    plt.xlabel(\"updates\")\n",
    "    plt.ylabel(\"action loss\")\n",
    "    if figure_to_plot > 2:\n",
    "        for eval_reward_case in range(len(eval_rewards)):\n",
    "            plt.subplot(figure_to_plot, 1, eval_reward_case+3)\n",
    "            plt.plot([ele*eval_interval for ele in list(range(len(eval_rewards[list(eval_rewards.keys())[eval_reward_case]])))], \n",
    "                     eval_rewards[list(eval_rewards.keys())[eval_reward_case]],\n",
    "                    label = list(eval_rewards.keys())[eval_reward_case])\n",
    "            plt.xlabel(\"updates\")\n",
    "            plt.ylabel(\"eval success rate\")\n",
    "            plt.title(list(eval_rewards.keys())[eval_reward_case])\n",
    "            plt.legend()\n",
    "\n",
    "def plot_all_in_phonebook(phonebook):\n",
    "    for log_dirs in phonebook:\n",
    "        plot_reward(dir_logs)"
   ]
  },
  {
   "cell_type": "code",
   "execution_count": null,
   "metadata": {},
   "outputs": [],
   "source": [
    "def dir_phonebook(log_dirs):\n",
    "    phonebook = dict()\n",
    "    for dir_name in os.listdir(log_dirs):\n",
    "        if os.path.isdir(os.path.join(log_dirs, dir_name)) and not dir_name.startswith(\".\") \\\n",
    "            and dir_name > \"2019_11_24_23_55\":\n",
    "            env_config = json.load(open(os.path.join(log_dirs, dir_name, \"env_config.json\")))\n",
    "            title = \"\"\n",
    "            if env_config[\"pretrain_dir\"]:\n",
    "                title += \"pretrain_\"\n",
    "            else:\n",
    "                title += \"scratch_\"\n",
    "\n",
    "            title += env_config[\"obs_mode\"] + \"_\"\n",
    "\n",
    "            if env_config[\"fix_policy\"]:\n",
    "                title += \"fix_policy_\"\n",
    "\n",
    "            title += \"lr_{}_\".format(env_config[\"lr\"])\n",
    "            title += \"trained_on_{}\".format(\"_and_\".join(env_config[\"train_dirs\"]))\n",
    "\n",
    "            phonebook[os.path.join(log_dirs, dir_name)] = title\n",
    "    return phonebook"
   ]
  },
  {
   "cell_type": "code",
   "execution_count": null,
   "metadata": {},
   "outputs": [],
   "source": [
    "phonebook = dir_phonebook(\"/scratch/hdd001/home/ajiang/ywu/ineqResultsEasy/rl_back_online\")\n",
    "phonebook"
   ]
  },
  {
   "cell_type": "code",
   "execution_count": null,
   "metadata": {},
   "outputs": [],
   "source": [
    "len(phonebook)"
   ]
  },
  {
   "cell_type": "code",
   "execution_count": null,
   "metadata": {},
   "outputs": [],
   "source": [
    "dir_logs = list(phonebook.keys())[0]\n",
    "plot_reward(dir_logs)"
   ]
  },
  {
   "cell_type": "code",
   "execution_count": null,
   "metadata": {
    "scrolled": false
   },
   "outputs": [],
   "source": [
    "plot_losses(dir_logs)"
   ]
  },
  {
   "cell_type": "code",
   "execution_count": null,
   "metadata": {},
   "outputs": [],
   "source": [
    "dir_logs = list(phonebook.keys())[1]\n",
    "plot_reward(dir_logs)"
   ]
  },
  {
   "cell_type": "code",
   "execution_count": null,
   "metadata": {},
   "outputs": [],
   "source": [
    "plot_losses(dir_logs)"
   ]
  },
  {
   "cell_type": "code",
   "execution_count": null,
   "metadata": {
    "scrolled": false
   },
   "outputs": [],
   "source": [
    "dir_logs = list(phonebook.keys())[2]\n",
    "plot_reward(dir_logs)"
   ]
  },
  {
   "cell_type": "code",
   "execution_count": null,
   "metadata": {
    "scrolled": false
   },
   "outputs": [],
   "source": [
    "plot_losses(dir_logs)"
   ]
  },
  {
   "cell_type": "code",
   "execution_count": null,
   "metadata": {},
   "outputs": [],
   "source": [
    "dir_logs = list(phonebook.keys())[3]\n",
    "plot_reward(dir_logs)"
   ]
  },
  {
   "cell_type": "code",
   "execution_count": null,
   "metadata": {},
   "outputs": [],
   "source": [
    "plot_losses(dir_logs)"
   ]
  },
  {
   "cell_type": "code",
   "execution_count": null,
   "metadata": {},
   "outputs": [],
   "source": [
    "dir_logs = list(phonebook.keys())[4]\n",
    "plot_reward(dir_logs)"
   ]
  },
  {
   "cell_type": "code",
   "execution_count": null,
   "metadata": {},
   "outputs": [],
   "source": [
    "plot_losses(dir_logs)"
   ]
  },
  {
   "cell_type": "code",
   "execution_count": null,
   "metadata": {},
   "outputs": [],
   "source": [
    "dir_logs = list(phonebook.keys())[5]\n",
    "plot_reward(dir_logs)"
   ]
  },
  {
   "cell_type": "code",
   "execution_count": null,
   "metadata": {},
   "outputs": [],
   "source": [
    "plot_losses(dir_logs)"
   ]
  },
  {
   "cell_type": "code",
   "execution_count": null,
   "metadata": {},
   "outputs": [],
   "source": [
    "dir_logs = list(phonebook.keys())[6]\n",
    "plot_reward(dir_logs)"
   ]
  },
  {
   "cell_type": "code",
   "execution_count": null,
   "metadata": {},
   "outputs": [],
   "source": [
    "plot_losses(dir_logs)"
   ]
  },
  {
   "cell_type": "code",
   "execution_count": null,
   "metadata": {},
   "outputs": [],
   "source": [
    "dir_logs = list(phonebook.keys())[7]\n",
    "plot_reward(dir_logs)"
   ]
  },
  {
   "cell_type": "code",
   "execution_count": null,
   "metadata": {},
   "outputs": [],
   "source": [
    "plot_losses(dir_logs)"
   ]
  },
  {
   "cell_type": "code",
   "execution_count": null,
   "metadata": {},
   "outputs": [],
   "source": [
    "dir_logs = list(phonebook.keys())[8]\n",
    "plot_reward(dir_logs)"
   ]
  },
  {
   "cell_type": "code",
   "execution_count": null,
   "metadata": {},
   "outputs": [],
   "source": [
    "plot_losses(dir_logs)"
   ]
  },
  {
   "cell_type": "code",
   "execution_count": null,
   "metadata": {},
   "outputs": [],
   "source": [
    "dir_logs = list(phonebook.keys())[9]\n",
    "plot_reward(dir_logs)"
   ]
  },
  {
   "cell_type": "code",
   "execution_count": null,
   "metadata": {},
   "outputs": [],
   "source": [
    "plot_losses(dir_logs)"
   ]
  },
  {
   "cell_type": "code",
   "execution_count": null,
   "metadata": {},
   "outputs": [],
   "source": [
    "dir_logs = list(phonebook.keys())[10]\n",
    "plot_reward(dir_logs)"
   ]
  },
  {
   "cell_type": "code",
   "execution_count": null,
   "metadata": {},
   "outputs": [],
   "source": [
    "plot_losses(dir_logs)"
   ]
  },
  {
   "cell_type": "code",
   "execution_count": null,
   "metadata": {},
   "outputs": [],
   "source": [
    "dir_logs = list(phonebook.keys())[11]\n",
    "plot_reward(dir_logs)"
   ]
  },
  {
   "cell_type": "code",
   "execution_count": null,
   "metadata": {},
   "outputs": [],
   "source": [
    "plot_losses(dir_logs)"
   ]
  },
  {
   "cell_type": "code",
   "execution_count": null,
   "metadata": {},
   "outputs": [],
   "source": [
    "dir_logs = list(phonebook.keys())[12]\n",
    "plot_reward(dir_logs)"
   ]
  },
  {
   "cell_type": "code",
   "execution_count": null,
   "metadata": {},
   "outputs": [],
   "source": [
    "plot_losses(dir_logs)"
   ]
  },
  {
   "cell_type": "code",
   "execution_count": null,
   "metadata": {},
   "outputs": [],
   "source": [
    "dir_logs = list(phonebook.keys())[13]\n",
    "plot_reward(dir_logs)"
   ]
  },
  {
   "cell_type": "code",
   "execution_count": null,
   "metadata": {},
   "outputs": [],
   "source": [
    "plot_losses(dir_logs)"
   ]
  },
  {
   "cell_type": "code",
   "execution_count": null,
   "metadata": {},
   "outputs": [],
   "source": [
    "dir_logs = list(phonebook.keys())[14]\n",
    "plot_reward(dir_logs)"
   ]
  },
  {
   "cell_type": "code",
   "execution_count": null,
   "metadata": {},
   "outputs": [],
   "source": [
    "plot_losses(dir_logs)"
   ]
  },
  {
   "cell_type": "code",
   "execution_count": null,
   "metadata": {},
   "outputs": [],
   "source": [
    "dir_logs = list(phonebook.keys())[15]\n",
    "plot_reward(dir_logs)"
   ]
  },
  {
   "cell_type": "code",
   "execution_count": null,
   "metadata": {},
   "outputs": [],
   "source": [
    "plot_losses(dir_logs)"
   ]
  }
 ],
 "metadata": {
  "kernelspec": {
   "display_name": "Python 3",
   "language": "python",
   "name": "python3"
  },
  "language_info": {
   "codemirror_mode": {
    "name": "ipython",
    "version": 3
   },
   "file_extension": ".py",
   "mimetype": "text/x-python",
   "name": "python",
   "nbconvert_exporter": "python",
   "pygments_lexer": "ipython3",
   "version": "3.6.9"
  }
 },
 "nbformat": 4,
 "nbformat_minor": 2
}
