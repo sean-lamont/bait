{
 "cells": [
  {
   "cell_type": "code",
   "execution_count": null,
   "outputs": [],
   "source": [
    "            from refactor.generator.model import RetrievalAugmentedGenerator\n",
    "\n",
    "ckpt_path = '../gen.ckpt'\n",
    "tac_gen = RetrievalAugmentedGenerator.load(\n",
    "    ckpt_path, device='cuda', freeze=False\n",
    ")"
   ],
   "metadata": {
    "collapsed": false
   }
  },
  {
   "cell_type": "code",
   "execution_count": null,
   "outputs": [],
   "source": [
    "from refactor.process_traces import get_traces\n",
    "\n",
    "trace = get_traces('../experiments/runs/eval_loop/bestfs_2023_11_16/07_59_20/traces/abs_sub_round_eq_min')[0]"
   ],
   "metadata": {
    "collapsed": false
   }
  },
  {
   "cell_type": "code",
   "execution_count": null,
   "outputs": [],
   "source": [
    "def reconstruct_scores(state, sequence):\n",
    "    tokenized_sequence= tac_gen.tokenizer(\n",
    "        sequence,\n",
    "        padding=\"longest\",\n",
    "        max_length=2300,\n",
    "        truncation=True,\n",
    "        return_tensors=\"pt\",\n",
    "    )\n",
    "\n",
    "    tokenized_state = tac_gen.tokenizer(\n",
    "        state,\n",
    "        padding=\"longest\",\n",
    "        max_length=2300,\n",
    "        truncation=True,\n",
    "        return_tensors=\"pt\",\n",
    "    )\n",
    "\n",
    "    state_ids = tokenized_state.input_ids.cuda()\n",
    "    state_mask = tokenized_state.attention_mask.cuda()\n",
    "\n",
    "    targets = tokenized_sequence.input_ids.cuda()\n",
    "\n",
    "    targets[targets == tac_gen.tokenizer.pad_token_id] = -100\n",
    "\n",
    "\n",
    "    output = tac_gen.generator(\n",
    "        input_ids=state_ids,\n",
    "        attention_mask=state_mask,\n",
    "        labels=targets\n",
    "    ).logits\n",
    "\n",
    "    return output, tokenized_sequence.input_ids.cuda()"
   ],
   "metadata": {
    "collapsed": false
   }
  },
  {
   "cell_type": "code",
   "execution_count": null,
   "outputs": [],
   "source": [
    "edge = trace.tree.out_edges[0]"
   ],
   "metadata": {
    "collapsed": false
   }
  },
  {
   "cell_type": "code",
   "execution_count": null,
   "outputs": [],
   "source": [
    "tac = edge.tactic\n",
    "logprob = edge.tac_logprob"
   ],
   "metadata": {
    "collapsed": false
   }
  },
  {
   "cell_type": "code",
   "execution_count": null,
   "outputs": [],
   "source": [
    "trace.tree.out_edges[:2]"
   ],
   "metadata": {
    "collapsed": false
   }
  },
  {
   "cell_type": "code",
   "execution_count": null,
   "outputs": [],
   "source": [
    "import torch\n",
    "tacs = ['cases <a>le_total</a> x (1 - <a>round</a> x) with hx hx', 'cases <a>le_total</a> x 1 with hx hx']"
   ],
   "metadata": {
    "collapsed": false
   }
  },
  {
   "cell_type": "code",
   "execution_count": null,
   "outputs": [],
   "source": [
    "logits, seq_ids = reconstruct_scores([trace.tree.goal, trace.tree.goal], tacs)"
   ],
   "metadata": {
    "collapsed": false
   }
  },
  {
   "cell_type": "code",
   "execution_count": null,
   "outputs": [],
   "source": [
    "normalised = torch.log_softmax(logits, -1)"
   ],
   "metadata": {
    "collapsed": false
   }
  },
  {
   "cell_type": "code",
   "execution_count": null,
   "outputs": [],
   "source": [
    "outs = torch.gather(normalised, -1, seq_ids.unsqueeze(-1)).squeeze(-1)\n"
   ],
   "metadata": {
    "collapsed": false
   }
  },
  {
   "cell_type": "code",
   "execution_count": null,
   "outputs": [],
   "source": [
    "outs[seq_ids == tac_gen.tokenizer.pad_token_id] = 0"
   ],
   "metadata": {
    "collapsed": false
   }
  },
  {
   "cell_type": "code",
   "execution_count": null,
   "outputs": [],
   "source": [
    "torch.sum(outs, dim=1)"
   ],
   "metadata": {
    "collapsed": false
   }
  }
 ],
 "metadata": {
  "kernelspec": {
   "display_name": "Python 3",
   "language": "python",
   "name": "python3"
  },
  "language_info": {
   "codemirror_mode": {
    "name": "ipython",
    "version": 2
   },
   "file_extension": ".py",
   "mimetype": "text/x-python",
   "name": "python",
   "nbconvert_exporter": "python",
   "pygments_lexer": "ipython2",
   "version": "2.7.6"
  }
 },
 "nbformat": 4,
 "nbformat_minor": 0
}
