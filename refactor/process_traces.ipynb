{
 "cells": [
  {
   "cell_type": "code",
   "execution_count": null,
   "outputs": [],
   "source": [
    "import pickle\n",
    "import random\n",
    "\n",
    "import glob\n",
    "import math\n",
    "\n",
    "\n",
    "def get_traces(path):\n",
    "    files = glob.glob(path)\n",
    "\n",
    "    traces = []\n",
    "    for file in files:\n",
    "        with open(file, \"rb\") as f:\n",
    "            trace = pickle.load(f)\n",
    "            traces.append(trace)\n",
    "    return traces\n",
    "\n",
    "traces = get_traces('../traces_2023-10-30_12:18/*')"
   ],
   "metadata": {
    "collapsed": false
   }
  },
  {
   "cell_type": "code",
   "execution_count": null,
   "outputs": [],
   "source": [
    "from refactor.proof_node import InternalNode, ErrorNode, ProofFinishedNode"
   ],
   "metadata": {
    "collapsed": false
   }
  },
  {
   "cell_type": "code",
   "execution_count": null,
   "outputs": [],
   "source": [
    "def add_data(node, visits):\n",
    "    data = []\n",
    "    # proving_edges = [edge for edge in node.out_edges if edge.distance_to_proof() < math.inf]\n",
    "    # for edge in proving_edges:\n",
    "    if node.out_edges:\n",
    "        for edge in node.out_edges:\n",
    "            datum = {\n",
    "                'goal': node.goal,\n",
    "                'tactic': edge.tactic,\n",
    "                'distance_to_proof': edge.distance_to_proof(),\n",
    "                'visits': visits[node.goal],\n",
    "                'time': edge.time,\n",
    "                'logprob': edge.logprob\n",
    "            }\n",
    "            # add children of edge\n",
    "            if len(edge.dst) == 1 and isinstance(edge.dst[0], ErrorNode):\n",
    "                # todo could record error message for e.g. self-correcting proof approach>\n",
    "                datum['result'] = ['Error']\n",
    "            elif len(edge.dst) == 1 and isinstance(edge.dst[0], ProofFinishedNode):\n",
    "                datum['result'] = ['Proven']\n",
    "            else:\n",
    "                result = [d.goal for d in edge.dst]\n",
    "                datum['result'] = result\n",
    "            data.append(datum)\n",
    "    return data\n",
    "\n",
    "\n",
    "full_data = []\n",
    "\n",
    "for trace in traces:\n",
    "    nodes = trace.nodes\n",
    "\n",
    "    updated_visit_count = {node: nodes[node].visit_count for node in nodes}\n",
    "\n",
    "    for goal, node in nodes.items():\n",
    "        for a in node.ancestors:\n",
    "            updated_visit_count[a] += node.visit_count\n",
    "\n",
    "    for node in nodes:\n",
    "        full_data.extend(add_data(nodes[node], updated_visit_count))\n"
   ],
   "metadata": {
    "collapsed": false
   },
   "id": "6146b02393590c29"
  },
  {
   "cell_type": "code",
   "execution_count": null,
   "outputs": [],
   "source": [
    "# todo\n",
    "def add_goal_data(node, visits):\n",
    "    steps = node.distance_to_proof\n",
    "\n",
    "\n",
    "    datum = {\n",
    "        'goal': node.goal,\n",
    "        'distance_to_proof': node.distance_to_proof,\n",
    "        'visits': visits[node.goal],\n",
    "        'up_score': node.up_score,\n",
    "        'local_visits': node.visit_count\n",
    "    }\n",
    "\n",
    "\n",
    "    if steps == math.inf:\n",
    "        if visits[node.goal] >= neg_threshold:\n",
    "            target = 0\n",
    "        else:\n",
    "            return None\n",
    "    elif steps >= max_proof_len:\n",
    "        target = 1\n",
    "    else:\n",
    "        # linearly project steps so that shorter proofs are allocated to higher buckets\n",
    "        # target = (max_bucket + 1 - steps) // (max_bucket // buckets)\n",
    "        target = (max_proof_len + 1) - steps\n",
    "\n",
    "    return {'goal': node.goal, 'target': target}\n",
    "\n",
    "\n",
    "\n",
    "\n",
    "goal_step_data = []\n",
    "\n",
    "for trace in traces:\n",
    "    nodes = trace.nodes\n",
    "\n",
    "    updated_visit_count = {node: nodes[node].visit_count for node in nodes}\n",
    "\n",
    "    for goal, node in nodes.items():\n",
    "        for a in node.ancestors:\n",
    "            updated_visit_count[a] += node.visit_count\n",
    "\n",
    "    for node in nodes:\n",
    "        step_datum = add_goal_step_data(nodes[node], updated_visit_count)\n",
    "        if step_datum:\n",
    "            goal_step_data.append(step_datum)\n"
   ],
   "metadata": {
    "collapsed": false
   }
  },
  {
   "cell_type": "code",
   "execution_count": null,
   "outputs": [],
   "source": [
    "# todo search traces"
   ],
   "metadata": {
    "collapsed": false
   }
  },
  {
   "cell_type": "code",
   "execution_count": null,
   "outputs": [],
   "source": [
    "# todo save all to mongodb collections\n",
    "\n",
    "\n",
    "# todo wandb/hydra/resuming eval\n",
    "\n",
    "# todo train scripts for eval models\n",
    "\n",
    "# todo htps\n",
    "\n",
    "# todo add BFS, bestfs\n"
   ],
   "metadata": {
    "collapsed": false
   }
  }
 ],
 "metadata": {
  "kernelspec": {
   "display_name": "Python 3",
   "language": "python",
   "name": "python3"
  },
  "language_info": {
   "codemirror_mode": {
    "name": "ipython",
    "version": 2
   },
   "file_extension": ".py",
   "mimetype": "text/x-python",
   "name": "python",
   "nbconvert_exporter": "python",
   "pygments_lexer": "ipython2",
   "version": "2.7.6"
  }
 },
 "nbformat": 4,
 "nbformat_minor": 5
}
