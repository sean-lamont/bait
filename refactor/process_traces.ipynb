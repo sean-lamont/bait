{
 "cells": [
  {
   "cell_type": "code",
   "execution_count": null,
   "outputs": [],
   "source": [
    "import pickle\n",
    "import random\n",
    "\n",
    "import glob\n",
    "import math\n",
    "\n",
    "import torch\n",
    "from tqdm import tqdm\n",
    "\n",
    "\n",
    "def get_traces(path):\n",
    "    files = glob.glob(path)\n",
    "\n",
    "    traces = []\n",
    "    for file in tqdm(files):\n",
    "        with open(file, \"rb\") as f:\n",
    "            trace = pickle.load(f)\n",
    "            traces.append(trace)\n",
    "    return traces\n",
    "\n",
    "\n",
    "# traces = get_traces('../traces_2023-10-31_17:27/*')\n",
    "\n",
    "# traces.extend(get_traces('../traces_2023-10-31_17:28/*'))\n",
    "\n",
    "\n",
    "# traces = get_traces('../experiments/runs/eval_loop/leandojo_eval_2023_11_02/17_55_31/traces/*')\n",
    "traces = get_traces('../experiments/runs/eval_loop/leandojo_eval_2023_11_06/17_37_04/traces/*')\n",
    "\n"
   ],
   "metadata": {
    "collapsed": false
   },
   "id": "611f0a8accd3ad79"
  },
  {
   "cell_type": "code",
   "execution_count": null,
   "outputs": [],
   "source": [
    "from refactor.proof_node import Status\n",
    "\n",
    "len([t for t in traces if t.tree.status == Status.FAILED])/ len(traces)"
   ],
   "metadata": {
    "collapsed": false
   },
   "id": "fcc721a2b3711b8e"
  },
  {
   "cell_type": "code",
   "execution_count": null,
   "outputs": [],
   "source": [
    "len([t for t in traces if t.tree.status == Status.PROVED])/ (len([t for t in traces if t.tree.status != Status.FAILED]) + 14)"
   ],
   "metadata": {
    "collapsed": false
   },
   "id": "d3a976d1142574ba"
  },
  {
   "cell_type": "code",
   "execution_count": null,
   "outputs": [],
   "source": [
    "\n",
    "exs = [t for t in traces if t.status == Status.FAILED]\n"
   ],
   "metadata": {
    "collapsed": false
   },
   "id": "4ab569f56a32f978"
  },
  {
   "cell_type": "code",
   "execution_count": null,
   "outputs": [],
   "source": [
    "[all([node.is_explored for node in e.nodes.values()]) for e in exs]"
   ],
   "metadata": {
    "collapsed": false
   },
   "id": "3d50582fa3875bc3"
  },
  {
   "cell_type": "code",
   "execution_count": null,
   "outputs": [],
   "source": [
    "exs = [t for t in traces if t.status == Status.FAILED and not all([node.is_explored for node in t.nodes.values()])]"
   ],
   "metadata": {
    "collapsed": false
   },
   "id": "15484bb8ac1e87e"
  },
  {
   "cell_type": "code",
   "execution_count": null,
   "outputs": [],
   "source": [
    "len(exs)"
   ],
   "metadata": {
    "collapsed": false
   },
   "id": "984f234942b71f86"
  },
  {
   "cell_type": "code",
   "execution_count": null,
   "outputs": [],
   "source": [
    "ex = exs[1]"
   ],
   "metadata": {
    "collapsed": false
   },
   "id": "6c55328f8ced787c"
  },
  {
   "cell_type": "code",
   "execution_count": null,
   "outputs": [],
   "source": [
    "[ex.tac_trace[i].src.goal for i in range(len(ex.tac_trace))]"
   ],
   "metadata": {
    "collapsed": false
   },
   "id": "ec81f47539210b60"
  },
  {
   "cell_type": "code",
   "execution_count": null,
   "outputs": [],
   "source": [
    "len(ex.nodes)"
   ],
   "metadata": {
    "collapsed": false
   },
   "id": "63a1c67dee0edb73"
  },
  {
   "cell_type": "code",
   "execution_count": null,
   "outputs": [],
   "source": [
    "[(node.up_score, node.provable_score, node.status, node.visit_count) for node in ex.nodes.values()]\n"
   ],
   "metadata": {
    "collapsed": false
   },
   "id": "4068cb49c2a8e4d9"
  },
  {
   "cell_type": "code",
   "execution_count": null,
   "outputs": [],
   "source": [
    "[(e.dst[0].up_score, len(e.dst)) for e in ex.tree.out_edges]"
   ],
   "metadata": {
    "collapsed": false
   },
   "id": "f9b4de0fa5a718ec"
  },
  {
   "cell_type": "code",
   "execution_count": null,
   "outputs": [],
   "source": [
    "ex.tac_trace[-1].src.out_edges"
   ],
   "metadata": {
    "collapsed": false
   },
   "id": "19ddf09b3598c366"
  },
  {
   "cell_type": "code",
   "execution_count": null,
   "outputs": [],
   "source": [
    "[a.status for a in ex.nodes.values()]"
   ],
   "metadata": {
    "collapsed": false
   },
   "id": "c98ff09d10a7e0f5"
  },
  {
   "cell_type": "code",
   "execution_count": null,
   "outputs": [],
   "source": [
    "\n",
    "[a.tactic for a in ex.tac_trace]\n"
   ],
   "metadata": {
    "collapsed": false
   },
   "id": "4bda5e3dba2184cd"
  },
  {
   "cell_type": "code",
   "execution_count": null,
   "outputs": [],
   "source": [
    "ex.search_trace[-1]"
   ],
   "metadata": {
    "collapsed": false
   },
   "id": "92c881b41469e178"
  },
  {
   "cell_type": "code",
   "execution_count": null,
   "outputs": [],
   "source": [
    "ex"
   ],
   "metadata": {
    "collapsed": false
   },
   "id": "8302e6caae2e3623"
  },
  {
   "cell_type": "code",
   "execution_count": null,
   "outputs": [],
   "source": [
    "64 * 6\n"
   ],
   "metadata": {
    "collapsed": false
   },
   "id": "b65510edba028a1d"
  },
  {
   "cell_type": "code",
   "execution_count": null,
   "outputs": [],
   "source": [
    "import torch"
   ],
   "metadata": {
    "collapsed": false
   },
   "id": "6862daf0e2e89b1d"
  },
  {
   "cell_type": "code",
   "execution_count": null,
   "outputs": [],
   "source": [
    "torch.cuda.mem_get_info('cuda:0')"
   ],
   "metadata": {
    "collapsed": false
   },
   "id": "d4e6715a1794d4c7"
  },
  {
   "cell_type": "code",
   "execution_count": null,
   "outputs": [],
   "source": [
    "from refactor.proof_node import InternalNode, ErrorNode, ProofFinishedNode"
   ],
   "metadata": {
    "collapsed": false
   },
   "id": "553187e97181e2f4"
  },
  {
   "cell_type": "code",
   "execution_count": null,
   "outputs": [],
   "source": [
    "from pymongo import MongoClient\n"
   ],
   "metadata": {
    "collapsed": false
   },
   "id": "a3856e684501b013"
  },
  {
   "cell_type": "code",
   "execution_count": null,
   "outputs": [],
   "source": [
    "client = MongoClient()\n",
    "db = client['lean_dojo']\n",
    "collection = db['goal_data']"
   ],
   "metadata": {
    "collapsed": false
   },
   "id": "b1cf5f629c305786"
  },
  {
   "cell_type": "code",
   "execution_count": null,
   "outputs": [],
   "source": [
    "import torch\n",
    "def add_goal_data(node, visits):\n",
    "    steps = node.distance_to_proof\n",
    "    # todo add up_score as new estimate? only after certain visit_threshold\n",
    "\n",
    "    datum = {\n",
    "        'goal': node.goal,\n",
    "        'distance_to_proof': steps,\n",
    "        'visits': visits[node.goal],\n",
    "        'local_visits': len(node.out_edges) if node.out_edges else 0,\n",
    "        'score': node.up_score.item() if isinstance(node.up_score, torch.Tensor) else node.up_score\n",
    "    }\n",
    "\n",
    "    return datum\n",
    "\n",
    "\n",
    "# goal_step_data = []\n",
    "\n",
    "for trace in traces:\n",
    "    nodes = trace.nodes\n",
    "\n",
    "    updated_visit_count = {node: nodes[node].visit_count for node in nodes}\n",
    "\n",
    "    for goal, node in nodes.items():\n",
    "        for a in node.ancestors:\n",
    "            updated_visit_count[a] += node.visit_count\n",
    "\n",
    "    for node in nodes:\n",
    "        step_datum = add_goal_data(nodes[node], updated_visit_count)\n",
    "        if step_datum:\n",
    "            collection.insert_one(step_datum)\n",
    "            # goal_step_data.append(step_datum)\n"
   ],
   "metadata": {
    "collapsed": false
   },
   "id": "3570aa04855e16aa"
  },
  {
   "cell_type": "code",
   "execution_count": null,
   "outputs": [],
   "source": [
    "collection = db['edge_data']"
   ],
   "metadata": {
    "collapsed": false
   },
   "id": "233991eda5d84cee"
  },
  {
   "cell_type": "code",
   "execution_count": null,
   "outputs": [],
   "source": [
    "def get_edge_data(trace):\n",
    "    data = []\n",
    "    for i, ((goal, goal_prob), edge) in enumerate(zip(trace.search_trace[:len(trace.tac_trace)], trace.tac_trace)):\n",
    "        datum = {\n",
    "            'iteration': 0,\n",
    "            'step': i,\n",
    "            'top_goal': trace.theorem,\n",
    "            # 'goal': goal,\n",
    "            'goal': goal.goal,\n",
    "            'tactic': edge.tactic,\n",
    "            # 'goal_prob': goal_prob,\n",
    "            'goal_prob': goal_prob.item(),\n",
    "            'tac_prob': edge.logprob,\n",
    "            'distance_to_proof': edge.distance_to_proof(),\n",
    "            'visits': edge.visit_count(),\n",
    "            'time': edge.time,\n",
    "        }\n",
    "        # add children of edge\n",
    "        if len(edge.dst) == 1 and isinstance(edge.dst[0], ErrorNode):\n",
    "            # todo could record error message for e.g. self-correcting proof approach>\n",
    "            datum['outcome'] = ['Error']\n",
    "        elif len(edge.dst) == 1 and isinstance(edge.dst[0], ProofFinishedNode):\n",
    "            datum['outcome'] = ['Proven']\n",
    "        else:\n",
    "            outcome = [d.goal for d in edge.dst]\n",
    "            datum['outcome'] = outcome\n",
    "        data.append(datum)\n",
    "    return data"
   ],
   "metadata": {
    "collapsed": false
   },
   "id": "375d1358ef1f1138"
  },
  {
   "cell_type": "code",
   "execution_count": null,
   "outputs": [],
   "source": [
    "# edge_data = []\n",
    "\n",
    "for trace in traces:\n",
    "    collection.insert_many(get_edge_data(trace))\n",
    "    # edge_data.extend(get_edge_data(trace))\n",
    "\n"
   ],
   "metadata": {
    "collapsed": false
   },
   "id": "451a706d35e3764d"
  },
  {
   "cell_type": "code",
   "execution_count": null,
   "outputs": [],
   "source": [
    "def add_rand_idx(collection):\n",
    "    collection.update_many({'rand_idx': {'$exists': False} },\n",
    "        [{'$set':\n",
    "                {'rand_idx': {\n",
    "                    '$function': {\n",
    "                        'body': 'function() {return Math.random();}',\n",
    "                        'args': [],\n",
    "                        'lang': \"js\"\n",
    "                    }\n",
    "                    }}\n",
    "        }]\n",
    "        )\n",
    "\n",
    "    collection.create_index('rand_idx')\n",
    "    return\n"
   ],
   "metadata": {
    "collapsed": false
   },
   "id": "5d83a7bab464f2e0"
  },
  {
   "cell_type": "code",
   "execution_count": null,
   "outputs": [],
   "source": [
    "rank_collection = db['tac_ranks']"
   ],
   "metadata": {
    "collapsed": false
   },
   "id": "6ed5d14dc66f868d"
  },
  {
   "cell_type": "code",
   "execution_count": null,
   "outputs": [],
   "source": [
    "def transform_goal(goal_datum, max_len=10, visit_threshold=2048):\n",
    "    proof_len = goal_datum['distance_to_proof']\n",
    "    if proof_len < max_len:\n",
    "        return {'goal': goal_datum['goal'], 'target': (max_len + 1) - goal_datum['distance_to_proof']}\n",
    "    elif proof_len < math.inf:\n",
    "        return {'goal': goal_datum['goal'], 'target': 1}\n",
    "    elif goal_datum['visits'] >= visit_threshold:\n",
    "        return {'goal': goal_datum['goal'], 'target': 0}\n",
    "\n",
    "\n",
    "# create pairs of winners/losers based on edges from a given goal, and maintain tac probs for each\n",
    "# e.g. edges = find({'goal': 'goal'}).edges\n",
    "def rank_edges(goal, edges):\n",
    "    valid_edges = [edge for edge in edges if edge['outcome'] != ['Error']]\n",
    "    invalid_edges = [edge for edge in edges if edge['outcome'] == ['Error']]\n",
    "\n",
    "    # rank all valid_edges above all invalid_edges\n",
    "    # w_l = [(goal, w['tactic'], w['tac_prob'], l['tactic'], l['tac_prob'], 'valid') for w in valid_edges for l in invalid_edges]\n",
    "    w_l = [{'goal': goal, 'winner': w['tactic'], 'w_prob': w['tac_prob'], 'loser': l['tactic'], 'loser_prob': l['tac_prob'], 'type': 'valid_rank'} for w in valid_edges for l in invalid_edges]\n",
    "\n",
    "    # print (f'{len(valid_edges), len(invalid_edges)} valid/invalid')\n",
    "    # print (len(w_l))\n",
    "    # from valid_edges, rank proven goals above non_proven valid goals\n",
    "    proven_edges = [edge for edge in valid_edges if edge['distance_to_proof'] < math.inf]\n",
    "    success_non_proven_edges = [edge for edge in valid_edges if edge['distance_to_proof'] == math.inf]\n",
    "\n",
    "    # w_l.extend([(goal, w['tactic'], w['tac_prob'], l['tactic'], l['tac_prob'], 'proven') for w in proven_edges for l in success_non_proven_edges])\n",
    "\n",
    "    w_l.extend([{'goal': goal, 'winner': w['tactic'], 'w_prob': w['tac_prob'], 'loser': l['tactic'], 'loser_prob': l['tac_prob'], 'type': 'proven_rank'} for w in proven_edges for l in success_non_proven_edges])\n",
    "    # from proven edges, rank based on distance_to_proof, then execution time\n",
    "    ranked_proofs = sorted(proven_edges, key=lambda x: (x['distance_to_proof'], x['time']))\n",
    "\n",
    "    w_l.extend(\n",
    "        [{ 'goal': goal, 'winner': ranked_proofs[i]['tactic'],\n",
    "           'winner_prob': ranked_proofs[i]['tac_prob'],  'loser': ranked_proofs[j]['tactic'], 'loser_prob': ranked_proofs[j]['tac_prob'],\n",
    "           'type': 'time_len_rank' } for i in range(len(ranked_proofs)) for j in\n",
    "\n",
    "         range(i + 1, len(ranked_proofs))])\n",
    "\n",
    "    # among successful without proof, rank those that lead to the same outcome based on time only\n",
    "    for i, edge in enumerate(success_non_proven_edges):\n",
    "        same_outcome_ranks = []\n",
    "        for j in range((i + 1), len(success_non_proven_edges)):\n",
    "            edge_2 = success_non_proven_edges[j]\n",
    "            if set(edge['outcome']) == set(edge_2['outcome']):\n",
    "                if edge['time'] < edge_2['time']:\n",
    "                    # same_outcome_ranks.append((goal, edge['tactic'], edge['tac_prob'], edge_2['tactic'], edge_2['tac_prob'], 'same_outcome'))\n",
    "                    same_outcome_ranks.append({'goal': goal, 'winner': edge['tactic'], 'winner_prob':  edge['tac_prob'], 'loser': edge_2['tactic'], 'loser_prob':  edge_2['tac_prob'], 'type': 'same_outcome'})\n",
    "                else:\n",
    "                    same_outcome_ranks.append({'goal': goal, 'winner': edge_2['tactic'], 'winner_prob':  edge_2['tac_prob'], 'loser': edge['tactic'], 'loser_prob':  edge['tac_prob'], 'type': 'same_outcome'})\n",
    "                    # same_outcome_ranks.append((goal, edge_2['tactic'], edge_2['tac_prob'], edge['tactic'], edge['tac_prob'], 'same_outcome'))\n",
    "\n",
    "        w_l.extend(same_outcome_ranks)\n",
    "\n",
    "    if w_l:\n",
    "        rank_collection.insert_many(w_l)\n",
    "\n",
    "    # winners = [(a[1], a[2], a[-1]) for a in w_l]\n",
    "    # losers = [(a[3], a[4], a[-1]) for a in w_l]\n",
    "\n",
    "    return goal, winners, losers\n",
    "\n"
   ],
   "metadata": {
    "collapsed": false
   },
   "id": "7dc32d0befe9310f"
  },
  {
   "cell_type": "code",
   "execution_count": null,
   "outputs": [],
   "source": [
    "all_goals = set([edge['goal'] for edge in collection.find()])"
   ],
   "metadata": {
    "collapsed": false
   },
   "id": "1165e1c7a2276680"
  },
  {
   "cell_type": "code",
   "execution_count": null,
   "outputs": [],
   "source": [
    "from tqdm import tqdm\n",
    "\n",
    "# data = []\n",
    "for goal in tqdm(all_goals):\n",
    "    test_edges = [edge for edge in collection.find({'goal': goal})]\n",
    "    goal, winners, losers = rank_edges(goal=goal, edges=test_edges)\n",
    "    # data.append((goal, winners, losers))"
   ],
   "metadata": {
    "collapsed": false
   },
   "id": "dedd6bf02069111e"
  },
  {
   "cell_type": "code",
   "execution_count": null,
   "outputs": [],
   "source": [
    "goal, winners, losers = data[8]\n",
    "\n",
    "\n",
    "len(winners)"
   ],
   "metadata": {
    "collapsed": false
   },
   "id": "970771273d49154b"
  },
  {
   "cell_type": "code",
   "execution_count": null,
   "outputs": [],
   "source": [
    "i = 419\n",
    "print (winners[i])\n",
    "print (losers[i])"
   ],
   "metadata": {
    "collapsed": false
   },
   "id": "2d0e21324f8ff26"
  },
  {
   "cell_type": "code",
   "execution_count": null,
   "outputs": [],
   "source": [],
   "metadata": {
    "collapsed": false
   },
   "id": "72e550ffac43598b"
  },
  {
   "cell_type": "code",
   "execution_count": null,
   "outputs": [],
   "source": [
    "i = -6\n",
    "print (winners[i])\n",
    "losers[i]"
   ],
   "metadata": {
    "collapsed": false
   },
   "id": "2db600961800aa3e"
  },
  {
   "cell_type": "code",
   "execution_count": null,
   "outputs": [],
   "source": [],
   "metadata": {
    "collapsed": false
   },
   "id": "12c12b59d1c352a7"
  },
  {
   "cell_type": "code",
   "execution_count": null,
   "outputs": [],
   "source": [
    "# todo method to reconstruct search tree based on edge data above\n",
    "# run normal search process, replace run_tac with outcome -> edge, replace get_goals with goal, replace get_tactics with tactic\n",
    "# useful for reward based goal models"
   ],
   "metadata": {
    "collapsed": false
   },
   "id": "c1a6f515b433ebb5"
  },
  {
   "cell_type": "code",
   "execution_count": null,
   "outputs": [],
   "source": [
    "# todo how to merge different attempts of same proof?\n",
    "# For goal data, if proof length is lower, take that data point. If failed, and visit count higher, replace with that as well\n",
    "# I.e. every new attempt, add all new goals, and also update existing goals with above criteria\n",
    "\n",
    "# For edge data...\n",
    "# Assume all valid/invalid edges are still valid/invalid, then those rankings are fine\n",
    "# Rankings from proven/success could be changed if success turns out to be a proof..\n",
    "# Rankings within proof could also change, if shorter proof from children is found\n",
    "# Seems small/unlikely for this to make much of a difference. Worst case is a longer proof is ranked better than a shorter/slower one\n",
    "\n",
    "# Don't just keep best trace, since we may discard useful old goals\n",
    "# Best trace given by the trace with the shortest proof...\n",
    "\n",
    "\n",
    "# todo check logits of forward match those from generation\n",
    "\n",
    "# todo wandb/hydra/resuming eval\n",
    "\n",
    "# todo train scripts for eval models\n",
    "\n",
    "# todo htps\n",
    "\n",
    "# todo add BFS, bestfs"
   ],
   "metadata": {
    "collapsed": false
   },
   "id": "3a5a614fe9a7a2e5"
  }
 ],
 "metadata": {
  "kernelspec": {
   "display_name": "Python 3",
   "language": "python",
   "name": "python3"
  },
  "language_info": {
   "codemirror_mode": {
    "name": "ipython",
    "version": 2
   },
   "file_extension": ".py",
   "mimetype": "text/x-python",
   "name": "python",
   "nbconvert_exporter": "python",
   "pygments_lexer": "ipython2",
   "version": "2.7.6"
  }
 },
 "nbformat": 4,
 "nbformat_minor": 5
}
