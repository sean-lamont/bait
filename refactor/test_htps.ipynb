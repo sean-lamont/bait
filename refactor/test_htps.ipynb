{
 "cells": [
  {
   "cell_type": "code",
   "execution_count": null,
   "metadata": {
    "collapsed": true
   },
   "outputs": [],
   "source": [
    "from refactor.process_traces import get_traces\n",
    "\n",
    "# traces = get_traces('../experiments/runs/leandojo/sample_bestfs_2023_11_29/12_14_36/traces/set.is_wf_min_singleton')\n",
    "# traces = get_traces('../experiments/runs/eval_loop/htps_2023_11_27/19_20_13/traces/*')\n",
    "# traces = get_traces('../experiments/runs/leandojo/sample_bestfs_2023_11_29/14_30_44/traces/algebraic_geometry.Scheme.pullback.p_comm')\n",
    "\n",
    "traces = get_traces('../experiments/runs/leandojo/sample_bestfs_2023_11_29/15_01_36/traces/algebraic_geometry.Scheme.pullback.p_comm')\n",
    "\n"
   ]
  },
  {
   "cell_type": "code",
   "execution_count": null,
   "outputs": [],
   "source": [
    "node_map = {}\n",
    "idx = 0\n",
    "for goal in traces[0].nodes.keys():\n",
    "    if goal not in node_map:\n",
    "        node_map[goal] = idx\n",
    "        idx += 1\n",
    "\n",
    "rev_map = {v:k for k,v in node_map.items()}"
   ],
   "metadata": {
    "collapsed": false
   }
  },
  {
   "cell_type": "code",
   "execution_count": null,
   "outputs": [],
   "source": [],
   "metadata": {
    "collapsed": false
   }
  }
 ],
 "metadata": {
  "kernelspec": {
   "display_name": "Python 3",
   "language": "python",
   "name": "python3"
  },
  "language_info": {
   "codemirror_mode": {
    "name": "ipython",
    "version": 2
   },
   "file_extension": ".py",
   "mimetype": "text/x-python",
   "name": "python",
   "nbconvert_exporter": "python",
   "pygments_lexer": "ipython2",
   "version": "2.7.6"
  }
 },
 "nbformat": 4,
 "nbformat_minor": 0
}
