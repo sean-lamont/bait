{
 "cells": [
  {
   "cell_type": "code",
   "execution_count": null,
   "metadata": {
    "collapsed": true
   },
   "outputs": [],
   "source": [
    "from refactor.process_traces import get_traces\n",
    "\n",
    "traces = get_traces('../experiments/runs/eval_loop/htps_2023_11_27/19_20_13/traces/*')\n",
    "\n"
   ]
  },
  {
   "cell_type": "code",
   "execution_count": null,
   "outputs": [],
   "source": [
    "len(traces)"
   ],
   "metadata": {
    "collapsed": false
   }
  },
  {
   "cell_type": "code",
   "execution_count": null,
   "outputs": [],
   "source": [
    "traces[0]\n"
   ],
   "metadata": {
    "collapsed": false
   }
  },
  {
   "cell_type": "code",
   "execution_count": null,
   "outputs": [],
   "source": [
    "search_trace = traces[0].data['search_trace']\n"
   ],
   "metadata": {
    "collapsed": false
   }
  },
  {
   "cell_type": "code",
   "execution_count": null,
   "outputs": [],
   "source": [
    "len(search_trace)"
   ],
   "metadata": {
    "collapsed": false
   }
  },
  {
   "cell_type": "code",
   "execution_count": null,
   "outputs": [],
   "source": [
    "node_map = {}\n",
    "idx = 0\n",
    "for goal in traces[0].nodes.keys():\n",
    "    if goal not in node_map:\n",
    "        node_map[goal] = idx\n",
    "        idx += 1\n",
    "\n",
    "rev_map = {v:k for k,v in node_map.items()}"
   ],
   "metadata": {
    "collapsed": false
   }
  },
  {
   "cell_type": "code",
   "execution_count": null,
   "outputs": [],
   "source": [
    "rev_map[0]"
   ],
   "metadata": {
    "collapsed": false
   }
  },
  {
   "cell_type": "code",
   "execution_count": null,
   "outputs": [],
   "source": [
    "rev_map[2]"
   ],
   "metadata": {
    "collapsed": false
   }
  },
  {
   "cell_type": "code",
   "execution_count": null,
   "outputs": [],
   "source": [
    "prop_goal, child_goal = 'G : Type u_1,\\n_inst_1 : group G,\\n_inst_2 : finite ↥(commutator_set G)\\n⊢ nat.card ↥(commutator G) ∣ (center G).index ^ ((center G).index * nat.card ↥(commutator_set G) + 1)', 'G : Type u_1,\\n_inst_1 : group G,\\n_inst_2 : finite ↥(commutator_set G)\\n⊢ ℕ'"
   ],
   "metadata": {
    "collapsed": false
   }
  },
  {
   "cell_type": "code",
   "execution_count": null,
   "outputs": [],
   "source": [
    "prop_goal == rev_map[0]"
   ],
   "metadata": {
    "collapsed": false
   }
  },
  {
   "cell_type": "code",
   "execution_count": null,
   "outputs": [],
   "source": [
    "child_goal == rev_map[2]"
   ],
   "metadata": {
    "collapsed": false
   }
  },
  {
   "cell_type": "code",
   "execution_count": null,
   "outputs": [],
   "source": [
    "# todo error appears to be coming from backpropping parent before children are all done. e.g. for final step here, 6 is leaf,\n",
    "# todo and is added to be propped before 2 is finished\n",
    "# todo also, how is the case when one goal appears multiple times dealt with? e.g. node 2 in this example...\n",
    "for i, (edges, tree, leaves) in enumerate(search_trace):\n",
    "    print (i, [(node_map[k], tree[k]['edge'].tactic) for k in tree.keys()], [node_map[g[0].goal] for g in leaves])\n",
    "    print ([(node_map[k], [node_map[d.goal] for d in tree[k]['edge'].dst]) for k in tree.keys()])\n",
    "    print ('\\n\\n')"
   ],
   "metadata": {
    "collapsed": false
   }
  },
  {
   "cell_type": "code",
   "execution_count": null,
   "outputs": [],
   "source": [
    "edges, tree, leaves = search_trace[-1]"
   ],
   "metadata": {
    "collapsed": false
   }
  },
  {
   "cell_type": "code",
   "execution_count": null,
   "outputs": [],
   "source": [
    "tree[child_goal]"
   ],
   "metadata": {
    "collapsed": false
   }
  },
  {
   "cell_type": "code",
   "execution_count": null,
   "outputs": [],
   "source": [],
   "metadata": {
    "collapsed": false
   }
  },
  {
   "cell_type": "code",
   "execution_count": null,
   "outputs": [],
   "source": [
    "[(node_map[g.goal], g.goal in tree, g.goal) for g in edges[(prop_goal, 'apply <a>dvd_of_mul_right_dvd</a>')]['edge'].dst]"
   ],
   "metadata": {
    "collapsed": false
   }
  },
  {
   "cell_type": "code",
   "execution_count": null,
   "outputs": [],
   "source": [
    "tree"
   ],
   "metadata": {
    "collapsed": false
   }
  },
  {
   "cell_type": "code",
   "execution_count": null,
   "outputs": [],
   "source": [
    "traces[0].nodes['G : Type u_1,\\n_inst_1 : group G,\\n_inst_2 : finite ↥(commutator_set G)\\n⊢ nat.card ↥(commutator G) * ?m_1 ∣ (center G).index ^ ((center G).index * nat.card ↥(commutator_set G) + 1)'].in_edges"
   ],
   "metadata": {
    "collapsed": false
   }
  },
  {
   "cell_type": "code",
   "execution_count": null,
   "outputs": [],
   "source": [
    "# the goal not in the tree, is in the leaves?\n",
    "leaves[2][0].goal == 'G : Type u_1,\\n_inst_1 : group G,\\n_inst_2 : finite ↥(commutator_set G)\\n⊢ nat.card ↥(commutator G) * ?m_1 ∣ (center G).index ^ ((center G).index * nat.card ↥(commutator_set G) + 1)'\n"
   ],
   "metadata": {
    "collapsed": false
   }
  },
  {
   "cell_type": "code",
   "execution_count": null,
   "outputs": [],
   "source": [
    "[node_map[g.goal] for g in edges[(prop_goal, 'apply <a>dvd_of_mul_right_dvd</a>')]['edge'].dst]"
   ],
   "metadata": {
    "collapsed": false
   }
  },
  {
   "cell_type": "code",
   "execution_count": null,
   "outputs": [],
   "source": [
    "\n",
    "for goal, data in tree.items():\n",
    "    # if data['parent']:\n",
    "        # print (node_map[goal])\n",
    "        # print (goal)\n",
    "        # print (data['edge'].tactic)\n",
    "        # print ('\\n\\n')\n",
    "\n",
    "\n",
    "        # print (node_map[goal], node_map[data['parent']], data['edge'].src.status)\n",
    "        # print ([node_map[d.goal] for d in tree[data['parent']]['edge'].dst])\n",
    "\n",
    "    print (node_map[goal], data)\n",
    "    if data['parent']:\n",
    "        in_edge = tree[data['parent']]['edge']\n",
    "        for d in in_edge.dst:\n",
    "            assert d.goal in tree, (err_goal := d.goal)\n",
    "\n",
    "\n"
   ],
   "metadata": {
    "collapsed": false
   }
  }
 ],
 "metadata": {
  "kernelspec": {
   "display_name": "Python 3",
   "language": "python",
   "name": "python3"
  },
  "language_info": {
   "codemirror_mode": {
    "name": "ipython",
    "version": 2
   },
   "file_extension": ".py",
   "mimetype": "text/x-python",
   "name": "python",
   "nbconvert_exporter": "python",
   "pygments_lexer": "ipython2",
   "version": "2.7.6"
  }
 },
 "nbformat": 4,
 "nbformat_minor": 0
}
