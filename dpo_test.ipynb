{
 "cells": [
  {
   "cell_type": "code",
   "execution_count": null,
   "outputs": [],
   "source": [
    "# shows that when we train DPO (using data from sampling rather than beam search),\n",
    "# that sampling will result in worse outcomes. It appears that much more unlikely sequences (lower logprob)\n",
    "# are generated with sampling, and the distribution of logprobs is much more spread out\n",
    "# possibly suggests that this makes the model more confident in only a small subset of paths..\n",
    "# timing indicates that a massive increase occurs for DPO trained models when sampling (likely because of the longer sequences)\n",
    "# beamsearch timings are similar"
   ],
   "metadata": {
    "collapsed": false
   }
  },
  {
   "cell_type": "code",
   "execution_count": null,
   "metadata": {
    "collapsed": true
   },
   "outputs": [],
   "source": [
    "from refactor.dpo.model import DPOTrainModule\n",
    "\n",
    "tac_gen_last = DPOTrainModule.load(\n",
    "   'experiments/runs/lean_dojo_dpo/dpo_beamsearch_2023_12_05/10_09_00/checkpoints/last.ckpt', device='cuda', freeze=True\n",
    ")"
   ]
  },
  {
   "cell_type": "code",
   "execution_count": null,
   "outputs": [],
   "source": [
    "tac_gen_first = DPOTrainModule.load(\n",
    "   'experiments/runs/lean_dojo_dpo/dpo_beamsearch_2023_12_05/10_09_00/checkpoints/epoch=0-step=10000-Pass@1_val=0.46.ckpt', device='cuda', freeze=True\n",
    ")\n"
   ],
   "metadata": {
    "collapsed": false
   }
  },
  {
   "cell_type": "code",
   "execution_count": null,
   "outputs": [],
   "source": [
    "from omegaconf import OmegaConf\n",
    "conf = OmegaConf.create({'strategy': 'beam', 'length_penalty': 0.0})"
   ],
   "metadata": {
    "collapsed": false
   }
  },
  {
   "cell_type": "code",
   "execution_count": null,
   "outputs": [],
   "source": [
    "tac_gen_first.gen_config = conf"
   ],
   "metadata": {
    "collapsed": false
   }
  },
  {
   "cell_type": "code",
   "execution_count": null,
   "outputs": [],
   "source": [
    "tac_gen_first.gen_config"
   ],
   "metadata": {
    "collapsed": false
   }
  },
  {
   "cell_type": "code",
   "execution_count": null,
   "outputs": [],
   "source": [
    "tac_gen_last.gen_config = conf"
   ],
   "metadata": {
    "collapsed": false
   }
  },
  {
   "cell_type": "code",
   "execution_count": null,
   "outputs": [],
   "source": [
    "import time\n"
   ],
   "metadata": {
    "collapsed": false
   }
  },
  {
   "cell_type": "code",
   "execution_count": null,
   "outputs": [],
   "source": [
    "t0 = time.monotonic()\n",
    "\n",
    "first_samples = tac_gen_first.batch_generate(state=['E : Type u_3,\\n' +\n",
    "      '_inst_1 : normed_add_comm_group E,\\n' +\n",
    "      'f : ℝ → E,\\n' +\n",
    "      'a b c d : ℝ,\\n' +\n",
    "      'μ : measure ℝ,\\n' +\n",
    "      'h : [c, d] ⊆ [a, b],\\n' +\n",
    "      'hf : integrable_on f (Ι a b) μ,\\n' +\n",
    "      'hc : c = d\\n' +\n",
    "      '⊢ integrable_on f (Ι c d) μ'], retriever_args=None, num_samples=64)\n",
    "\n",
    "first_time = time.monotonic() - t0\n"
   ],
   "metadata": {
    "collapsed": false
   }
  },
  {
   "cell_type": "code",
   "execution_count": null,
   "outputs": [],
   "source": [
    "t0 = time.monotonic()\n",
    "\n",
    "last_samples = tac_gen_last.batch_generate(state=['E : Type u_3,\\n' +\n",
    "      '_inst_1 : normed_add_comm_group E,\\n' +\n",
    "      'f : ℝ → E,\\n' +\n",
    "      'a b c d : ℝ,\\n' +\n",
    "      'μ : measure ℝ,\\n' +\n",
    "      'h : [c, d] ⊆ [a, b],\\n' +\n",
    "      'hf : integrable_on f (Ι a b) μ,\\n' +\n",
    "      'hc : c = d\\n' +\n",
    "      '⊢ integrable_on f (Ι c d) μ'], retriever_args=None, num_samples=64)\n",
    "\n",
    "last_time = time.monotonic() - t0"
   ],
   "metadata": {
    "collapsed": false
   }
  },
  {
   "cell_type": "code",
   "execution_count": null,
   "outputs": [],
   "source": [
    "sorted(first_samples[0], key=lambda x: x[1], reverse=True)"
   ],
   "metadata": {
    "collapsed": false
   }
  },
  {
   "cell_type": "code",
   "execution_count": null,
   "outputs": [],
   "source": [
    "sorted(last_samples[0], key=lambda x: x[1], reverse=True)"
   ],
   "metadata": {
    "collapsed": false
   }
  },
  {
   "cell_type": "code",
   "execution_count": null,
   "outputs": [],
   "source": [
    "import matplotlib.pyplot as plt"
   ],
   "metadata": {
    "collapsed": false
   }
  },
  {
   "cell_type": "code",
   "execution_count": null,
   "outputs": [],
   "source": [
    "first_dist = [x[1] for x in first_samples[0]]\n"
   ],
   "metadata": {
    "collapsed": false
   }
  },
  {
   "cell_type": "code",
   "execution_count": null,
   "outputs": [],
   "source": [
    "first_dist"
   ],
   "metadata": {
    "collapsed": false
   }
  },
  {
   "cell_type": "code",
   "execution_count": null,
   "outputs": [],
   "source": [
    "last_dist = [x[1] for x in last_samples[0]]\n"
   ],
   "metadata": {
    "collapsed": false
   }
  },
  {
   "cell_type": "code",
   "execution_count": null,
   "outputs": [],
   "source": [
    "plt.hist(first_dist, bins = 60)"
   ],
   "metadata": {
    "collapsed": false
   }
  },
  {
   "cell_type": "code",
   "execution_count": null,
   "outputs": [],
   "source": [
    "plt.hist([x for x in last_dist if x > -200], bins=100)"
   ],
   "metadata": {
    "collapsed": false
   }
  },
  {
   "cell_type": "code",
   "execution_count": null,
   "outputs": [],
   "source": [],
   "metadata": {
    "collapsed": false
   }
  }
 ],
 "metadata": {
  "kernelspec": {
   "display_name": "Python 3",
   "language": "python",
   "name": "python3"
  },
  "language_info": {
   "codemirror_mode": {
    "name": "ipython",
    "version": 2
   },
   "file_extension": ".py",
   "mimetype": "text/x-python",
   "name": "python",
   "nbconvert_exporter": "python",
   "pygments_lexer": "ipython2",
   "version": "2.7.6"
  }
 },
 "nbformat": 4,
 "nbformat_minor": 0
}
