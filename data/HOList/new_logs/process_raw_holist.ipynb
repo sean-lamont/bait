{
 "cells": [
  {
   "cell_type": "code",
   "execution_count": null,
   "outputs": [],
   "source": [
    "import re\n",
    "\n",
    "from environments.holist.proof_assistant_pb2 import *"
   ],
   "metadata": {
    "collapsed": false
   }
  },
  {
   "cell_type": "code",
   "execution_count": null,
   "outputs": [],
   "source": [
    "from data.holist.utils import io_util"
   ],
   "metadata": {
    "collapsed": false
   }
  },
  {
   "cell_type": "code",
   "execution_count": null,
   "outputs": [],
   "source": [
    "thm_db = io_util.load_theorem_database_from_file('thm_db')\n",
    "old_db = io_util.load_theorem_database_from_file('../theorem_database_v1.1.textpb')"
   ],
   "metadata": {
    "collapsed": false
   }
  },
  {
   "cell_type": "code",
   "execution_count": null,
   "outputs": [],
   "source": [
    "# can see that all elements in the new database are in the old\n",
    "new_fingerprints = {(x.fingerprint, x.definition.definition_term, x.pretty_printed) for x in thm_db.theorems}\n",
    "old_fingerprints = {(x.fingerprint, x.definition.definition_term, x.pretty_printed) for x in old_db.theorems}\n",
    "print (len(new_fingerprints))\n",
    "print (len(old_fingerprints))\n",
    "print (len(new_fingerprints.intersection(old_fingerprints)))"
   ],
   "metadata": {
    "collapsed": false
   }
  },
  {
   "cell_type": "code",
   "execution_count": null,
   "outputs": [],
   "source": [],
   "metadata": {
    "collapsed": false
   }
  },
  {
   "cell_type": "code",
   "execution_count": null,
   "outputs": [],
   "source": [
    "# contains all core and complex theorems (without flyspeck, which are the only remaining)\n",
    "print (len([x for x in thm_db.theorems if 'complex' in x.library_tag]))\n",
    "print (len([x for x in old_db.theorems if 'complex' in x.library_tag]))\n",
    "print (len([x for x in thm_db.theorems if 'core' in x.library_tag]))\n",
    "print (len([x for x in old_db.theorems if 'core' in x.library_tag]))\n",
    "print (len([x for x in thm_db.theorems if 'flyspeck' in x.library_tag]))\n",
    "print (len([x for x in old_db.theorems if 'flyspeck' in x.library_tag]))\n",
    "print (len(new_fingerprints))"
   ],
   "metadata": {
    "collapsed": false
   }
  },
  {
   "cell_type": "code",
   "execution_count": null,
   "outputs": [],
   "source": [
    "from experiments.holist.deephol_pb2 import *"
   ],
   "metadata": {
    "collapsed": false
   }
  },
  {
   "cell_type": "code",
   "execution_count": null,
   "outputs": [],
   "source": [
    "with open('prooflog') as f:\n",
    "    x = f.read()"
   ],
   "metadata": {
    "collapsed": false
   }
  },
  {
   "cell_type": "code",
   "execution_count": null,
   "outputs": [],
   "source": [
    "x = x.replace('\\n','')\n",
    "x = x.replace('theorem_in_database','\\ntheorem_in_database')\n"
   ],
   "metadata": {
    "collapsed": false
   }
  },
  {
   "cell_type": "code",
   "execution_count": null,
   "outputs": [],
   "source": [
    "with open('prooflog2', 'w') as f:\n",
    "    f.write(x)"
   ],
   "metadata": {
    "collapsed": false
   }
  },
  {
   "cell_type": "code",
   "execution_count": null,
   "outputs": [],
   "source": [
    "# can now read into ProofLog as before, before original processing.\n",
    "from tqdm import tqdm\n",
    "\n",
    "proof_logs = []\n",
    "for i, t in tqdm(enumerate(io_util.load_text_protos('prooflog2', ProofLog))):\n",
    "    proof_logs.append(t)"
   ],
   "metadata": {
    "collapsed": false
   }
  },
  {
   "cell_type": "code",
   "execution_count": null,
   "outputs": [],
   "source": [
    "proof_logs[:10]\n",
    "# todo could add pretty printed expression for parameters in proof. Theorems as before, terms can just have a delimiter for s-exp vs pp\n",
    "# todo environment restrictive, only taking tactic + [term | premises], where term is s-expression only"
   ],
   "metadata": {
    "collapsed": false
   }
  }
 ],
 "metadata": {
  "kernelspec": {
   "display_name": "Python 3",
   "language": "python",
   "name": "python3"
  },
  "language_info": {
   "codemirror_mode": {
    "name": "ipython",
    "version": 2
   },
   "file_extension": ".py",
   "mimetype": "text/x-python",
   "name": "python",
   "nbconvert_exporter": "python",
   "pygments_lexer": "ipython2",
   "version": "2.7.6"
  }
 },
 "nbformat": 4,
 "nbformat_minor": 0
}
