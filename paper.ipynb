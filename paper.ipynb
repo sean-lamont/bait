{
 "cells": [
  {
   "cell_type": "code",
   "execution_count": 1,
   "metadata": {
    "collapsed": true,
    "ExecuteTime": {
     "end_time": "2023-08-09T09:48:51.169770242Z",
     "start_time": "2023-08-09T09:48:51.167723592Z"
    }
   },
   "outputs": [],
   "source": [
    "import pickle\n"
   ]
  },
  {
   "cell_type": "code",
   "execution_count": 3,
   "outputs": [],
   "source": [
    "with open(\"latex_out\", \"rb\") as f:\n",
    "    exprs = pickle.load(f)"
   ],
   "metadata": {
    "collapsed": false,
    "ExecuteTime": {
     "end_time": "2023-08-09T09:49:09.716695247Z",
     "start_time": "2023-08-09T09:49:09.715087520Z"
    }
   }
  },
  {
   "cell_type": "code",
   "execution_count": 7,
   "outputs": [
    {
     "data": {
      "text/plain": "'\\\\ensuremath{\\\\forall}(c :\\\\ensuremath{\\\\alpha}) (n :num) (s :\\\\ensuremath{\\\\alpha} list). PAD\\\\_RIGHT c n s = s ++ GENLIST (K c :num -\\\\ensuremath{>} \\\\ensuremath{\\\\alpha}) (n \\\\ensuremath{-} LENGTH s) & \\\\ensuremath{\\\\forall}(c :\\\\ensuremath{\\\\alpha}) (n :num) (s :\\\\ensuremath{\\\\alpha} list). PAD\\\\_LEFT c n s = GENLIST (K c :num -\\\\ensuremath{>} \\\\ensuremath{\\\\alpha}) (n \\\\ensuremath{-} LENGTH s) ++ s & \\\\ensuremath{\\\\forall}(s :num -\\\\ensuremath{>} bool). FINITE s \\\\ensuremath{\\\\Rightarrow} \\\\ensuremath{\\\\forall}(x :num). x \\\\ensuremath{\\\\in} s \\\\ensuremath{\\\\Rightarrow} x \\\\ensuremath{\\\\leq} MAX\\\\_SET s'"
     },
     "execution_count": 7,
     "metadata": {},
     "output_type": "execute_result"
    }
   ],
   "source": [
    "' & '.join(exprs[0])"
   ],
   "metadata": {
    "collapsed": false,
    "ExecuteTime": {
     "end_time": "2023-08-09T09:49:37.801658662Z",
     "start_time": "2023-08-09T09:49:37.799797512Z"
    }
   }
  },
  {
   "cell_type": "code",
   "execution_count": 184,
   "outputs": [],
   "source": [
    "exprs = exprs[:-3]\n"
   ],
   "metadata": {
    "collapsed": false,
    "ExecuteTime": {
     "end_time": "2023-08-09T10:24:30.315459044Z",
     "start_time": "2023-08-09T10:24:30.313609872Z"
    }
   }
  },
  {
   "cell_type": "code",
   "execution_count": 185,
   "outputs": [
    {
     "data": {
      "text/plain": "['\\\\ensuremath{\\\\forall}(s :\\\\ensuremath{\\\\alpha} -\\\\ensuremath{>} bool) (t :\\\\ensuremath{\\\\alpha} -\\\\ensuremath{>} bool). s \\\\ensuremath{\\\\cup} t = t \\\\ensuremath{\\\\cup} s',\n '\\\\ensuremath{\\\\forall}(s :\\\\ensuremath{\\\\alpha} -\\\\ensuremath{>} bool) (t :\\\\ensuremath{\\\\alpha} -\\\\ensuremath{>} bool) (u :\\\\ensuremath{\\\\alpha} -\\\\ensuremath{>} bool). s \\\\ensuremath{\\\\cup} (t \\\\ensuremath{\\\\cup} u) = s \\\\ensuremath{\\\\cup} t \\\\ensuremath{\\\\cup} u',\n '\\\\ensuremath{\\\\forall}(s :\\\\ensuremath{\\\\alpha} -\\\\ensuremath{>} bool) (t :\\\\ensuremath{\\\\alpha} -\\\\ensuremath{>} bool). s \\\\ensuremath{\\\\cap} t = t \\\\ensuremath{\\\\cap} s']"
     },
     "execution_count": 185,
     "metadata": {},
     "output_type": "execute_result"
    }
   ],
   "source": [
    "exprs[-1]"
   ],
   "metadata": {
    "collapsed": false,
    "ExecuteTime": {
     "end_time": "2023-08-09T10:24:34.864529807Z",
     "start_time": "2023-08-09T10:24:34.862698744Z"
    }
   }
  },
  {
   "cell_type": "code",
   "execution_count": 189,
   "outputs": [],
   "source": [
    "new_tex = []\n"
   ],
   "metadata": {
    "collapsed": false,
    "ExecuteTime": {
     "end_time": "2023-08-09T10:34:48.150988710Z",
     "start_time": "2023-08-09T10:34:48.111108922Z"
    }
   }
  },
  {
   "cell_type": "code",
   "execution_count": 190,
   "outputs": [],
   "source": [
    "for expr in exprs:\n",
    "    for i, h in enumerate(expr):\n",
    "        if i == 0:\n",
    "            new_tex.append('Expression &  ')\n",
    "        elif i ==1:\n",
    "            new_tex.append('GNN & ')\n",
    "        else:\n",
    "            new_tex.append('Original &  ')\n",
    "        new_tex.append(h.replace('\\{\\\\bfseries ?\\}', '') + '\\\\\\\\')\n",
    "        new_tex.append('\\n')\n",
    "\n",
    "    new_tex.append('\\\\hline')\n",
    "    new_tex.append('\\n')\n"
   ],
   "metadata": {
    "collapsed": false,
    "ExecuteTime": {
     "end_time": "2023-08-09T10:34:48.859114501Z",
     "start_time": "2023-08-09T10:34:48.813579842Z"
    }
   }
  },
  {
   "cell_type": "code",
   "execution_count": 191,
   "outputs": [
    {
     "name": "stdout",
     "output_type": "stream",
     "text": [
      "Expression &  \\ensuremath{\\forall}(c :\\ensuremath{\\alpha}) (n :num) (s :\\ensuremath{\\alpha} list). PAD\\_RIGHT c n s = s ++ GENLIST (K c :num -\\ensuremath{>} \\ensuremath{\\alpha}) (n \\ensuremath{-} LENGTH s)\\\\\n",
      "GNN & \\ensuremath{\\forall}(c :\\ensuremath{\\alpha}) (n :num) (s :\\ensuremath{\\alpha} list). PAD\\_LEFT c n s = GENLIST (K c :num -\\ensuremath{>} \\ensuremath{\\alpha}) (n \\ensuremath{-} LENGTH s) ++ s\\\\\n",
      "Original &  \\ensuremath{\\forall}(s :num -\\ensuremath{>} bool). FINITE s \\ensuremath{\\Rightarrow} \\ensuremath{\\forall}(x :num). x \\ensuremath{\\in} s \\ensuremath{\\Rightarrow} x \\ensuremath{\\leq} MAX\\_SET s\\\\\n",
      "\\hline\n",
      "Expression &  \\ensuremath{\\forall}(c :\\ensuremath{\\alpha}) (n :num) (s :\\ensuremath{\\alpha} list). PAD\\_LEFT c n s = GENLIST (K c :num -\\ensuremath{>} \\ensuremath{\\alpha}) (n \\ensuremath{-} LENGTH s) ++ s\\\\\n",
      "GNN & \\ensuremath{\\forall}(c :\\ensuremath{\\alpha}) (n :num) (s :\\ensuremath{\\alpha} list). PAD\\_RIGHT c n s = s ++ GENLIST (K c :num -\\ensuremath{>} \\ensuremath{\\alpha}) (n \\ensuremath{-} LENGTH s)\\\\\n",
      "Original &  \\ensuremath{\\forall}(P :\\ensuremath{\\alpha} -\\ensuremath{>} bool) (Q :\\ensuremath{\\beta} -\\ensuremath{>} bool) (x :\\ensuremath{\\alpha} \\# \\ensuremath{\\beta}). ((P {\\texttimes} Q) x :bool) \\ensuremath{\\Leftrightarrow} FST x \\ensuremath{\\in} P \\ensuremath{\\wedge} SND x \\ensuremath{\\in} Q\\\\\n",
      "\\hline\n",
      "Expression &  (diag (A :\\ensuremath{\\alpha} -\\ensuremath{>} bool)){\\bfseries ?} = diag A\\\\\n",
      "GNN & \\ensuremath{\\forall}(R :\\ensuremath{\\alpha} -\\ensuremath{>} \\ensuremath{\\beta} -\\ensuremath{>} bool). R{\\bfseries ?} {\\bfseries ?} = R\\\\\n",
      "Original &  FINITE (POW (s :\\ensuremath{\\alpha} -\\ensuremath{>} bool)) \\ensuremath{\\Leftrightarrow} FINITE s\\\\\n",
      "\\hline\n",
      "Expression &  \\ensuremath{\\forall}(f :'z -\\ensuremath{>} 'z). INVOL f \\ensuremath{\\Leftrightarrow} \\ensuremath{\\forall}(x :'z). f (f x) = x\\\\\n",
      "GNN & \\ensuremath{\\forall}(f :'z -\\ensuremath{>} 'z). INVOL f \\ensuremath{\\Rightarrow} \\ensuremath{\\forall}(a :'z) (b :'z). f a = f b \\ensuremath{\\Leftrightarrow} a = b\\\\\n",
      "Original &  \\ensuremath{\\forall}(P :\\ensuremath{\\alpha} -\\ensuremath{>} bool) (l :\\ensuremath{\\alpha} list). FILTER P l = ([] :\\ensuremath{\\alpha} list) \\ensuremath{\\Leftrightarrow} EVERY (\\ensuremath{\\lambda}(x :\\ensuremath{\\alpha}). {\\textlnot}P x) l\\\\\n",
      "\\hline\n",
      "Expression &  \\ensuremath{\\forall}(f :'z -\\ensuremath{>} 'z). INVOL f \\ensuremath{\\Rightarrow} \\ensuremath{\\forall}(a :'z) (b :'z). f a = b \\ensuremath{\\Leftrightarrow} a = f b\\\\\n",
      "GNN & \\ensuremath{\\forall}(f :'z -\\ensuremath{>} 'z). INVOL f \\ensuremath{\\Rightarrow} \\ensuremath{\\forall}(a :'z) (b :'z). f a = f b \\ensuremath{\\Leftrightarrow} a = b\\\\\n",
      "Original &  \\ensuremath{\\forall}(x :\\ensuremath{\\alpha}) (f :\\ensuremath{\\beta} -\\ensuremath{>} \\ensuremath{\\alpha} -\\ensuremath{>} bool) (s :\\ensuremath{\\beta} -\\ensuremath{>} bool). x \\ensuremath{\\in} BIGINTER (IMAGE f s) \\ensuremath{\\Leftrightarrow} \\ensuremath{\\forall}(y :\\ensuremath{\\beta}). y \\ensuremath{\\in} s \\ensuremath{\\Rightarrow} x \\ensuremath{\\in} f y\\\\\n",
      "\\hline\n",
      "Expression &  (R1 :\\ensuremath{\\gamma} -\\ensuremath{>} \\ensuremath{\\beta} -\\ensuremath{>} bool) \\ensuremath{\\circ}{\\bfseries ?} (R2 :\\ensuremath{\\delta} -\\ensuremath{>} \\ensuremath{\\gamma} -\\ensuremath{>} bool) \\ensuremath{\\circ}{\\bfseries ?} (R3 :\\ensuremath{\\alpha} -\\ensuremath{>} \\ensuremath{\\delta} -\\ensuremath{>} bool) = (R1 \\ensuremath{\\circ}{\\bfseries ?} R2) \\ensuremath{\\circ}{\\bfseries ?} R3\\\\\n",
      "GNN & transitive (R :\\ensuremath{\\alpha} -\\ensuremath{>} \\ensuremath{\\alpha} -\\ensuremath{>} bool) \\ensuremath{\\Leftrightarrow} R \\ensuremath{\\circ}{\\bfseries ?} R \\ensuremath{\\subseteq}{\\bfseries ?} R\\\\\n",
      "Original &  (R1 :\\ensuremath{\\alpha} -\\ensuremath{>} \\ensuremath{\\beta} -\\ensuremath{>} bool) \\ensuremath{\\cup}{\\bfseries ?} ((R2 :\\ensuremath{\\alpha} -\\ensuremath{>} \\ensuremath{\\beta} -\\ensuremath{>} bool) \\ensuremath{\\cup}{\\bfseries ?} (R3 :\\ensuremath{\\alpha} -\\ensuremath{>} \\ensuremath{\\beta} -\\ensuremath{>} bool)) = R1 \\ensuremath{\\cup}{\\bfseries ?} R2 \\ensuremath{\\cup}{\\bfseries ?} R3\\\\\n",
      "\\hline\n",
      "Expression &  \\ensuremath{\\forall}(R :\\ensuremath{\\alpha} -\\ensuremath{>} \\ensuremath{\\alpha} -\\ensuremath{>} bool) (x :\\ensuremath{\\alpha}) (y :\\ensuremath{\\alpha}). R x y \\ensuremath{\\Rightarrow} RC R x y\\\\\n",
      "GNN & \\ensuremath{\\forall}(R :\\ensuremath{\\alpha} -\\ensuremath{>} \\ensuremath{\\alpha} -\\ensuremath{>} bool). RC (RC R) = RC R\\\\\n",
      "Original &  \\ensuremath{\\forall}(R :\\ensuremath{\\alpha} -\\ensuremath{>} \\ensuremath{\\alpha} -\\ensuremath{>} bool) (x :\\ensuremath{\\alpha}) (y :\\ensuremath{\\alpha}). R x y \\ensuremath{\\Rightarrow} R{\\textasciicircum}= x y\\\\\n",
      "\\hline\n",
      "Expression &  (\\ensuremath{\\forall}(s :\\ensuremath{\\alpha} -\\ensuremath{>} bool) (t :\\ensuremath{\\alpha} -\\ensuremath{>} bool). s \\ensuremath{\\subseteq} s \\ensuremath{\\cup} t) \\ensuremath{\\wedge} \\ensuremath{\\forall}(s :\\ensuremath{\\alpha} -\\ensuremath{>} bool) (t :\\ensuremath{\\alpha} -\\ensuremath{>} bool). s \\ensuremath{\\subseteq} t \\ensuremath{\\cup} s\\\\\n",
      "GNN & (\\ensuremath{\\forall}(s :\\ensuremath{\\alpha} -\\ensuremath{>} bool) (t :\\ensuremath{\\alpha} -\\ensuremath{>} bool). s \\ensuremath{\\cap} t \\ensuremath{\\subseteq} s) \\ensuremath{\\wedge} \\ensuremath{\\forall}(s :\\ensuremath{\\alpha} -\\ensuremath{>} bool) (t :\\ensuremath{\\alpha} -\\ensuremath{>} bool). t \\ensuremath{\\cap} s \\ensuremath{\\subseteq} s\\\\\n",
      "Original &  \\ensuremath{\\forall}(s :\\ensuremath{\\alpha} -\\ensuremath{>} bool) (t :\\ensuremath{\\alpha} -\\ensuremath{>} bool). s \\ensuremath{\\subset} t \\ensuremath{\\Leftrightarrow} s \\ensuremath{\\subseteq} t \\ensuremath{\\wedge} \\ensuremath{\\exists}(y :\\ensuremath{\\alpha}). y \\ensuremath{\\in} t \\ensuremath{\\wedge} y \\ensuremath{\\notin} s\\\\\n",
      "\\hline\n",
      "Expression &  \\ensuremath{\\forall}(s :\\ensuremath{\\alpha} -\\ensuremath{>} bool) (t :\\ensuremath{\\alpha} -\\ensuremath{>} bool). s \\ensuremath{\\subseteq} t \\ensuremath{\\Leftrightarrow} s \\ensuremath{\\cup} t = t\\\\\n",
      "GNN & \\ensuremath{\\forall}(s :\\ensuremath{\\alpha} -\\ensuremath{>} bool) (t :\\ensuremath{\\alpha} -\\ensuremath{>} bool). s DIFF t = (\\ensuremath{\\varnothing} :\\ensuremath{\\alpha} -\\ensuremath{>} bool) \\ensuremath{\\Leftrightarrow} s \\ensuremath{\\subseteq} t\\\\\n",
      "Original &  \\ensuremath{\\forall}(f :\\ensuremath{\\alpha} -\\ensuremath{>} \\ensuremath{\\beta}) (s :\\ensuremath{\\alpha} -\\ensuremath{>} bool) (t :\\ensuremath{\\beta} -\\ensuremath{>} bool). SURJ f s t \\ensuremath{\\Leftrightarrow} IMAGE f s = t\\\\\n",
      "\\hline\n",
      "Expression &  \\ensuremath{\\forall}(s :\\ensuremath{\\alpha} -\\ensuremath{>} bool). s \\ensuremath{\\subseteq} \\ensuremath{\\mathbb{U}}(:\\ensuremath{\\alpha})\\\\\n",
      "GNN & \\ensuremath{\\forall}(s :\\ensuremath{\\alpha} -\\ensuremath{>} bool). \\ensuremath{\\mathbb{U}}(:\\ensuremath{\\alpha}) \\ensuremath{\\subseteq} s \\ensuremath{\\Leftrightarrow} s = \\ensuremath{\\mathbb{U}}(:\\ensuremath{\\alpha})\\\\\n",
      "Original &  \\ensuremath{\\forall}(x :\\ensuremath{\\alpha}). x \\ensuremath{\\in} \\ensuremath{\\mathbb{U}}(:\\ensuremath{\\alpha})\\\\\n",
      "\\hline\n",
      "Expression &  SUM\\_SET (count (n :num)) = ((n * (n \\ensuremath{-} (1 :num))) :num) DIV (2 :num)\\\\\n",
      "GNN & \\ensuremath{\\forall}(n :num). (((2 :num) * SUM\\_SET (count n)) :num) = ((n * (n \\ensuremath{-} (1 :num))) :num)\\\\\n",
      "Original &  \\ensuremath{\\forall}(l :\\ensuremath{\\alpha} list). (0 :num) \\ensuremath{<} LENGTH l \\ensuremath{\\Rightarrow} LENGTH (TL l) = LENGTH l \\ensuremath{-} (1 :num)\\\\\n",
      "\\hline\n",
      "Expression &  \\ensuremath{\\forall}(s :\\ensuremath{\\alpha} -\\ensuremath{>} bool) (t :\\ensuremath{\\alpha} -\\ensuremath{>} bool) (x :\\ensuremath{\\alpha}). (s \\ensuremath{\\cup} t) x \\ensuremath{\\Leftrightarrow} x \\ensuremath{\\in} s \\ensuremath{\\vee} x \\ensuremath{\\in} t\\\\\n",
      "GNN & \\ensuremath{\\forall}(s :\\ensuremath{\\alpha} -\\ensuremath{>} bool) (t :\\ensuremath{\\alpha} -\\ensuremath{>} bool) (x :\\ensuremath{\\alpha}). x \\ensuremath{\\in} s \\ensuremath{\\cup} t \\ensuremath{\\Leftrightarrow} x \\ensuremath{\\in} s \\ensuremath{\\vee} x \\ensuremath{\\in} t\\\\\n",
      "Original &  \\ensuremath{\\forall}(s :\\ensuremath{\\alpha} -\\ensuremath{>} bool) (t :\\ensuremath{\\alpha} -\\ensuremath{>} bool) (x :\\ensuremath{\\alpha}). (s \\ensuremath{\\cap} t) x \\ensuremath{\\Leftrightarrow} x \\ensuremath{\\in} s \\ensuremath{\\wedge} x \\ensuremath{\\in} t\\\\\n",
      "\\hline\n",
      "Expression &  \\ensuremath{\\forall}(s :\\ensuremath{\\alpha} -\\ensuremath{>} bool) (t :\\ensuremath{\\alpha} -\\ensuremath{>} bool) (u :\\ensuremath{\\alpha} -\\ensuremath{>} bool). s \\ensuremath{\\cup} (t \\ensuremath{\\cup} u) = s \\ensuremath{\\cup} t \\ensuremath{\\cup} u\\\\\n",
      "GNN & \\ensuremath{\\forall}(s :\\ensuremath{\\alpha} -\\ensuremath{>} bool) (t :\\ensuremath{\\alpha} -\\ensuremath{>} bool). s \\ensuremath{\\cup} t = t \\ensuremath{\\cup} s\\\\\n",
      "Original &  \\ensuremath{\\forall}(s :\\ensuremath{\\alpha} -\\ensuremath{>} bool) (t :\\ensuremath{\\alpha} -\\ensuremath{>} bool) (u :\\ensuremath{\\alpha} -\\ensuremath{>} bool). s \\ensuremath{\\cap} (t \\ensuremath{\\cap} u) = s \\ensuremath{\\cap} t \\ensuremath{\\cap} u\\\\\n",
      "\\hline\n",
      "Expression &  \\ensuremath{\\forall}(s :\\ensuremath{\\alpha} -\\ensuremath{>} bool) (t :\\ensuremath{\\alpha} -\\ensuremath{>} bool). s \\ensuremath{\\cup} t = t \\ensuremath{\\cup} s\\\\\n",
      "GNN & \\ensuremath{\\forall}(s :\\ensuremath{\\alpha} -\\ensuremath{>} bool) (t :\\ensuremath{\\alpha} -\\ensuremath{>} bool) (u :\\ensuremath{\\alpha} -\\ensuremath{>} bool). s \\ensuremath{\\cup} (t \\ensuremath{\\cup} u) = s \\ensuremath{\\cup} t \\ensuremath{\\cup} u\\\\\n",
      "Original &  \\ensuremath{\\forall}(s :\\ensuremath{\\alpha} -\\ensuremath{>} bool) (t :\\ensuremath{\\alpha} -\\ensuremath{>} bool). s \\ensuremath{\\cap} t = t \\ensuremath{\\cap} s\\\\\n",
      "\\hline\n",
      "\n"
     ]
    }
   ],
   "source": [
    "print (''.join(new_tex))"
   ],
   "metadata": {
    "collapsed": false,
    "ExecuteTime": {
     "end_time": "2023-08-09T10:34:49.270835142Z",
     "start_time": "2023-08-09T10:34:49.268954629Z"
    }
   }
  },
  {
   "cell_type": "code",
   "execution_count": null,
   "outputs": [],
   "source": [],
   "metadata": {
    "collapsed": false
   }
  },
  {
   "cell_type": "code",
   "execution_count": 120,
   "outputs": [
    {
     "name": "stdout",
     "output_type": "stream",
     "text": [
      "\\ensuremath{\\forall}(c :\\ensuremath{\\alpha}) (n :num) (s :\\ensuremath{\\alpha} list). PAD\\_RIGHT c n s = s ++ GENLIST (K c :num -\\ensuremath{>} \\ensuremath{\\alpha}) (n \\ensuremath{-} LENGTH s) & \\ensuremath{\\forall}(c :\\ensuremath{\\alpha}) (n :num) (s :\\ensuremath{\\alpha} list). PAD\\_LEFT c n s = GENLIST (K c :num -\\ensuremath{>} \\ensuremath{\\alpha}) (n \\ensuremath{-} LENGTH s) ++ s & \\ensuremath{\\forall}(s :num -\\ensuremath{>} bool). FINITE s \\ensuremath{\\Rightarrow} \\ensuremath{\\forall}(x :num). x \\ensuremath{\\in} s \\ensuremath{\\Rightarrow} x \\ensuremath{\\leq} MAX\\_SET s\\\n"
     ]
    }
   ],
   "source": [
    "print (new_tex[0])\n"
   ],
   "metadata": {
    "collapsed": false,
    "ExecuteTime": {
     "end_time": "2023-08-09T10:10:34.843906008Z",
     "start_time": "2023-08-09T10:10:34.842811471Z"
    }
   }
  },
  {
   "cell_type": "code",
   "execution_count": null,
   "outputs": [],
   "source": [],
   "metadata": {
    "collapsed": false
   }
  }
 ],
 "metadata": {
  "kernelspec": {
   "display_name": "Python 3",
   "language": "python",
   "name": "python3"
  },
  "language_info": {
   "codemirror_mode": {
    "name": "ipython",
    "version": 2
   },
   "file_extension": ".py",
   "mimetype": "text/x-python",
   "name": "python",
   "nbconvert_exporter": "python",
   "pygments_lexer": "ipython2",
   "version": "2.7.6"
  }
 },
 "nbformat": 4,
 "nbformat_minor": 0
}
