{
 "cells": [
  {
   "cell_type": "code",
   "execution_count": 80,
   "metadata": {
    "collapsed": true
   },
   "outputs": [],
   "source": [
    "import torch\n",
    "import pickle\n",
    "from torch_geometric.data import Data\n",
    "from torch_geometric.loader import DataLoader\n",
    "import math\n"
   ]
  },
  {
   "cell_type": "code",
   "execution_count": 103,
   "outputs": [],
   "source": [
    "def positional_encoding(d_model, depth_vec):\n",
    "    size,_ = depth_vec.shape\n",
    "\n",
    "    div_term = torch.exp(torch.arange(0, d_model, 2) * (-math.log(10000.0) / d_model))\n",
    "\n",
    "    pe = torch.zeros(size, d_model)\n",
    "\n",
    "    pe[:, 0::2] = torch.sin(depth_vec * div_term)\n",
    "    pe[:, 1::2] = torch.cos(depth_vec * div_term)\n",
    "\n",
    "    return pe\n",
    "\n",
    "def to_combined_batch(list_data, data_dict, embedding_dim):\n",
    "    batch_list = []\n",
    "    for (x1, x2, y) in list_data:\n",
    "        # x1/x_t is conj, x2/x_s is stmt\n",
    "        conj = x1\n",
    "        stmt = x2\n",
    "\n",
    "        conj_graph = data_dict[conj]\n",
    "        stmt_graph = data_dict[stmt]\n",
    "\n",
    "        # batch_list.append(\n",
    "        #     LinkData(edge_index_s=stmt_graph.edge_index, x_s=stmt_graph.x, edge_attr_s=stmt_graph.edge_attr, edge_index_t=conj_graph.edge_index, x_t=conj_graph.x, edge_attr_t=conj_graph.edge_attr, y=torch.tensor(y)))\n",
    "\n",
    "        # Concatenate node feature matrices\n",
    "        combined_features = torch.cat([conj_graph.x, stmt_graph.x], dim=0)\n",
    "\n",
    "        # Combine edge indices\n",
    "        num_nodes_g1 = conj_graph.num_nodes\n",
    "        edge_index1 = conj_graph.edge_index\n",
    "        edge_index2 = stmt_graph.edge_index +num_nodes_g1\n",
    "        combined_edge_index = torch.cat([edge_index1, edge_index2], dim=1)\n",
    "\n",
    "        # combine edge attributes\n",
    "        edge_attr1 = conj_graph.edge_attr\n",
    "        edge_attr2 = stmt_graph.edge_attr +num_nodes_g1\n",
    "        combined_edge_attr = torch.cat([edge_attr1, edge_attr2], dim=0)\n",
    "\n",
    "\n",
    "        # Compute disjoint pairwise complete edge indices\n",
    "        complete_edge_index1 = torch.cartesian_prod(torch.arange(num_nodes_g1),\n",
    "                                                    torch.arange(num_nodes_g1))  # All pairs of nodes in conj_graph\n",
    "\n",
    "        complete_edge_index2 = torch.cartesian_prod(torch.arange(num_nodes_g1, num_nodes_g1 + stmt_graph.num_nodes),\n",
    "                                                    torch.arange(num_nodes_g1,\n",
    "                                                                num_nodes_g1 + stmt_graph.num_nodes))  # All pairs of nodes in stmt_graph\n",
    "\n",
    "        complete_edge_index = torch.cat([complete_edge_index1, complete_edge_index2], dim=0).t().contiguous()\n",
    "\n",
    "\n",
    "        # positional encodings\n",
    "\n",
    "        graph_ind = torch.cat([torch.ones(num_nodes_g1), torch.ones(stmt_graph.num_nodes) * 2], dim=0)\n",
    "        pos_enc = positional_encoding(embedding_dim, graph_ind.unsqueeze(1))\n",
    "\n",
    "\n",
    "        #append combined graph to batch\n",
    "        batch_list.append(CombinedGraphData(combined_x=combined_features,combined_edge_index=combined_edge_index, combined_edge_attr=combined_edge_attr, complete_edge_index=complete_edge_index, num_nodes_g1=num_nodes_g1, pos_enc=pos_enc, y=y))\n",
    "\n",
    "    loader = iter(DataLoader(batch_list, batch_size=len(batch_list)))\n",
    "\n",
    "    batch = next(iter(loader))\n",
    "\n",
    "    return batch\n",
    "\n",
    "\n",
    "class CombinedGraphData(Data):\n",
    "    def __init__(self, combined_x, combined_edge_index, num_nodes_g1, y, combined_edge_attr=None, complete_edge_index=None, pos_enc = None):\n",
    "        super().__init__()\n",
    "        self.y = y\n",
    "        # node features concatenated along first dimension\n",
    "        self.x = combined_x\n",
    "        # adjacency matrix representing nodes from both graphs. Nodes from second graph have num_nodes_g1 added so they represent disjoint sets, but can be computed in parallel\n",
    "        self.edge_index = combined_edge_index\n",
    "        self.num_nodes_g1 = num_nodes_g1\n",
    "\n",
    "        # combined edge features in format as above\n",
    "        self.combined_edge_attr = combined_edge_attr\n",
    "\n",
    "        self.complete_edge_index = complete_edge_index\n",
    "        self.pos_enc = pos_enc\n"
   ],
   "metadata": {
    "collapsed": false
   }
  },
  {
   "cell_type": "code",
   "execution_count": 104,
   "outputs": [],
   "source": [
    "batch = to_combined_batch(train[:2], torch_graph_dict, 128)\n"
   ],
   "metadata": {
    "collapsed": false
   }
  },
  {
   "cell_type": "code",
   "execution_count": 105,
   "outputs": [
    {
     "data": {
      "text/plain": "CombinedGraphDataBatch(y=[2], x=[117, 1000], edge_index=[2, 159], num_nodes_g1=[2], combined_edge_attr=[159], complete_edge_index=[2, 4183], pos_enc=[117, 128], batch=[117], ptr=[3])"
     },
     "execution_count": 105,
     "metadata": {},
     "output_type": "execute_result"
    }
   ],
   "source": [
    "batch\n"
   ],
   "metadata": {
    "collapsed": false
   }
  },
  {
   "cell_type": "code",
   "execution_count": 106,
   "outputs": [
    {
     "data": {
      "text/plain": "tensor([53, 22])"
     },
     "execution_count": 106,
     "metadata": {},
     "output_type": "execute_result"
    }
   ],
   "source": [
    "batch.num_nodes_g1"
   ],
   "metadata": {
    "collapsed": false
   }
  },
  {
   "cell_type": "code",
   "execution_count": 123,
   "outputs": [
    {
     "data": {
      "text/plain": "tensor([ 0.,  1.,  2.,  3.,  4.,  0.,  1.,  0.,  1.,  0.,  1.,  0.,  1.,  2.,\n         3.,  0.,  1.,  0.,  1.,  0.,  0.,  0.,  1.,  2.,  3.,  0.,  0.,  1.,\n         0.,  0.,  0.,  1.,  0.,  1.,  0.,  1.,  0.,  1.,  2.,  3.,  4.,  0.,\n         0.,  1.,  2.,  3.,  0.,  0.,  0.,  0.,  1.,  0.,  0.,  1.,  0.,  1.,\n         0.,  0.,  0.,  0.,  1.,  2.,  0.,  1.,  0.,  0.,  1.,  0.,  1.,  0.,\n         0.,  1.,  2.,  3.,  4.,  0.,  1.,  0.,  1.,  0.,  1.,  2.,  0.,  1.,\n        53., 53., 54., 53., 53., 54., 53., 54., 53., 54., 53., 54., 53., 54.,\n        53., 53., 54., 53., 54., 53., 53., 54.,  0.,  0.,  1.,  0.,  1.,  0.,\n         1.,  0.,  1.,  0.,  1.,  0.,  1.,  0.,  1.,  0.,  0.,  1.,  0.,  1.,\n         0.,  1.,  0.,  1.,  0.,  1.,  0.,  1.,  0.,  1.,  0.,  0.,  1.,  0.,\n         1., 22., 23., 22., 22., 23., 22., 22., 23., 22., 23., 22., 22., 23.,\n        22., 22., 22., 22., 23.])"
     },
     "execution_count": 123,
     "metadata": {},
     "output_type": "execute_result"
    }
   ],
   "source": [
    "batch.combined_edge_attr"
   ],
   "metadata": {
    "collapsed": false
   }
  },
  {
   "cell_type": "code",
   "execution_count": null,
   "outputs": [],
   "source": [],
   "metadata": {
    "collapsed": false
   }
  },
  {
   "cell_type": "code",
   "execution_count": 121,
   "outputs": [
    {
     "data": {
      "text/plain": "tensor([-6.7826e-02,  9.5645e-01, -2.2533e-01,  8.0834e-01, -3.1592e-01,\n         6.6081e-01, -3.5853e-01,  5.2777e-01, -3.6896e-01,  4.1455e-01,\n        -3.5916e-01,  3.2171e-01, -3.3759e-01,  2.4746e-01, -3.1002e-01,\n         1.8912e-01, -2.8014e-01,  1.4384e-01, -2.5028e-01,  1.0901e-01,\n        -2.2177e-01,  8.2390e-02, -1.9534e-01,  6.2150e-02, -1.7131e-01,\n         4.6812e-02, -1.4975e-01,  3.5220e-02, -1.3060e-01,  2.6477e-02,\n        -1.1369e-01,  1.9892e-02, -9.8836e-02,  1.4938e-02, -8.5840e-02,\n         1.1213e-02, -7.4498e-02,  8.4153e-03, -6.4619e-02,  6.3143e-03,\n        -5.6027e-02,  4.7372e-03, -4.8562e-02,  3.5535e-03, -4.2082e-02,\n         2.6655e-03, -3.6461e-02,  1.9992e-03, -3.1586e-02,  1.4994e-03,\n        -2.7360e-02,  1.1245e-03, -2.3698e-02,  8.4335e-04, -2.0525e-02,\n         6.3246e-04, -1.7776e-02,  4.7427e-04, -1.5395e-02,  3.5566e-04,\n        -1.3332e-02,  2.6673e-04, -1.1546e-02,  1.9997e-04, -9.9988e-03,\n         1.4997e-04, -8.6589e-03,  1.1247e-04, -7.4984e-03,  8.4341e-05,\n        -6.4935e-03,  6.3241e-05, -5.6232e-03,  4.7445e-05, -4.8695e-03,\n         3.5584e-05, -4.2169e-03,  2.6703e-05, -3.6517e-03,  1.9968e-05,\n        -3.1622e-03,  1.4961e-05, -2.7384e-03,  1.1265e-05, -2.3714e-03,\n         8.4639e-06, -2.0535e-03,  6.3181e-06, -1.7783e-03,  4.7684e-06,\n        -1.5399e-03,  3.5167e-06, -1.3335e-03,  2.6822e-06, -1.1548e-03,\n         2.0266e-06, -1.0000e-03,  1.4901e-06, -8.6596e-04,  1.1325e-06,\n        -7.4989e-04,  8.3447e-07, -6.4938e-04,  6.5565e-07, -5.6234e-04,\n         4.7684e-07, -4.8697e-04,  3.5763e-07, -4.2170e-04,  2.9802e-07,\n        -3.6517e-04,  1.7881e-07, -3.1623e-04,  1.1921e-07, -2.7384e-04,\n         5.9605e-08, -2.3714e-04,  1.1921e-07, -2.0535e-04,  5.9605e-08,\n        -1.7783e-04,  5.9605e-08, -1.5399e-04,  5.9605e-08, -1.3335e-04,\n         0.0000e+00, -1.1548e-04,  0.0000e+00])"
     },
     "execution_count": 121,
     "metadata": {},
     "output_type": "execute_result"
    }
   ],
   "source": [
    "batch.pos_enc[52] - batch.pos_enc[53]"
   ],
   "metadata": {
    "collapsed": false
   }
  },
  {
   "cell_type": "code",
   "execution_count": 120,
   "outputs": [
    {
     "data": {
      "text/plain": "tensor([ 9.0930e-01, -4.1615e-01,  9.8705e-01, -1.6044e-01,  9.9748e-01,\n         7.0948e-02,  9.6323e-01,  2.6869e-01,  9.0213e-01,  4.3146e-01,\n         8.2710e-01,  5.6205e-01,  7.4690e-01,  6.6493e-01,  6.6713e-01,\n         7.4494e-01,  5.9113e-01,  8.0658e-01,  5.2071e-01,  8.5373e-01,\n         4.5669e-01,  8.8962e-01,  3.9926e-01,  9.1684e-01,  3.4821e-01,\n         9.3742e-01,  3.0314e-01,  9.5295e-01,  2.6355e-01,  9.6464e-01,\n         2.2891e-01,  9.7345e-01,  1.9867e-01,  9.8007e-01,  1.7233e-01,\n         9.8504e-01,  1.4942e-01,  9.8877e-01,  1.2951e-01,  9.9158e-01,\n         1.1223e-01,  9.9368e-01,  9.7240e-02,  9.9526e-01,  8.4239e-02,\n         9.9645e-01,  7.2970e-02,  9.9733e-01,  6.3203e-02,  9.9800e-01,\n         5.4741e-02,  9.9850e-01,  4.7410e-02,  9.9888e-01,  4.1059e-02,\n         9.9916e-01,  3.5558e-02,  9.9937e-01,  3.0794e-02,  9.9953e-01,\n         2.6667e-02,  9.9964e-01,  2.3094e-02,  9.9973e-01,  1.9999e-02,\n         9.9980e-01,  1.7318e-02,  9.9985e-01,  1.4997e-02,  9.9989e-01,\n         1.2987e-02,  9.9992e-01,  1.1247e-02,  9.9994e-01,  9.7392e-03,\n         9.9995e-01,  8.4338e-03,  9.9996e-01,  7.3034e-03,  9.9997e-01,\n         6.3245e-03,  9.9998e-01,  5.4768e-03,  9.9998e-01,  4.7427e-03,\n         9.9999e-01,  4.1070e-03,  9.9999e-01,  3.5566e-03,  9.9999e-01,\n         3.0798e-03,  1.0000e+00,  2.6670e-03,  1.0000e+00,  2.3096e-03,\n         1.0000e+00,  2.0000e-03,  1.0000e+00,  1.7319e-03,  1.0000e+00,\n         1.4998e-03,  1.0000e+00,  1.2988e-03,  1.0000e+00,  1.1247e-03,\n         1.0000e+00,  9.7393e-04,  1.0000e+00,  8.4339e-04,  1.0000e+00,\n         7.3035e-04,  1.0000e+00,  6.3246e-04,  1.0000e+00,  5.4768e-04,\n         1.0000e+00,  4.7427e-04,  1.0000e+00,  4.1070e-04,  1.0000e+00,\n         3.5566e-04,  1.0000e+00,  3.0799e-04,  1.0000e+00,  2.6670e-04,\n         1.0000e+00,  2.3096e-04,  1.0000e+00])"
     },
     "execution_count": 120,
     "metadata": {},
     "output_type": "execute_result"
    }
   ],
   "source": [
    "batch.pos_enc[53]"
   ],
   "metadata": {
    "collapsed": false
   }
  },
  {
   "cell_type": "code",
   "execution_count": 8,
   "outputs": [],
   "source": [
    "with open(\"/home/sean/Documents/phd/aitp/data/hol4/train_test_data.pk\", \"rb\") as f:\n",
    "    train, val, test, enc_nodes = pickle.load(f)\n",
    "\n",
    "with open(\"/home/sean/Documents/phd/aitp/data/hol4/torch_graph_dict.pk\", \"rb\") as f:\n",
    "    torch_graph_dict = pickle.load(f)\n"
   ],
   "metadata": {
    "collapsed": false
   }
  },
  {
   "cell_type": "code",
   "execution_count": 13,
   "outputs": [
    {
     "data": {
      "text/plain": "Data(x=[53, 1000], edge_index=[2, 84], edge_attr=[84], labels=[53])"
     },
     "execution_count": 13,
     "metadata": {},
     "output_type": "execute_result"
    }
   ],
   "source": [
    "torch_graph_dict[train[0][0]]"
   ],
   "metadata": {
    "collapsed": false
   }
  },
  {
   "cell_type": "code",
   "execution_count": 53,
   "outputs": [
    {
     "name": "stdout",
     "output_type": "stream",
     "text": [
      "tensor([0., 1., 2., 3., 4., 0., 1., 0., 1., 0., 1., 0., 1., 2., 3., 0., 1., 0.,\n",
      "        1., 0., 0., 0., 1., 2., 3., 0., 0., 1., 0., 0., 0., 1., 0., 1., 0., 1.,\n",
      "        0., 1., 2., 3., 4., 0., 0., 1., 2., 3., 0., 0., 0., 0., 1., 0., 0., 1.,\n",
      "        0., 1., 0., 0., 0., 0., 1., 2., 0., 1., 0., 0., 1., 0., 1., 0., 0., 1.,\n",
      "        2., 3., 4., 0., 1., 0., 1., 0., 1., 2., 0., 1.])\n",
      "tensor([0., 0., 1., 0., 0., 1., 0., 1., 0., 1., 0., 1., 0., 1., 0., 0., 1., 0.,\n",
      "        1., 0., 0., 1.])\n",
      "tensor([0., 0., 1., 0., 1., 0., 1., 0., 1., 0., 1., 0., 1., 0., 1., 0., 0., 1.,\n",
      "        0., 1., 0., 1., 0., 1., 0., 1., 0., 1., 0., 1., 0., 0., 1., 0., 1.])\n",
      "tensor([0., 1., 0., 0., 1., 0., 0., 1., 0., 1., 0., 0., 1., 0., 0., 0., 0., 1.])\n",
      "('@ C$bool$ ! | Vn @ C$bool$ ! | Vm @ C$bool$ ! | Vp @ @ C$bool$ /\\\\ @ @ C$min$ = @ @ C$arithmetic$ <= @ @ C$arithmetic$ MIN Vm Vn Vp @ @ C$bool$ \\\\/ @ @ C$arithmetic$ <= Vm Vp @ @ C$arithmetic$ <= Vn Vp @ @ C$min$ = @ @ C$arithmetic$ <= Vp @ @ C$arithmetic$ MIN Vm Vn @ @ C$bool$ /\\\\ @ @ C$arithmetic$ <= Vp Vm @ @ C$arithmetic$ <= Vp Vn', '@ @ C$min$ = @ @ C$prim_rec$ < @ C$arithmetic$ NUMERAL @ C$arithmetic$ BIT1 C$arithmetic$ ZERO Vn @ @ C$bool$ /\\\\ @ @ C$prim_rec$ < C$num$ 0 Vn @ @ C$min$ = @ @ C$arithmetic$ MOD @ C$arithmetic$ NUMERAL @ C$arithmetic$ BIT1 C$arithmetic$ ZERO Vn @ C$arithmetic$ NUMERAL @ C$arithmetic$ BIT1 C$arithmetic$ ZERO', 0)\n"
     ]
    }
   ],
   "source": [
    "\n",
    "print(torch_graph_dict[train[0][0]].edge_attr)\n",
    "print(torch_graph_dict[train[0][1]].edge_attr)\n",
    "\n",
    "print(torch_graph_dict[train[1][0]].edge_attr)\n",
    "print(torch_graph_dict[train[1][1]].edge_attr)\n",
    "\n",
    "\n",
    "print (train[1])"
   ],
   "metadata": {
    "collapsed": false
   }
  },
  {
   "cell_type": "code",
   "execution_count": 24,
   "outputs": [
    {
     "data": {
      "text/plain": "4183"
     },
     "execution_count": 24,
     "metadata": {},
     "output_type": "execute_result"
    }
   ],
   "source": [],
   "metadata": {
    "collapsed": false
   }
  },
  {
   "cell_type": "code",
   "execution_count": 59,
   "outputs": [
    {
     "data": {
      "text/plain": "CombinedGraphDataBatch(y=[2], x=[117, 1000], edge_index=[2, 159], num_nodes_g1=[2], combined_edge_attr=[159], complete_edge_index=[2, 4183], batch=[117], ptr=[3])"
     },
     "execution_count": 59,
     "metadata": {},
     "output_type": "execute_result"
    }
   ],
   "source": [
    "batch\n"
   ],
   "metadata": {
    "collapsed": false
   }
  },
  {
   "cell_type": "code",
   "execution_count": 50,
   "outputs": [
    {
     "data": {
      "text/plain": "tensor([53, 22])"
     },
     "execution_count": 50,
     "metadata": {},
     "output_type": "execute_result"
    }
   ],
   "source": [
    "batch.num_nodes_g1"
   ],
   "metadata": {
    "collapsed": false
   }
  },
  {
   "cell_type": "code",
   "execution_count": 28,
   "outputs": [
    {
     "data": {
      "text/plain": "tensor([1, 0])"
     },
     "execution_count": 28,
     "metadata": {},
     "output_type": "execute_result"
    }
   ],
   "source": [
    "batch.y"
   ],
   "metadata": {
    "collapsed": false
   }
  }
 ],
 "metadata": {
  "kernelspec": {
   "name": "torch_env",
   "language": "python",
   "display_name": "torch_env"
  },
  "language_info": {
   "codemirror_mode": {
    "name": "ipython",
    "version": 2
   },
   "file_extension": ".py",
   "mimetype": "text/x-python",
   "name": "python",
   "nbconvert_exporter": "python",
   "pygments_lexer": "ipython2",
   "version": "2.7.6"
  }
 },
 "nbformat": 4,
 "nbformat_minor": 0
}
