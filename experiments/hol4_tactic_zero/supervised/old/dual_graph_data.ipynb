{
 "cells": [
  {
   "cell_type": "code",
   "execution_count": 1,
   "metadata": {
    "collapsed": true
   },
   "outputs": [],
   "source": [
    "import pickle\n",
    "from torch_geometric.data import Data\n",
    "import torch_geometric.utils\n",
    "from torch_geometric.loader import DataLoader\n",
    "import torch\n",
    "import data\n"
   ]
  },
  {
   "cell_type": "code",
   "execution_count": 4,
   "outputs": [],
   "source": [
    "\n",
    "class LinkData(Data):\n",
    "    def __init__(self, edge_index_s=None, x_s=None, edge_index_t=None, x_t=None, edge_attr_s=None, edge_attr_t = None,\n",
    "                 y=None, x_s_one_hot=None, x_t_one_hot=None, edge_index_s_complete=None, edge_index_t_complete=None, depth_x_s=None, depth_x_t=None):\n",
    "        super().__init__()\n",
    "\n",
    "        self.edge_index_s = edge_index_s\n",
    "        self.x_s = x_s\n",
    "\n",
    "        self.edge_index_t = edge_index_t\n",
    "        self.x_t = x_t\n",
    "\n",
    "        self.edge_attr_s = edge_attr_s\n",
    "        self.edge_attr_t = edge_attr_t\n",
    "\n",
    "        self.x_s_one_hot=x_s_one_hot\n",
    "        self.x_t_one_hot=x_t_one_hot\n",
    "\n",
    "        self.edge_index_t_complete = edge_index_t_complete\n",
    "        self.edge_index_s_complete = edge_index_s_complete\n",
    "\n",
    "        self.depth_x_s = depth_x_s\n",
    "        self.depth_x_t = depth_x_t\n",
    "\n",
    "        self.y = y\n",
    "\n",
    "\n",
    "    def __inc__(self, key, value, *args, **kwargs):\n",
    "        if key == 'edge_index_s' or key == 'edge_index_s_complete':\n",
    "            return self.x_s.size(0)\n",
    "        if key == 'edge_index_t' or key == 'edge_index_t_complete':\n",
    "            return self.x_t.size(0)\n",
    "        else:\n",
    "            return super().__inc__(key, value, *args, **kwargs)\n"
   ],
   "metadata": {
    "collapsed": false
   }
  },
  {
   "cell_type": "code",
   "execution_count": 5,
   "outputs": [],
   "source": [
    "with open(\"/home/sean/Documents/phd/aitp/data/hol4/graph_train_val.pk\", \"rb\") as f:\n",
    "    new_train, new_val = pickle.load(f)\n"
   ],
   "metadata": {
    "collapsed": false
   }
  },
  {
   "cell_type": "code",
   "execution_count": 13,
   "outputs": [
    {
     "data": {
      "text/plain": "LinkDataBatch(edge_index_s=[2, 40], x_s=[42, 1000], edge_index_t=[2, 119], x_t=[75, 1000], edge_attr_s=[40], edge_attr_t=[119], x_s_one_hot=[2], x_t_one_hot=[2], edge_index_t_complete=[2, 3293], edge_index_s_complete=[2, 890], y=[2])"
     },
     "execution_count": 13,
     "metadata": {},
     "output_type": "execute_result"
    }
   ],
   "source": [
    "loader = DataLoader(new_train, batch_size=3, follow_batch=['x_s', 'x_t'])\n",
    "\n",
    "val_loader = iter(DataLoader(new_val, batch_size=3, follow_batch=['x_s', 'x_t']))"
   ],
   "metadata": {
    "collapsed": false
   }
  },
  {
   "cell_type": "code",
   "execution_count": 30,
   "outputs": [],
   "source": [
    "batch = next(iter(loader))"
   ],
   "metadata": {
    "collapsed": false
   }
  },
  {
   "cell_type": "markdown",
   "source": [
    "\n",
    "new_train[0]"
   ],
   "metadata": {
    "collapsed": false
   }
  },
  {
   "cell_type": "code",
   "execution_count": 14,
   "outputs": [],
   "source": [
    "data_1 = Data(x=batch.x_t, edge_index=batch.edge_index_t)\n",
    "data_2 = Data(x = batch.x_s, edge_index = batch.edge_index_s)"
   ],
   "metadata": {
    "collapsed": false
   }
  },
  {
   "cell_type": "code",
   "execution_count": 34,
   "outputs": [
    {
     "data": {
      "text/plain": "Data(x=[112, 1000], edge_index=[2, 181])"
     },
     "execution_count": 34,
     "metadata": {},
     "output_type": "execute_result"
    }
   ],
   "source": [
    "data_1"
   ],
   "metadata": {
    "collapsed": false
   }
  },
  {
   "cell_type": "code",
   "execution_count": 35,
   "outputs": [
    {
     "data": {
      "text/plain": "Data(x=[50, 1000], edge_index=[2, 50])"
     },
     "execution_count": 35,
     "metadata": {},
     "output_type": "execute_result"
    }
   ],
   "source": [
    "data_2\n"
   ],
   "metadata": {
    "collapsed": false
   }
  },
  {
   "cell_type": "code",
   "execution_count": 38,
   "outputs": [],
   "source": [
    "with open(\"/home/sean/Documents/phd/aitp/data/hol4/torch_graph_dict.pk\", \"rb\") as f:\n",
    "    torch_graph_dict = pickle.load(f)"
   ],
   "metadata": {
    "collapsed": false
   }
  },
  {
   "cell_type": "code",
   "execution_count": 40,
   "outputs": [],
   "source": [
    "test_graph_1 = torch_graph_dict[list(torch_graph_dict.keys())[0]]\n",
    "test_graph_2 = torch_graph_dict[list(torch_graph_dict.keys())[1]]"
   ],
   "metadata": {
    "collapsed": false
   }
  },
  {
   "cell_type": "code",
   "execution_count": 59,
   "outputs": [
    {
     "name": "stdout",
     "output_type": "stream",
     "text": [
      "tensor([[ 1,  1,  1,  3,  4,  4,  5,  5,  6,  6,  8,  9, 10, 11, 11],\n",
      "        [ 7,  2,  9,  5,  6,  1,  7, 10,  7,  2,  0,  8, 11,  2,  4]])\n",
      "tensor([[ 0,  1,  2,  4,  4,  5,  5,  7,  8,  9,  9, 10, 11, 11, 12],\n",
      "        [ 4,  2,  6,  3, 11,  6,  9, 12,  3,  1,  7,  3,  8,  5, 10]])\n"
     ]
    },
    {
     "data": {
      "text/plain": "tensor([[ 6,  6,  6,  8,  9,  9, 10, 10, 11, 11, 13, 14, 15, 16, 16],\n        [12,  7, 14, 10, 11,  6, 12, 15, 12,  7,  5, 13, 16,  7,  9]])"
     },
     "execution_count": 59,
     "metadata": {},
     "output_type": "execute_result"
    }
   ],
   "source": [
    "test_graph_1.edge_index\n",
    "\n",
    "print (test_graph_1.edge_index)\n",
    "print (test_graph_2.edge_index)\n",
    "\n",
    "test_graph_1.edge_index + (torch.ones(test_graph_1.edge_index.shape).long() * 5)"
   ],
   "metadata": {
    "collapsed": false
   }
  },
  {
   "cell_type": "code",
   "execution_count": 56,
   "outputs": [
    {
     "name": "stdout",
     "output_type": "stream",
     "text": [
      "tensor(indices=tensor([[  0,   1,   2,   3,   4,   5,   6,   7,   8,   9,  10,\n",
      "                         11],\n",
      "                       [  5, 561, 995,  63, 408, 999, 607, 995,  15,  30,  63,\n",
      "                        999]]),\n",
      "       values=tensor([1., 1., 1., 1., 1., 1., 1., 1., 1., 1., 1., 1.]),\n",
      "       size=(12, 1000), nnz=12, layout=torch.sparse_coo)\n",
      "tensor(indices=tensor([[  0,   1,   2,   3,   4,   5,   6,   7,   8,   9,  10,\n",
      "                         11,  12],\n",
      "                       [ 63, 161, 491, 995, 999, 999, 995, 161, 606, 153, 894,\n",
      "                        408, 491]]),\n",
      "       values=tensor([1., 1., 1., 1., 1., 1., 1., 1., 1., 1., 1., 1., 1.]),\n",
      "       size=(13, 1000), nnz=13, layout=torch.sparse_coo)\n",
      "tensor(indices=tensor([[  0,   1,   2,   3,   4,   5,   6,   7,   8,   9,  10,\n",
      "                         11,  12,  13,  14,  15,  16,  17,  18,  19,  20,  21,\n",
      "                         22,  23,  24],\n",
      "                       [  5, 561, 995,  63, 408, 999, 607, 995,  15,  30,  63,\n",
      "                        999,  63, 161, 491, 995, 999, 999, 995, 161, 606, 153,\n",
      "                        894, 408, 491]]),\n",
      "       values=tensor([1., 1., 1., 1., 1., 1., 1., 1., 1., 1., 1., 1., 1., 1.,\n",
      "                      1., 1., 1., 1., 1., 1., 1., 1., 1., 1., 1.]),\n",
      "       size=(25, 1000), nnz=25, layout=torch.sparse_coo)\n"
     ]
    }
   ],
   "source": [
    "print (test_graph_1.x)\n",
    "print (test_graph_2.x)\n",
    "\n",
    "print (torch.cat([test_graph_1.x, test_graph_2.x],dim=0))\n"
   ],
   "metadata": {
    "collapsed": false
   }
  },
  {
   "cell_type": "code",
   "execution_count": 58,
   "outputs": [
    {
     "name": "stdout",
     "output_type": "stream",
     "text": [
      "tensor([[ 1,  1,  1,  3,  4,  4,  5,  5,  6,  6,  8,  9, 10, 11, 11,  0,  1,  2,\n",
      "          4,  4,  5,  5,  7,  8,  9,  9, 10, 11, 11, 12],\n",
      "        [ 7,  2,  9,  5,  6,  1,  7, 10,  7,  2,  0,  8, 11,  2,  4,  4,  2,  6,\n",
      "          3, 11,  6,  9, 12,  3,  1,  7,  3,  8,  5, 10]])\n"
     ]
    }
   ],
   "source": [
    "print (torch.cat([test_graph_1.edge_index, test_graph_2.edge_index + (torch.ones(test_graph_2.edge_index.shape).long * )], dim=1))\n",
    "\n"
   ],
   "metadata": {
    "collapsed": false
   }
  },
  {
   "cell_type": "code",
   "execution_count": 65,
   "outputs": [
    {
     "name": "stdout",
     "output_type": "stream",
     "text": [
      "tensor([0., 1., 2., 0., 0., 1., 0., 1., 0., 1., 0., 0., 0., 0., 1.])\n",
      "tensor([0., 0., 0., 0., 1., 0., 1., 0., 0., 0., 1., 0., 0., 1., 0.])\n"
     ]
    },
    {
     "data": {
      "text/plain": "tensor([0., 1., 2., 0., 0., 1., 0., 1., 0., 1., 0., 0., 0., 0., 1., 0., 0., 0.,\n        0., 1., 0., 1., 0., 0., 0., 1., 0., 0., 1., 0.])"
     },
     "execution_count": 65,
     "metadata": {},
     "output_type": "execute_result"
    }
   ],
   "source": [
    "print (test_graph_1.edge_attr)\n",
    "print (test_graph_2.edge_attr)\n",
    "\n",
    "torch.cat([test_graph_1.edge_attr, test_graph_2.edge_attr], dim=0)\n"
   ],
   "metadata": {
    "collapsed": false
   }
  },
  {
   "cell_type": "code",
   "execution_count": 66,
   "outputs": [
    {
     "data": {
      "text/plain": "tensor([[0, 0, 0, 0, 0, 1, 1, 1, 1, 1, 2, 2, 2, 2, 2, 3, 3, 3, 3, 3, 4, 4, 4, 4,\n         4],\n        [0, 1, 2, 3, 4, 0, 1, 2, 3, 4, 0, 1, 2, 3, 4, 0, 1, 2, 3, 4, 0, 1, 2, 3,\n         4]])"
     },
     "execution_count": 66,
     "metadata": {},
     "output_type": "execute_result"
    }
   ],
   "source": [
    "total_nodes = 5\n",
    "\n",
    "torch.vstack((torch.arange(total_nodes).repeat_interleave(total_nodes), torch.arange(total_nodes).repeat(total_nodes)))\n",
    "\n",
    "\n"
   ],
   "metadata": {
    "collapsed": false
   }
  },
  {
   "cell_type": "code",
   "execution_count": 79,
   "outputs": [],
   "source": [
    "class CombinedGraphData(Data):\n",
    "    def __init__(self, combined_x, combined_edge_index, num_nodes_g1, y, combined_edge_attr=None, complete_edge_attr=None):\n",
    "        super().__init__()\n",
    "        self.y = y\n",
    "        self.x = combined_x\n",
    "        self.edge_index = combined_edge_index\n",
    "        self.num_nodes_g1 = num_nodes_g1\n",
    "        self.edge_attr = combined_edge_attr\n",
    "        self.complete_edge_attr = complete_edge_attr\n"
   ],
   "metadata": {
    "collapsed": false
   }
  },
  {
   "cell_type": "code",
   "execution_count": 69,
   "outputs": [],
   "source": [
    "tmp = []\n",
    "for i, lnk_data in enumerate(new_train):\n",
    "    xt_nodes = lnk_data.x_t\n",
    "    xs_nodes = lnk_data.x_s\n",
    "\n",
    "\n",
    "    xt_edge_index = lnk_data.edge_index_t\n",
    "    xs_edge_index = lnk_data.edge_index_s\n",
    "\n",
    "    y = lnk_data.y\n",
    "\n",
    "    t_nodes = xt_nodes.shape[0]\n",
    "    s_nodes = xs_nodes.shape[0]\n",
    "\n",
    "    total_nodes = t_nodes + s_nodes\n",
    "\n",
    "\n",
    "    combined_nodes = torch.cat([xt_nodes, xs_nodes],dim=0)\n",
    "\n",
    "    combined_index = torch.cat([xt_edge_index, xs_edge_index + (torch.ones(xs_edge_index.shape).long() * t_nodes)], dim=1)\n",
    "\n",
    "    if hasattr(lnk_data, 'edge_attr_t'):\n",
    "        xt_edge_attr = lnk_data.edge_attr_t\n",
    "        xs_edge_attr = lnk_data.edge_attr_s\n",
    "        combined_attr = torch.cat([xt_edge_attr, xs_edge_attr], dim=0)\n",
    "        tmp.append(CombinedGraphData(combined_x = combined_nodes, combined_edge_index=combined_index, combined_edge_attr = combined_attr, y=y,num_nodes_g1=t_nodes))\n",
    "\n",
    "    else:\n",
    "        tmp.append(CombinedGraphData(combined_x = combined_nodes, combined_edge_index=combined_index, num_nodes_g1=t_nodes))\n",
    "\n",
    "new_train = tmp\n"
   ],
   "metadata": {
    "collapsed": false
   }
  },
  {
   "cell_type": "code",
   "execution_count": null,
   "outputs": [],
   "source": [
    "x_t_complete_edge_index = torch.vstack((torch.arange(total_nodes).repeat_interleave(total_nodes), torch.arange(total_nodes).repeat(total_nodes)))\n",
    "\n",
    "\n",
    "\n"
   ],
   "metadata": {
    "collapsed": false
   }
  },
  {
   "cell_type": "code",
   "execution_count": 162,
   "outputs": [],
   "source": [
    "loader = DataLoader(new_train, batch_size=2)"
   ],
   "metadata": {
    "collapsed": false
   }
  },
  {
   "cell_type": "code",
   "execution_count": 163,
   "outputs": [],
   "source": [
    "batch = next(iter(loader))"
   ],
   "metadata": {
    "collapsed": false
   }
  },
  {
   "cell_type": "code",
   "execution_count": 165,
   "outputs": [
    {
     "data": {
      "text/plain": "tensor([  0,  76, 117])"
     },
     "execution_count": 165,
     "metadata": {},
     "output_type": "execute_result"
    }
   ],
   "source": [
    "batch.ptr"
   ],
   "metadata": {
    "collapsed": false
   }
  },
  {
   "cell_type": "markdown",
   "source": [],
   "metadata": {
    "collapsed": false
   }
  },
  {
   "cell_type": "code",
   "execution_count": 189,
   "outputs": [],
   "source": [
    "with open(\"/home/sean/Documents/phd/holist/holstep_gnn/FormulaNet/data/graph_data/train_data.pk\", \"rb\") as f:\n",
    "    train_data = pickle.load(f)"
   ],
   "metadata": {
    "collapsed": false
   }
  },
  {
   "cell_type": "code",
   "execution_count": 189,
   "outputs": [],
   "source": [
    "with open(\"/home/sean/Documents/phd/holist/holstep_gnn/FormulaNet/data/graph_data/train_data.pk\", \"rb\") as f:\n",
    "    train_data = pickle.load(f)"
   ],
   "metadata": {
    "collapsed": false
   }
  },
  {
   "cell_type": "code",
   "execution_count": 189,
   "outputs": [],
   "source": [
    "with open(\"/home/sean/Documents/phd/holist/holstep_gnn/FormulaNet/data/graph_data/train_data.pk\", \"rb\") as f:\n",
    "    train_data = pickle.load(f)"
   ],
   "metadata": {
    "collapsed": false
   }
  },
  {
   "cell_type": "code",
   "execution_count": 196,
   "outputs": [],
   "source": [
    "def ptr_to_complete_edge_index(ptr):\n",
    "    from_lists = [torch.arange(ptr[i], ptr[i+1]).repeat_interleave(ptr[i+1] - ptr[i]) for i in range(len(ptr) - 1)]\n",
    "    to_lists = [torch.arange(ptr[i], ptr[i+1]).repeat(ptr[i+1] - ptr[i]) for i in range(len(ptr) - 1)]\n",
    "    combined_complete_edge_index = torch.vstack((torch.cat(from_lists, dim=0), torch.cat(to_lists, dim=0)))\n",
    "    return combined_complete_edge_index"
   ],
   "metadata": {
    "collapsed": false
   }
  },
  {
   "cell_type": "code",
   "execution_count": 167,
   "outputs": [
    {
     "data": {
      "text/plain": "torch.Size([2, 7457])"
     },
     "execution_count": 167,
     "metadata": {},
     "output_type": "execute_result"
    }
   ],
   "source": [
    "combined_complete_edge_index.shape"
   ],
   "metadata": {
    "collapsed": false
   }
  },
  {
   "cell_type": "code",
   "execution_count": 139,
   "outputs": [
    {
     "data": {
      "text/plain": "torch.Size([1681])"
     },
     "execution_count": 139,
     "metadata": {},
     "output_type": "execute_result"
    }
   ],
   "source": [
    "from_lists[1].shape\n",
    "to_lists[1].shape\n"
   ],
   "metadata": {
    "collapsed": false
   }
  },
  {
   "cell_type": "code",
   "execution_count": 131,
   "outputs": [
    {
     "data": {
      "text/plain": "[tensor([ 0,  0,  0,  ..., 75, 75, 75]),\n tensor([ 76,  76,  76,  ..., 116, 116, 116])]"
     },
     "execution_count": 131,
     "metadata": {},
     "output_type": "execute_result"
    }
   ],
   "source": [
    "from_lists[:2]"
   ],
   "metadata": {
    "collapsed": false
   }
  },
  {
   "cell_type": "code",
   "execution_count": null,
   "outputs": [],
   "source": [],
   "metadata": {
    "collapsed": false
   }
  },
  {
   "cell_type": "code",
   "execution_count": 171,
   "outputs": [
    {
     "data": {
      "text/plain": "tensor([[ 0,  0,  0,  0,  0,  0,  0,  0,  0,  0,  0,  0,  0,  0,  0,  0,  0,  0,\n          0,  0,  0,  0,  0,  0,  0,  0,  0,  0,  0,  0,  0,  0,  0,  0,  0,  0,\n          0,  0,  0,  0,  0,  0,  0,  0,  0,  0,  0,  0,  0,  0,  0,  0,  0,  0,\n          0,  0,  0,  0,  0,  0,  0,  0,  0,  0,  0,  0,  0,  0,  0,  0,  0,  0,\n          0,  0,  0,  0],\n        [ 0,  1,  2,  3,  4,  5,  6,  7,  8,  9, 10, 11, 12, 13, 14, 15, 16, 17,\n         18, 19, 20, 21, 22, 23, 24, 25, 26, 27, 28, 29, 30, 31, 32, 33, 34, 35,\n         36, 37, 38, 39, 40, 41, 42, 43, 44, 45, 46, 47, 48, 49, 50, 51, 52, 53,\n         54, 55, 56, 57, 58, 59, 60, 61, 62, 63, 64, 65, 66, 67, 68, 69, 70, 71,\n         72, 73, 74, 75]])"
     },
     "execution_count": 171,
     "metadata": {},
     "output_type": "execute_result"
    }
   ],
   "source": [
    "combined_complete_edge_index[:, :]"
   ],
   "metadata": {
    "collapsed": false
   }
  },
  {
   "cell_type": "code",
   "execution_count": 173,
   "outputs": [],
   "source": [
    "data_dir = \"/home/sean/Documents/phd/aitp/data/hol4/graph_train_val_directed.pk\"\n",
    "\n",
    "try:\n",
    "    with open(data_dir, \"rb\") as f:\n",
    "        new_train, new_val = pickle.load(f)\n",
    "except:\n",
    "    print (\"error\")"
   ],
   "metadata": {
    "collapsed": false
   }
  },
  {
   "cell_type": "code",
   "execution_count": 179,
   "outputs": [],
   "source": [
    "loader_test = iter(DataLoader(new_train, batch_size=2))"
   ],
   "metadata": {
    "collapsed": false
   }
  },
  {
   "cell_type": "code",
   "execution_count": 180,
   "outputs": [],
   "source": [
    "batch_test = next(loader_test)"
   ],
   "metadata": {
    "collapsed": false
   }
  },
  {
   "cell_type": "code",
   "execution_count": 185,
   "outputs": [
    {
     "data": {
      "text/plain": "LinkDataBatch(edge_index_s=[2, 40], x_s=[42, 1000], edge_index_t=[2, 119], x_t=[75, 1000], edge_attr_s=[40], edge_attr_t=[119], x_s_one_hot=[2], x_t_one_hot=[2], edge_index_t_complete=[2, 0], edge_index_s_complete=[2, 0], depth_x_s=[42], depth_x_t=[75], y=[2])"
     },
     "execution_count": 185,
     "metadata": {},
     "output_type": "execute_result"
    }
   ],
   "source": [
    "batch_test\n"
   ],
   "metadata": {
    "collapsed": false
   }
  },
  {
   "cell_type": "code",
   "execution_count": null,
   "outputs": [],
   "source": [],
   "metadata": {
    "collapsed": false
   }
  },
  {
   "cell_type": "code",
   "execution_count": 15,
   "outputs": [],
   "source": [
    "try:\n",
    "    with open(\"/home/sean/Documents/phd/holist/holstep_gnn/FormulaNet/data/graph_data/full_expr_dict.pk\", \"rb\") as f:\n",
    "        graph_dict = pickle.load(f)\n",
    "    print (\"Full graph db loaded\")\n",
    "\n",
    "except:\n",
    "    print (\"error\")"
   ],
   "metadata": {
    "collapsed": false
   }
  },
  {
   "cell_type": "code",
   "execution_count": 16,
   "outputs": [],
   "source": [
    "graph_dict[list(graph_dict.keys())[0]]"
   ],
   "metadata": {
    "collapsed": false
   }
  },
  {
   "cell_type": "code",
   "execution_count": 17,
   "outputs": [
    {
     "data": {
      "text/plain": "LinkDataBatch(edge_index_s=[2, 40], x_s=[42, 1000], edge_index_t=[2, 119], x_t=[75, 1000], edge_attr_s=[40], edge_attr_t=[119], x_s_one_hot=[2], x_t_one_hot=[2], edge_index_t_complete=[2, 3293], edge_index_s_complete=[2, 890], y=[2])"
     },
     "execution_count": 17,
     "metadata": {},
     "output_type": "execute_result"
    }
   ],
   "source": [
    "with open(\"/home/sean/Documents/phd/holist/holstep_gnn/FormulaNet/data/graph_data/train_data.pk\", \"rb\") as f:\n",
    "    train_data = pickle.load(f)"
   ],
   "metadata": {
    "collapsed": false
   }
  },
  {
   "cell_type": "code",
   "execution_count": 18,
   "outputs": [
    {
     "ename": "AttributeError",
     "evalue": "'GlobalStorage' object has no attribute 'x_t_ptr'",
     "output_type": "error",
     "traceback": [
      "\u001B[0;31m---------------------------------------------------------------------------\u001B[0m",
      "\u001B[0;31mKeyError\u001B[0m                                  Traceback (most recent call last)",
      "File \u001B[0;32m~/Documents/venvs/torch_env/lib/python3.8/site-packages/torch_geometric/data/storage.py:61\u001B[0m, in \u001B[0;36mBaseStorage.__getattr__\u001B[0;34m(self, key)\u001B[0m\n\u001B[1;32m     60\u001B[0m \u001B[38;5;28;01mtry\u001B[39;00m:\n\u001B[0;32m---> 61\u001B[0m     \u001B[38;5;28;01mreturn\u001B[39;00m \u001B[38;5;28;43mself\u001B[39;49m\u001B[43m[\u001B[49m\u001B[43mkey\u001B[49m\u001B[43m]\u001B[49m\n\u001B[1;32m     62\u001B[0m \u001B[38;5;28;01mexcept\u001B[39;00m \u001B[38;5;167;01mKeyError\u001B[39;00m:\n",
      "File \u001B[0;32m~/Documents/venvs/torch_env/lib/python3.8/site-packages/torch_geometric/data/storage.py:81\u001B[0m, in \u001B[0;36mBaseStorage.__getitem__\u001B[0;34m(self, key)\u001B[0m\n\u001B[1;32m     80\u001B[0m \u001B[38;5;28;01mdef\u001B[39;00m \u001B[38;5;21m__getitem__\u001B[39m(\u001B[38;5;28mself\u001B[39m, key: \u001B[38;5;28mstr\u001B[39m) \u001B[38;5;241m-\u001B[39m\u001B[38;5;241m>\u001B[39m Any:\n\u001B[0;32m---> 81\u001B[0m     \u001B[38;5;28;01mreturn\u001B[39;00m \u001B[38;5;28;43mself\u001B[39;49m\u001B[38;5;241;43m.\u001B[39;49m\u001B[43m_mapping\u001B[49m\u001B[43m[\u001B[49m\u001B[43mkey\u001B[49m\u001B[43m]\u001B[49m\n",
      "\u001B[0;31mKeyError\u001B[0m: 'x_t_ptr'",
      "\nDuring handling of the above exception, another exception occurred:\n",
      "\u001B[0;31mAttributeError\u001B[0m                            Traceback (most recent call last)",
      "Input \u001B[0;32mIn [18]\u001B[0m, in \u001B[0;36m<cell line: 1>\u001B[0;34m()\u001B[0m\n\u001B[0;32m----> 1\u001B[0m \u001B[43mbatch_test\u001B[49m\u001B[38;5;241;43m.\u001B[39;49m\u001B[43mx_t_ptr\u001B[49m\n",
      "File \u001B[0;32m~/Documents/venvs/torch_env/lib/python3.8/site-packages/torch_geometric/data/data.py:428\u001B[0m, in \u001B[0;36mData.__getattr__\u001B[0;34m(self, key)\u001B[0m\n\u001B[1;32m    422\u001B[0m \u001B[38;5;28;01mif\u001B[39;00m \u001B[38;5;124m'\u001B[39m\u001B[38;5;124m_store\u001B[39m\u001B[38;5;124m'\u001B[39m \u001B[38;5;129;01mnot\u001B[39;00m \u001B[38;5;129;01min\u001B[39;00m \u001B[38;5;28mself\u001B[39m\u001B[38;5;241m.\u001B[39m\u001B[38;5;18m__dict__\u001B[39m:\n\u001B[1;32m    423\u001B[0m     \u001B[38;5;28;01mraise\u001B[39;00m \u001B[38;5;167;01mRuntimeError\u001B[39;00m(\n\u001B[1;32m    424\u001B[0m         \u001B[38;5;124m\"\u001B[39m\u001B[38;5;124mThe \u001B[39m\u001B[38;5;124m'\u001B[39m\u001B[38;5;124mdata\u001B[39m\u001B[38;5;124m'\u001B[39m\u001B[38;5;124m object was created by an older version of PyG. \u001B[39m\u001B[38;5;124m\"\u001B[39m\n\u001B[1;32m    425\u001B[0m         \u001B[38;5;124m\"\u001B[39m\u001B[38;5;124mIf this error occurred while loading an already existing \u001B[39m\u001B[38;5;124m\"\u001B[39m\n\u001B[1;32m    426\u001B[0m         \u001B[38;5;124m\"\u001B[39m\u001B[38;5;124mdataset, remove the \u001B[39m\u001B[38;5;124m'\u001B[39m\u001B[38;5;124mprocessed/\u001B[39m\u001B[38;5;124m'\u001B[39m\u001B[38;5;124m directory in the dataset\u001B[39m\u001B[38;5;124m'\u001B[39m\u001B[38;5;124ms \u001B[39m\u001B[38;5;124m\"\u001B[39m\n\u001B[1;32m    427\u001B[0m         \u001B[38;5;124m\"\u001B[39m\u001B[38;5;124mroot folder and try again.\u001B[39m\u001B[38;5;124m\"\u001B[39m)\n\u001B[0;32m--> 428\u001B[0m \u001B[38;5;28;01mreturn\u001B[39;00m \u001B[38;5;28;43mgetattr\u001B[39;49m\u001B[43m(\u001B[49m\u001B[38;5;28;43mself\u001B[39;49m\u001B[38;5;241;43m.\u001B[39;49m\u001B[43m_store\u001B[49m\u001B[43m,\u001B[49m\u001B[43m \u001B[49m\u001B[43mkey\u001B[49m\u001B[43m)\u001B[49m\n",
      "File \u001B[0;32m~/Documents/venvs/torch_env/lib/python3.8/site-packages/torch_geometric/data/storage.py:63\u001B[0m, in \u001B[0;36mBaseStorage.__getattr__\u001B[0;34m(self, key)\u001B[0m\n\u001B[1;32m     61\u001B[0m     \u001B[38;5;28;01mreturn\u001B[39;00m \u001B[38;5;28mself\u001B[39m[key]\n\u001B[1;32m     62\u001B[0m \u001B[38;5;28;01mexcept\u001B[39;00m \u001B[38;5;167;01mKeyError\u001B[39;00m:\n\u001B[0;32m---> 63\u001B[0m     \u001B[38;5;28;01mraise\u001B[39;00m \u001B[38;5;167;01mAttributeError\u001B[39;00m(\n\u001B[1;32m     64\u001B[0m         \u001B[38;5;124mf\u001B[39m\u001B[38;5;124m\"\u001B[39m\u001B[38;5;124m'\u001B[39m\u001B[38;5;132;01m{\u001B[39;00m\u001B[38;5;28mself\u001B[39m\u001B[38;5;241m.\u001B[39m\u001B[38;5;18m__class__\u001B[39m\u001B[38;5;241m.\u001B[39m\u001B[38;5;18m__name__\u001B[39m\u001B[38;5;132;01m}\u001B[39;00m\u001B[38;5;124m'\u001B[39m\u001B[38;5;124m object has no attribute \u001B[39m\u001B[38;5;124m'\u001B[39m\u001B[38;5;132;01m{\u001B[39;00mkey\u001B[38;5;132;01m}\u001B[39;00m\u001B[38;5;124m'\u001B[39m\u001B[38;5;124m\"\u001B[39m)\n",
      "\u001B[0;31mAttributeError\u001B[0m: 'GlobalStorage' object has no attribute 'x_t_ptr'"
     ]
    }
   ],
   "source": [
    "def to_batch(list_data, data_dict):\n",
    "\n",
    "    batch_list = []\n",
    "    for (y, conj, stmt) in list_data:\n",
    "\n",
    "        #x1/x_t is conj, x2/x_s is stmt\n",
    "\n",
    "        x, edge_index, _, depth = data_dict[conj]\n",
    "\n",
    "        x1_mat = torch.nn.functional.one_hot(torch.LongTensor(x), num_classes=1909)#.float()\n",
    "\n",
    "        x1_edge_index = torch.LongTensor(edge_index)\n",
    "        # x1_complete_edge_index = torch.LongTensor(complete_edge_index)\n",
    "        x1_depth = torch.LongTensor(depth)\n",
    "\n",
    "        x, edge_index, _, depth = data_dict[stmt]\n",
    "\n",
    "        x2_mat = torch.nn.functional.one_hot(torch.LongTensor(x), num_classes=1909)#.float()\n",
    "\n",
    "        x2_edge_index = torch.LongTensor(edge_index)\n",
    "        # x2_complete_edge_index = torch.LongTensor(complete_edge_index)\n",
    "        x2_depth = torch.LongTensor(depth)\n",
    "\n",
    "\n",
    "        # new_train.append(linkdata(edge_index_s=x2_edge_index, x_s=x2_mat, edge_index_t=x1_edge_index, x_t=x1_mat, edge_attr_t=x1_graph.edge_attr, edge_attr_s=x2_graph.edge_attr, y=y, edge_index_t_complete=x_t_complete_edge_index, edge_index_s_complete=x_s_complete_edge_index, depth_x_s=depth_x_s, depth_x_t=depth_x_t))\n",
    "        batch_list.append(LinkData(edge_index_s=x2_edge_index, x_s=x2_mat, edge_index_t=x1_edge_index, x_t=x1_mat,  y=torch.tensor(y), depth_x_s=x2_depth, depth_x_t=x1_depth))\n",
    "\n",
    "    loader = iter(DataLoader(batch_list, batch_size=len(batch_list), follow_batch=['x_s', 'x_t']))\n",
    "\n",
    "    batch = next(iter(loader))\n",
    "\n",
    "    batch.edge_index_t_complete = ptr_to_complete_edge_index(batch.x_t_ptr)\n",
    "    batch.edge_index_s_complete = ptr_to_complete_edge_index(batch.x_s_ptr)\n",
    "\n",
    "    return batch"
   ],
   "metadata": {
    "collapsed": false
   }
  },
  {
   "cell_type": "code",
   "execution_count": 218,
   "outputs": [],
   "source": [
    "test_batch = to_batch(train_data[:2], graph_dict)\n"
   ],
   "metadata": {
    "collapsed": false
   }
  },
  {
   "cell_type": "code",
   "execution_count": 220,
   "outputs": [
    {
     "data": {
      "text/plain": "tensor([[ 0,  0,  0,  ..., 62, 62, 62],\n        [ 0,  1,  2,  ..., 60, 61, 62]])"
     },
     "execution_count": 220,
     "metadata": {},
     "output_type": "execute_result"
    }
   ],
   "source": [
    "test_batch.edge_index_s_complete\n"
   ],
   "metadata": {
    "collapsed": false
   }
  },
  {
   "cell_type": "code",
   "execution_count": 221,
   "outputs": [
    {
     "data": {
      "text/plain": "tensor([ 0,  8, 63])"
     },
     "execution_count": 221,
     "metadata": {},
     "output_type": "execute_result"
    }
   ],
   "source": [
    "test_batch.x_s_ptr"
   ],
   "metadata": {
    "collapsed": false
   }
  },
  {
   "cell_type": "code",
   "execution_count": 211,
   "outputs": [
    {
     "data": {
      "text/plain": "torch.Size([2, 5043])"
     },
     "execution_count": 211,
     "metadata": {},
     "output_type": "execute_result"
    }
   ],
   "source": [
    "test_batch.edge_index_t_complete.shape\n"
   ],
   "metadata": {
    "collapsed": false
   }
  },
  {
   "cell_type": "code",
   "execution_count": 212,
   "outputs": [
    {
     "data": {
      "text/plain": "5043"
     },
     "execution_count": 212,
     "metadata": {},
     "output_type": "execute_result"
    }
   ],
   "source": [
    "41 **2 * 2 + (123  - 82) ** 2"
   ],
   "metadata": {
    "collapsed": false
   }
  }
 ],
 "metadata": {
  "kernelspec": {
   "name": "python3",
   "language": "python",
   "display_name": "Python 3 (ipykernel)"
  },
  "language_info": {
   "codemirror_mode": {
    "name": "ipython",
    "version": 2
   },
   "file_extension": ".py",
   "mimetype": "text/x-python",
   "name": "python",
   "nbconvert_exporter": "python",
   "pygments_lexer": "ipython2",
   "version": "2.7.6"
  }
 },
 "nbformat": 4,
 "nbformat_minor": 0
}
