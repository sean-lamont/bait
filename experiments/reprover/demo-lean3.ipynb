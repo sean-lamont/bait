{
 "cells": [
  {
   "cell_type": "markdown",
   "id": "d2dff738",
   "metadata": {},
   "source": [
    "LeanDojo Demo\n",
    "=============\n",
    "\n",
    "This notebook demonstrates the main features of LeanDojo (using Lean 3). Please refer to the [documentation](https://leandojo.readthedocs.io/en/latest/) for more details."
   ]
  },
  {
   "cell_type": "code",
   "execution_count": null,
   "outputs": [],
   "source": [
    "!newgrp docker"
   ],
   "metadata": {
    "collapsed": false
   }
  },
  {
   "cell_type": "code",
   "execution_count": null,
   "outputs": [],
   "source": [
    "import os\n"
   ],
   "metadata": {
    "collapsed": false
   }
  },
  {
   "cell_type": "code",
   "execution_count": null,
   "outputs": [],
   "source": [
    "os.system('sudo -S newgrp docker')"
   ],
   "metadata": {
    "collapsed": false
   }
  },
  {
   "cell_type": "code",
   "execution_count": null,
   "id": "9212dcd7",
   "metadata": {},
   "outputs": [],
   "source": [
    "from lean_dojo import *"
   ]
  },
  {
   "cell_type": "markdown",
   "id": "59558558",
   "metadata": {},
   "source": [
    "## Extract Data from Lean"
   ]
  },
  {
   "cell_type": "code",
   "execution_count": null,
   "id": "843d4747",
   "metadata": {},
   "outputs": [],
   "source": [
    "repo = LeanGitRepo(\n",
    "    \"https://github.com/zhangir-azerbayev/ProofNet\",\n",
    "    \"876bf5f9a424e92fc74d7e72c0bee0eb77bdc0b1\",\n",
    ")\n",
    "\n",
    "repo"
   ]
  },
  {
   "cell_type": "code",
   "execution_count": null,
   "id": "0c859ad1",
   "metadata": {},
   "outputs": [],
   "source": [
    "# Expected behavior: this line should open another tab and take you to the website of the repo to be traced.\n",
    "repo.show()"
   ]
  },
  {
   "cell_type": "code",
   "execution_count": null,
   "id": "5d3054f1",
   "metadata": {},
   "outputs": [],
   "source": [
    "repo.get_config(\"leanpkg.toml\")"
   ]
  },
  {
   "cell_type": "code",
   "execution_count": null,
   "id": "5b432202",
   "metadata": {},
   "outputs": [],
   "source": [
    "# A few minutes if the traced repo is in the cache; many hours otherwise.\n",
    "traced_repo = trace(repo)"
   ]
  },
  {
   "cell_type": "code",
   "execution_count": null,
   "id": "aa0f19df",
   "metadata": {
    "scrolled": true
   },
   "outputs": [],
   "source": [
    "traced_repo.traced_files_graph"
   ]
  },
  {
   "cell_type": "code",
   "execution_count": null,
   "id": "4e7938ec",
   "metadata": {},
   "outputs": [],
   "source": [
    "traced_repo.num_traced_files"
   ]
  },
  {
   "cell_type": "code",
   "execution_count": null,
   "id": "d71cabae",
   "metadata": {},
   "outputs": [],
   "source": [
    "traced_file = traced_repo.get_traced_file(\n",
    "    \"benchmark/benchmark_to_publish/formal/Rudin.lean\"\n",
    ")\n",
    "\n",
    "traced_file"
   ]
  },
  {
   "cell_type": "code",
   "execution_count": null,
   "id": "f6ed1141",
   "metadata": {},
   "outputs": [],
   "source": [
    "traced_file.get_premise_definitions()"
   ]
  },
  {
   "cell_type": "code",
   "execution_count": null,
   "id": "e85a0ab0",
   "metadata": {},
   "outputs": [],
   "source": [
    "traced_theorems = traced_file.get_traced_theorems()\n",
    "\n",
    "len(traced_theorems)"
   ]
  },
  {
   "cell_type": "code",
   "execution_count": null,
   "id": "71597ccc",
   "metadata": {
    "scrolled": true
   },
   "outputs": [],
   "source": [
    "thm = traced_file.get_traced_theorem(\"exercise_1_1b\")\n",
    "\n",
    "thm"
   ]
  },
  {
   "cell_type": "code",
   "execution_count": null,
   "id": "91546702",
   "metadata": {},
   "outputs": [],
   "source": [
    "# Expected behavior: this line should open another tab and take you to the website of the traced theorem.\n",
    "thm.show()"
   ]
  },
  {
   "cell_type": "code",
   "execution_count": null,
   "id": "6bd6eae6",
   "metadata": {},
   "outputs": [],
   "source": [
    "thm.theorem"
   ]
  },
  {
   "cell_type": "code",
   "execution_count": null,
   "id": "b3f65ee3",
   "metadata": {},
   "outputs": [],
   "source": [
    "thm.start, thm.end"
   ]
  },
  {
   "cell_type": "code",
   "execution_count": null,
   "id": "4b5e1790",
   "metadata": {},
   "outputs": [],
   "source": [
    "thm.get_creation_date()"
   ]
  },
  {
   "cell_type": "code",
   "execution_count": null,
   "id": "c17bcdc0",
   "metadata": {},
   "outputs": [],
   "source": [
    "thm.has_tactic_proof()"
   ]
  },
  {
   "cell_type": "code",
   "execution_count": null,
   "id": "03ec09a0",
   "metadata": {},
   "outputs": [],
   "source": [
    "thm.get_num_tactics()"
   ]
  },
  {
   "cell_type": "code",
   "execution_count": null,
   "id": "e2cbe341",
   "metadata": {},
   "outputs": [],
   "source": [
    "proof_node = thm.get_proof_node()\n",
    "proof = proof_node.lean_file[proof_node.start : proof_node.end]\n",
    "print(proof)"
   ]
  },
  {
   "cell_type": "code",
   "execution_count": null,
   "id": "fed646dc",
   "metadata": {},
   "outputs": [],
   "source": [
    "traced_tactics = thm.get_traced_tactics()\n",
    "\n",
    "traced_tactics"
   ]
  },
  {
   "cell_type": "code",
   "execution_count": null,
   "id": "97416a8c",
   "metadata": {},
   "outputs": [],
   "source": [
    "tac = traced_tactics[1]\n",
    "\n",
    "tac"
   ]
  },
  {
   "cell_type": "code",
   "execution_count": null,
   "id": "f9cab7e8",
   "metadata": {},
   "outputs": [],
   "source": [
    "tac.get_annotated_tactic()"
   ]
  },
  {
   "cell_type": "markdown",
   "id": "f472378c",
   "metadata": {},
   "source": [
    "## Interact with Lean Programmatically"
   ]
  },
  {
   "cell_type": "code",
   "execution_count": null,
   "id": "7bf2223e",
   "metadata": {},
   "outputs": [],
   "source": [
    "repo"
   ]
  },
  {
   "cell_type": "code",
   "execution_count": null,
   "id": "564be8c3",
   "metadata": {},
   "outputs": [],
   "source": [
    "theorem = Theorem(\n",
    "    repo, \"benchmark/benchmark_to_publish/formal/Rudin.lean\", \"exercise_1_1b\"\n",
    ")\n",
    "\n",
    "# For some theorems, it might take a few minutes.\n",
    "dojo, state_0 = Dojo(theorem).__enter__()"
   ]
  },
  {
   "cell_type": "code",
   "execution_count": null,
   "id": "82b861d4",
   "metadata": {},
   "outputs": [],
   "source": [
    "state_0"
   ]
  },
  {
   "cell_type": "code",
   "execution_count": null,
   "id": "615ff20b",
   "metadata": {},
   "outputs": [],
   "source": [
    "print(state_0.pp)"
   ]
  },
  {
   "cell_type": "code",
   "execution_count": null,
   "id": "2fc6af75",
   "metadata": {},
   "outputs": [],
   "source": [
    "state_1 = dojo.run_tac(state_0, \"revert h\")\n",
    "\n",
    "print(state_1.pp)"
   ]
  },
  {
   "cell_type": "code",
   "execution_count": null,
   "id": "82f44779",
   "metadata": {},
   "outputs": [],
   "source": [
    "state_2 = dojo.run_tac(state_0, \"hello world!\")\n",
    "\n",
    "state_2"
   ]
  },
  {
   "cell_type": "code",
   "execution_count": null,
   "id": "847e28af",
   "metadata": {},
   "outputs": [],
   "source": [
    "dojo.run_tac(state_2, \"skip\")"
   ]
  },
  {
   "cell_type": "code",
   "execution_count": null,
   "id": "ef15f488",
   "metadata": {},
   "outputs": [],
   "source": [
    "dojo.run_tac(state_0, \"repeat {skip}\")"
   ]
  },
  {
   "cell_type": "code",
   "execution_count": null,
   "id": "9e4e3ce5",
   "metadata": {},
   "outputs": [],
   "source": [
    "from lean_dojo.constants import TACTIC_TIMEOUT\n",
    "\n",
    "TACTIC_TIMEOUT"
   ]
  },
  {
   "cell_type": "code",
   "execution_count": null,
   "id": "2f8e8cbe",
   "metadata": {},
   "outputs": [],
   "source": [
    "dojo.run_tac(state_0, \"sorry\")"
   ]
  },
  {
   "cell_type": "code",
   "execution_count": null,
   "id": "48878975",
   "metadata": {},
   "outputs": [],
   "source": [
    "print(state_0.pp)"
   ]
  },
  {
   "cell_type": "code",
   "execution_count": null,
   "id": "3269a3a9",
   "metadata": {},
   "outputs": [],
   "source": [
    "state_3 = dojo.run_tac(state_0, \"intro g\")\n",
    "\n",
    "print(state_3.pp)"
   ]
  },
  {
   "cell_type": "code",
   "execution_count": null,
   "id": "eb2576af",
   "metadata": {},
   "outputs": [],
   "source": [
    "state_4 = dojo.run_tac(state_3, \"apply irrational.mul_rat g h\")\n",
    "\n",
    "print(state_4)"
   ]
  },
  {
   "cell_type": "code",
   "execution_count": null,
   "id": "f5510359",
   "metadata": {},
   "outputs": [],
   "source": [
    "dojo.is_successful"
   ]
  },
  {
   "cell_type": "markdown",
   "id": "58246bcd",
   "metadata": {},
   "source": [
    "## Query the Lean Environment"
   ]
  },
  {
   "cell_type": "code",
   "execution_count": null,
   "id": "9416231b",
   "metadata": {},
   "outputs": [],
   "source": [
    "env = dojo.query_env(state_0)"
   ]
  },
  {
   "cell_type": "code",
   "execution_count": null,
   "id": "2d030ca6",
   "metadata": {},
   "outputs": [],
   "source": [
    "len(env)"
   ]
  },
  {
   "cell_type": "code",
   "execution_count": null,
   "id": "109d9ebe",
   "metadata": {},
   "outputs": [],
   "source": [
    "env[0]"
   ]
  },
  {
   "cell_type": "code",
   "execution_count": null,
   "id": "9eeb128f",
   "metadata": {},
   "outputs": [],
   "source": [
    "dojo.query_decl(state_0, env[0])"
   ]
  },
  {
   "cell_type": "code",
   "execution_count": null,
   "id": "2a696c57",
   "metadata": {},
   "outputs": [],
   "source": []
  }
 ],
 "metadata": {
  "kernelspec": {
   "display_name": "Python 3 (ipykernel)",
   "language": "python",
   "name": "python3"
  },
  "language_info": {
   "codemirror_mode": {
    "name": "ipython",
    "version": 3
   },
   "file_extension": ".py",
   "mimetype": "text/x-python",
   "name": "python",
   "nbconvert_exporter": "python",
   "pygments_lexer": "ipython3",
   "version": "3.10.11"
  }
 },
 "nbformat": 4,
 "nbformat_minor": 5
}
