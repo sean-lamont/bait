{
 "cells": [
  {
   "cell_type": "code",
   "execution_count": null,
   "outputs": [],
   "source": [],
   "metadata": {
    "collapsed": false
   }
  },
  {
   "cell_type": "code",
   "execution_count": null,
   "outputs": [],
   "source": [],
   "metadata": {
    "collapsed": false
   }
  },
  {
   "cell_type": "code",
   "execution_count": null,
   "outputs": [],
   "source": [
    "import pickle\n",
    "from lean_dojo import *\n",
    "\n",
    "path = '../../experiments/runs/dpo_eval/eval_0_2023_12_04/18_50_31/traces/add_circle.volume_closed_ball'\n",
    "with open(path, 'rb') as f:\n",
    "    trace = pickle.load(f)\n"
   ],
   "metadata": {
    "collapsed": false
   }
  },
  {
   "cell_type": "code",
   "execution_count": null,
   "outputs": [],
   "source": [
    "with Dojo(trace.theorem, hard_timeout=600) as (dojo, init_state):\n",
    "    state = init_state\n",
    "    print (state)\n",
    "    new_state = dojo.run_tac(state, 'trace_state')\n",
    "    print (new_state)\n",
    "    new_state = dojo.run_tac(state, 'tactic.struct_inst')\n",
    "    print (new_state)\n",
    "    # for p in trace.proof:\n",
    "    #     state = dojo.run_tac(state, p)\n",
    "    #     print (state)\n"
   ],
   "metadata": {
    "collapsed": false
   }
  },
  {
   "cell_type": "code",
   "execution_count": null,
   "outputs": [],
   "source": [
    "print (trace.proof)"
   ],
   "metadata": {
    "collapsed": false
   }
  },
  {
   "cell_type": "code",
   "execution_count": null,
   "outputs": [],
   "source": [
    "prev_goals = ['V : Type u_1,\\nP : Type u_2,\\n_inst_1 : normed_add_comm_group V,\\n_inst_2 : inner_product_space ℝ V,\\n_inst_3 : metric_space P,\\n_inst_4 : normed_add_torsor V P,\\ns : affine_subspace ℝ P,\\n_inst_5 : nonempty ↥s,\\n_inst_6 : complete_space ↥(s.direction),\\np : P\\n⊢ nonempty ↥s', 'V : Type u_1,\\nP : Type u_2,\\n_inst_1 : normed_add_comm_group V,\\n_inst_2 : inner_product_space ℝ V,\\n_inst_3 : metric_space P,\\n_inst_4 : normed_add_torsor V P,\\ns : affine_subspace ℝ P,\\n_inst_5 : nonempty ↥s,\\n_inst_6 : complete_space ↥(s.direction),\\np : P\\n⊢ complete_space ↥(s.direction)', \"V : Type u_1,\\nP : Type u_2,\\n_inst_1 : normed_add_comm_group V,\\n_inst_2 : inner_product_space ℝ V,\\n_inst_3 : metric_space P,\\n_inst_4 : normed_add_torsor V P,\\ns : affine_subspace ℝ P,\\n_inst_5 : nonempty ↥s,\\n_inst_6 : complete_space ↥(s.direction),\\np : P,\\nh : orthogonal_projection_fn s p ∈ s\\n⊢ orthogonal_projection_fn s p ∈ mk' p (s.direction)ᗮ\"]"
   ],
   "metadata": {
    "collapsed": false
   }
  },
  {
   "cell_type": "code",
   "execution_count": null,
   "outputs": [],
   "source": [
    "new_state = \"V : Type u_1,\\nP : Type u_2,\\n_inst_1 : normed_add_comm_group V,\\n_inst_2 : inner_product_space ℝ V,\\n_inst_3 : metric_space P,\\n_inst_4 : normed_add_torsor V P,\\ns : affine_subspace ℝ P,\\n_inst_5 : nonempty ↥s,\\n_inst_6 : complete_space ↥(s.direction),\\np : P,\\nh : orthogonal_projection_fn s p ∈ s\\n⊢ orthogonal_projection_fn s p ∈ mk' p (s.direction)ᗮ\""
   ],
   "metadata": {
    "collapsed": false
   }
  },
  {
   "cell_type": "code",
   "execution_count": null,
   "outputs": [],
   "source": [
    "len(prev_goals)"
   ],
   "metadata": {
    "collapsed": false
   }
  },
  {
   "cell_type": "code",
   "execution_count": null,
   "outputs": [],
   "source": [
    "print (prev_goals[0])"
   ],
   "metadata": {
    "collapsed": false
   }
  },
  {
   "cell_type": "code",
   "execution_count": null,
   "outputs": [],
   "source": [
    "print(prev_goals[1])"
   ],
   "metadata": {
    "collapsed": false
   }
  },
  {
   "cell_type": "code",
   "execution_count": null,
   "outputs": [],
   "source": [
    "print (prev_goals[2])"
   ],
   "metadata": {
    "collapsed": false
   }
  },
  {
   "cell_type": "code",
   "execution_count": null,
   "outputs": [],
   "source": [],
   "metadata": {
    "collapsed": false
   }
  },
  {
   "cell_type": "code",
   "execution_count": null,
   "outputs": [],
   "source": [
    "print (new_state)"
   ],
   "metadata": {
    "collapsed": false
   }
  }
 ],
 "metadata": {
  "kernelspec": {
   "display_name": "Python 3",
   "language": "python",
   "name": "python3"
  },
  "language_info": {
   "codemirror_mode": {
    "name": "ipython",
    "version": 2
   },
   "file_extension": ".py",
   "mimetype": "text/x-python",
   "name": "python",
   "nbconvert_exporter": "python",
   "pygments_lexer": "ipython2",
   "version": "2.7.6"
  }
 },
 "nbformat": 4,
 "nbformat_minor": 0
}
