{
 "cells": [
  {
   "cell_type": "code",
   "execution_count": null,
   "metadata": {
    "collapsed": true
   },
   "outputs": [],
   "source": [
    "from prover.new_search_tree import Status, ErrorNode, ProofFinishedNode\n",
    "import pickle\n",
    "import pygraphviz as pgv\n",
    "from loguru import logger\n",
    "\n",
    "def render_proof(path, filename=None):\n",
    "    with open(path, 'rb') as f:\n",
    "        trace = pickle.load(f)\n",
    "\n",
    "    logger.info(f'Rendering proof of {trace.tree.goal}..')\n",
    "\n",
    "    if not filename:\n",
    "        filename = 'figures/' + trace.theorem.full_name + '.svg'\n",
    "\n",
    "    siblings = []\n",
    "\n",
    "    G = pgv.AGraph(name='root')\n",
    "\n",
    "    def add_edges(node):\n",
    "        if not node.out_edges:\n",
    "            return\n",
    "        for edge in node.out_edges:\n",
    "            # if any([d.status == Status.PROVED for d in edge.dst]):\n",
    "            siblings_ = []\n",
    "            for d in edge.dst:\n",
    "                if all([d_.status == Status.PROVED for d_ in edge.dst]):\n",
    "                    if hasattr(edge.src, 'goal') and hasattr(d, 'goal'):\n",
    "                        # G.add_edge(edge.src.goal, d.goal, label=edge.tactic, color='green')\n",
    "                        G.add_edge(edge.src.goal, d.goal, label=edge.tactic, color='green')\n",
    "                        siblings_.append(d.goal)\n",
    "                        if node.out_edges != None:\n",
    "                            add_edges(d)\n",
    "                    else:\n",
    "                        if type(d) == ErrorNode:\n",
    "                            pass\n",
    "                        elif type(d) == ProofFinishedNode:\n",
    "                            G.add_edge(edge.src.goal, 'proven', color='green', label=edge.tactic)\n",
    "                else:\n",
    "                    if hasattr(edge.src, 'goal') and hasattr(d, 'goal'):\n",
    "                        G.add_edge(edge.src.goal, d.goal, label=edge.tactic)\n",
    "                        siblings_.append(d.goal)\n",
    "                        if node.out_edges != None:\n",
    "                            add_edges(d)\n",
    "                    else:\n",
    "                        if type(d) == ErrorNode:\n",
    "                            pass\n",
    "                        elif type(d) == ProofFinishedNode:\n",
    "                            G.add_edge(edge.src.goal, 'proven', label=edge.tactic)\n",
    "\n",
    "            if siblings_:\n",
    "                siblings.append(siblings_)\n",
    "\n",
    "    add_edges(trace.tree)\n",
    "\n",
    "    for i, sib in enumerate(siblings):\n",
    "        G.add_subgraph(name=f'cluster_{i}')\n",
    "        subgraph = [sub for sub in G.subgraphs() if not sub.nodes()][0]\n",
    "        for s in sib:\n",
    "            subgraph.add_node(s)\n",
    "\n",
    "    # G.write('test.dot')\n",
    "    G.draw(filename, prog='dot', format='svg:cairo')\n",
    "    logger.info(f'Proof tree saved to {filename}')"
   ]
  },
  {
   "cell_type": "code",
   "execution_count": null,
   "outputs": [],
   "source": [
    "path = '/home/sean/Documents/phd/leandojo/ReProver/traces/proven_convex.is_linear_preimage_2023-09-29_19:53.pk'\n",
    "path = '/home/sean/Documents/phd/leandojo/ReProver/traces/proven_sigma_finsupp_equiv_dfinsupp_apply_2023-09-29_19:54.pk'\n",
    "path = 'traces/failed_measure_theory.norm_integral_le_of_norm_le_2023-09-29_20:06.pk'\n",
    "# render_proof(path)"
   ],
   "metadata": {
    "collapsed": false
   }
  },
  {
   "cell_type": "code",
   "execution_count": null,
   "outputs": [],
   "source": [
    "import pickle\n",
    "from lean_dojo import *\n",
    "\n",
    "path = 'traces/proven_finset.sup_sdiff_right_2023-10-01_04:07.pk'\n",
    "path = 'traces/proven_algebraic_geometry.Scheme.pullback.p_comm_2023-10-03_12:25.pk'\n",
    "with open(path, 'rb') as f:\n",
    "    trace = pickle.load(f)\n"
   ],
   "metadata": {
    "collapsed": false
   }
  },
  {
   "cell_type": "code",
   "execution_count": null,
   "outputs": [],
   "source": [
    "with Dojo(trace.theorem, hard_timeout=600) as (dojo, init_state):\n",
    "    state = init_state\n",
    "    for p in trace.proof:\n",
    "        state = dojo.run_tac(state, p)\n",
    "        print (state)\n"
   ],
   "metadata": {
    "collapsed": false
   }
  },
  {
   "cell_type": "code",
   "execution_count": null,
   "outputs": [],
   "source": [
    "print (trace.proof)"
   ],
   "metadata": {
    "collapsed": false
   }
  },
  {
   "cell_type": "code",
   "execution_count": 1,
   "outputs": [],
   "source": [
    "prev_goals = ['V : Type u_1,\\nP : Type u_2,\\n_inst_1 : normed_add_comm_group V,\\n_inst_2 : inner_product_space ℝ V,\\n_inst_3 : metric_space P,\\n_inst_4 : normed_add_torsor V P,\\ns : affine_subspace ℝ P,\\n_inst_5 : nonempty ↥s,\\n_inst_6 : complete_space ↥(s.direction),\\np : P\\n⊢ nonempty ↥s', 'V : Type u_1,\\nP : Type u_2,\\n_inst_1 : normed_add_comm_group V,\\n_inst_2 : inner_product_space ℝ V,\\n_inst_3 : metric_space P,\\n_inst_4 : normed_add_torsor V P,\\ns : affine_subspace ℝ P,\\n_inst_5 : nonempty ↥s,\\n_inst_6 : complete_space ↥(s.direction),\\np : P\\n⊢ complete_space ↥(s.direction)', \"V : Type u_1,\\nP : Type u_2,\\n_inst_1 : normed_add_comm_group V,\\n_inst_2 : inner_product_space ℝ V,\\n_inst_3 : metric_space P,\\n_inst_4 : normed_add_torsor V P,\\ns : affine_subspace ℝ P,\\n_inst_5 : nonempty ↥s,\\n_inst_6 : complete_space ↥(s.direction),\\np : P,\\nh : orthogonal_projection_fn s p ∈ s\\n⊢ orthogonal_projection_fn s p ∈ mk' p (s.direction)ᗮ\"]"
   ],
   "metadata": {
    "collapsed": false,
    "ExecuteTime": {
     "end_time": "2023-10-06T04:59:48.388019631Z",
     "start_time": "2023-10-06T04:59:48.387772616Z"
    }
   }
  },
  {
   "cell_type": "code",
   "execution_count": 3,
   "outputs": [],
   "source": [
    "new_state = \"V : Type u_1,\\nP : Type u_2,\\n_inst_1 : normed_add_comm_group V,\\n_inst_2 : inner_product_space ℝ V,\\n_inst_3 : metric_space P,\\n_inst_4 : normed_add_torsor V P,\\ns : affine_subspace ℝ P,\\n_inst_5 : nonempty ↥s,\\n_inst_6 : complete_space ↥(s.direction),\\np : P,\\nh : orthogonal_projection_fn s p ∈ s\\n⊢ orthogonal_projection_fn s p ∈ mk' p (s.direction)ᗮ\""
   ],
   "metadata": {
    "collapsed": false,
    "ExecuteTime": {
     "end_time": "2023-10-06T05:00:40.863926072Z",
     "start_time": "2023-10-06T05:00:40.819971771Z"
    }
   }
  },
  {
   "cell_type": "code",
   "execution_count": 5,
   "outputs": [
    {
     "data": {
      "text/plain": "3"
     },
     "execution_count": 5,
     "metadata": {},
     "output_type": "execute_result"
    }
   ],
   "source": [
    "len(prev_goals)"
   ],
   "metadata": {
    "collapsed": false,
    "ExecuteTime": {
     "end_time": "2023-10-06T05:00:54.275858384Z",
     "start_time": "2023-10-06T05:00:54.271729074Z"
    }
   }
  },
  {
   "cell_type": "code",
   "execution_count": 6,
   "outputs": [
    {
     "name": "stdout",
     "output_type": "stream",
     "text": [
      "V : Type u_1,\n",
      "P : Type u_2,\n",
      "_inst_1 : normed_add_comm_group V,\n",
      "_inst_2 : inner_product_space ℝ V,\n",
      "_inst_3 : metric_space P,\n",
      "_inst_4 : normed_add_torsor V P,\n",
      "s : affine_subspace ℝ P,\n",
      "_inst_5 : nonempty ↥s,\n",
      "_inst_6 : complete_space ↥(s.direction),\n",
      "p : P\n",
      "⊢ nonempty ↥s\n"
     ]
    }
   ],
   "source": [
    "print (prev_goals[0])"
   ],
   "metadata": {
    "collapsed": false,
    "ExecuteTime": {
     "end_time": "2023-10-06T05:00:58.350406165Z",
     "start_time": "2023-10-06T05:00:58.348234919Z"
    }
   }
  },
  {
   "cell_type": "code",
   "execution_count": 7,
   "outputs": [
    {
     "name": "stdout",
     "output_type": "stream",
     "text": [
      "V : Type u_1,\n",
      "P : Type u_2,\n",
      "_inst_1 : normed_add_comm_group V,\n",
      "_inst_2 : inner_product_space ℝ V,\n",
      "_inst_3 : metric_space P,\n",
      "_inst_4 : normed_add_torsor V P,\n",
      "s : affine_subspace ℝ P,\n",
      "_inst_5 : nonempty ↥s,\n",
      "_inst_6 : complete_space ↥(s.direction),\n",
      "p : P\n",
      "⊢ complete_space ↥(s.direction)\n"
     ]
    }
   ],
   "source": [
    "print(prev_goals[1])"
   ],
   "metadata": {
    "collapsed": false,
    "ExecuteTime": {
     "end_time": "2023-10-06T05:01:22.160063574Z",
     "start_time": "2023-10-06T05:01:22.116481337Z"
    }
   }
  },
  {
   "cell_type": "code",
   "execution_count": 8,
   "outputs": [
    {
     "name": "stdout",
     "output_type": "stream",
     "text": [
      "V : Type u_1,\n",
      "P : Type u_2,\n",
      "_inst_1 : normed_add_comm_group V,\n",
      "_inst_2 : inner_product_space ℝ V,\n",
      "_inst_3 : metric_space P,\n",
      "_inst_4 : normed_add_torsor V P,\n",
      "s : affine_subspace ℝ P,\n",
      "_inst_5 : nonempty ↥s,\n",
      "_inst_6 : complete_space ↥(s.direction),\n",
      "p : P,\n",
      "h : orthogonal_projection_fn s p ∈ s\n",
      "⊢ orthogonal_projection_fn s p ∈ mk' p (s.direction)ᗮ\n"
     ]
    }
   ],
   "source": [
    "print (prev_goals[2])"
   ],
   "metadata": {
    "collapsed": false,
    "ExecuteTime": {
     "end_time": "2023-10-06T05:01:22.917380250Z",
     "start_time": "2023-10-06T05:01:22.915939541Z"
    }
   }
  },
  {
   "cell_type": "code",
   "execution_count": null,
   "outputs": [],
   "source": [],
   "metadata": {
    "collapsed": false
   }
  },
  {
   "cell_type": "code",
   "execution_count": 4,
   "outputs": [
    {
     "name": "stdout",
     "output_type": "stream",
     "text": [
      "V : Type u_1,\n",
      "P : Type u_2,\n",
      "_inst_1 : normed_add_comm_group V,\n",
      "_inst_2 : inner_product_space ℝ V,\n",
      "_inst_3 : metric_space P,\n",
      "_inst_4 : normed_add_torsor V P,\n",
      "s : affine_subspace ℝ P,\n",
      "_inst_5 : nonempty ↥s,\n",
      "_inst_6 : complete_space ↥(s.direction),\n",
      "p : P,\n",
      "h : orthogonal_projection_fn s p ∈ s\n",
      "⊢ orthogonal_projection_fn s p ∈ mk' p (s.direction)ᗮ\n"
     ]
    }
   ],
   "source": [
    "print (new_state)"
   ],
   "metadata": {
    "collapsed": false,
    "ExecuteTime": {
     "end_time": "2023-10-06T05:00:44.021673081Z",
     "start_time": "2023-10-06T05:00:44.016448747Z"
    }
   }
  }
 ],
 "metadata": {
  "kernelspec": {
   "display_name": "Python 3",
   "language": "python",
   "name": "python3"
  },
  "language_info": {
   "codemirror_mode": {
    "name": "ipython",
    "version": 2
   },
   "file_extension": ".py",
   "mimetype": "text/x-python",
   "name": "python",
   "nbconvert_exporter": "python",
   "pygments_lexer": "ipython2",
   "version": "2.7.6"
  }
 },
 "nbformat": 4,
 "nbformat_minor": 0
}
