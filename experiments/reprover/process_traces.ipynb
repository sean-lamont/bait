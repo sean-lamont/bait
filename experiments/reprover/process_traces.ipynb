{
 "cells": [
  {
   "cell_type": "code",
   "execution_count": null,
   "outputs": [],
   "source": [
    "import pickle\n",
    "from prover.search_tree_context import InternalNode\n",
    "import glob\n",
    "import math\n",
    "\n",
    "# files = glob.glob('traces/proven*')\n",
    "# files = glob.glob('traces/failed*')\n",
    "files = glob.glob('traces/*')\n",
    "\n",
    "traces = []\n",
    "for file in files:\n",
    "    with open(file, \"rb\") as f:\n",
    "        trace = pickle.load(f)\n",
    "        traces.append(trace)"
   ],
   "metadata": {
    "collapsed": false
   }
  },
  {
   "cell_type": "code",
   "execution_count": null,
   "outputs": [],
   "source": [
    "nodes = traces[0].nodes"
   ],
   "metadata": {
    "collapsed": false
   }
  },
  {
   "cell_type": "code",
   "execution_count": null,
   "outputs": [],
   "source": [
    "len(traces)"
   ],
   "metadata": {
    "collapsed": false
   }
  },
  {
   "cell_type": "code",
   "execution_count": null,
   "outputs": [],
   "source": [
    "from prover.search_tree_context import ErrorNode\n",
    "\n",
    "\n",
    "def add_data(node, visits):\n",
    "    data = []\n",
    "    # proving_edges = [edge for edge in node.out_edges if edge.distance_to_proof() < math.inf]\n",
    "    # for edge in proving_edges:\n",
    "    if node.out_edges:\n",
    "        for edge in node.out_edges:\n",
    "            # todo could record error message for e.g. self-correcting proof approach\n",
    "            if len(edge.dst) == 1 and isinstance(edge.dst[0], ErrorNode):\n",
    "                data.append((node.goal, edge.tactic, edge.distance_to_proof(), visits[node.goal], edge.time, True))\n",
    "            else:\n",
    "                data.append((node.goal, edge.tactic, edge.distance_to_proof(), visits[node.goal], edge.time, False))\n",
    "    return data\n",
    "\n",
    "\n",
    "full_data = []\n",
    "\n",
    "for trace in traces:\n",
    "    nodes = trace.nodes\n",
    "\n",
    "    updated_visit_count = {node: nodes[node].visit_count for node in nodes}\n",
    "\n",
    "    for goal, node in nodes.items():\n",
    "        for a in node.ancestors:\n",
    "            updated_visit_count[a] += node.visit_count\n",
    "\n",
    "    for node in nodes:\n",
    "        full_data.extend(add_data(nodes[node], updated_visit_count))\n"
   ],
   "metadata": {
    "collapsed": false
   }
  },
  {
   "cell_type": "code",
   "execution_count": null,
   "outputs": [],
   "source": [
    "len(full_data)"
   ],
   "metadata": {
    "collapsed": false
   }
  },
  {
   "cell_type": "markdown",
   "source": [],
   "metadata": {
    "collapsed": false
   }
  },
  {
   "cell_type": "code",
   "execution_count": null,
   "outputs": [],
   "source": [
    "proven = [d for d in full_data if d[2] < math.inf]"
   ],
   "metadata": {
    "collapsed": false
   }
  },
  {
   "cell_type": "code",
   "execution_count": null,
   "outputs": [],
   "source": [
    "failed = [d for d in full_data if d[2] == math.inf]"
   ],
   "metadata": {
    "collapsed": false
   }
  },
  {
   "cell_type": "code",
   "execution_count": null,
   "outputs": [],
   "source": [
    "len(failed)"
   ],
   "metadata": {
    "collapsed": false
   }
  },
  {
   "cell_type": "code",
   "execution_count": null,
   "outputs": [],
   "source": [
    "# large percentage of failed tactics result in an error. Can safely take these as negative/low reward examples\n",
    "len([f for f in failed if f[-1]]) / len(failed)"
   ],
   "metadata": {
    "collapsed": false
   }
  },
  {
   "cell_type": "code",
   "execution_count": null,
   "outputs": [],
   "source": [
    "len(proven) / len(full_data)"
   ],
   "metadata": {
    "collapsed": false
   }
  },
  {
   "cell_type": "code",
   "execution_count": null,
   "outputs": [],
   "source": [
    "prov_dict = {}\n",
    "\n",
    "for d in proven:\n",
    "    if d[0] not in prov_dict:\n",
    "        prov_dict[d[0]] = [(d[1], d[2], d[3], d[4])]\n",
    "    else:\n",
    "        prov_dict[d[0]].append((d[1], d[2], d[3], d[4]))"
   ],
   "metadata": {
    "collapsed": false
   }
  },
  {
   "cell_type": "code",
   "execution_count": null,
   "outputs": [],
   "source": [
    "len(prov_dict)\n"
   ],
   "metadata": {
    "collapsed": false
   }
  },
  {
   "cell_type": "code",
   "execution_count": null,
   "outputs": [],
   "source": [
    "prov_dict.keys()"
   ],
   "metadata": {
    "collapsed": false
   }
  },
  {
   "cell_type": "code",
   "execution_count": null,
   "outputs": [],
   "source": [
    "# sort by largest visit_count (as proxy for difficulty) and then by distance_to_proof, then by time taken for tactic\n",
    "sorted([sorted(l, key=lambda x: (x[1], x[3])) for l in list(prov_dict.values())], key= lambda l: l[0][2],reverse=True)"
   ],
   "metadata": {
    "collapsed": false
   }
  },
  {
   "cell_type": "code",
   "execution_count": null,
   "outputs": [],
   "source": [
    "paths = [('simp [hf]', 1, 64, 0.2502266130177304),\n",
    " ('exact or.inl hf', 1, 64, 0.10240329301450402),\n",
    " ('refine or.inl hf', 1, 64, 0.07327978097600862),\n",
    " ('simp [hf, or_imp_distrib]', 1, 64, 0.23496658500516787),\n",
    " ('tauto', 1, 64, 0.13764887902652845),\n",
    " ('simp *', 1, 64, 0.25073003000579774),\n",
    " ('simp [hf, eq_comm]', 1, 64, 0.302748822956346),\n",
    " ('simp [*]', 1, 64, 0.25384806498186663),\n",
    " ('simp [hf, polynomial.degree_zero]', 1, 64, 0.2960367589839734),\n",
    " ('simp [hf, zero_dvd_iff]', 1, 64, 0.2570988420047797),\n",
    " ('simp * at *', 1, 64, 0.25957931601442397),\n",
    " ('simp [hf, or_imp_distrib, forall_const]', 1, 64, 0.3196376989944838),\n",
    " ('simp [hf, or_self]', 1, 64, 0.2654978930368088),\n",
    " ('simp [*, or_imp_distrib]', 1, 64, 0.2677176539436914)]"
   ],
   "metadata": {
    "collapsed": false
   }
  },
  {
   "cell_type": "code",
   "execution_count": null,
   "outputs": [],
   "source": [
    "paths = sorted(paths, key=lambda x: (x[1], x[3]))"
   ],
   "metadata": {
    "collapsed": false
   }
  },
  {
   "cell_type": "code",
   "execution_count": null,
   "outputs": [],
   "source": [
    "# very large gap in time from the quickest to the slowest tactic for the proof\n",
    "paths"
   ],
   "metadata": {
    "collapsed": false
   }
  }
 ],
 "metadata": {
  "kernelspec": {
   "display_name": "Python 3",
   "language": "python",
   "name": "python3"
  },
  "language_info": {
   "codemirror_mode": {
    "name": "ipython",
    "version": 2
   },
   "file_extension": ".py",
   "mimetype": "text/x-python",
   "name": "python",
   "nbconvert_exporter": "python",
   "pygments_lexer": "ipython2",
   "version": "2.7.6"
  }
 },
 "nbformat": 4,
 "nbformat_minor": 5
}
