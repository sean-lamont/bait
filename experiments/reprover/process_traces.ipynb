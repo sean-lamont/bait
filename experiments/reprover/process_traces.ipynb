{
 "cells": [
  {
   "cell_type": "code",
   "execution_count": null,
   "outputs": [],
   "source": [
    "import pickle\n",
    "import random\n",
    "\n",
    "import glob\n",
    "import math\n",
    "\n",
    "# files = glob.glob('traces/proven*')\n",
    "# files = glob.glob('traces/failed*')\n",
    "# files = glob.glob('traces_updown/*')\n",
    "files = glob.glob('traces_2023-10-23_11:33/failed_is_lub.exists_between_sub_self.pk')\n",
    "\n",
    "traces = []\n",
    "for file in files:\n",
    "    with open(file, \"rb\") as f:\n",
    "        trace = pickle.load(f)\n",
    "        traces.append(trace)\n",
    "\n",
    "len(files)"
   ],
   "metadata": {
    "collapsed": false
   }
  },
  {
   "cell_type": "code",
   "execution_count": null,
   "outputs": [],
   "source": [
    "# from goal_model_step.model import StepGoalModel\n",
    "# import torch\n",
    "\n",
    "# goal_path = 'goal_step.ckpt'\n",
    "# goal_model = StepGoalModel.load(goal_path, device=torch.device(\"cuda\"), freeze=True)\n"
   ],
   "metadata": {
    "collapsed": false
   }
  },
  {
   "cell_type": "code",
   "execution_count": null,
   "outputs": [],
   "source": [
    "# traces[11].status"
   ],
   "metadata": {
    "collapsed": false
   }
  },
  {
   "cell_type": "code",
   "execution_count": null,
   "outputs": [],
   "source": [
    "# for i in range(len(traces)):\n",
    "#     print (traces[i].tree.distance_to_proof, goal_model.batch_generate(['<extra_id_0>' + traces[i].tree.goal]))"
   ],
   "metadata": {
    "collapsed": false
   }
  },
  {
   "cell_type": "code",
   "execution_count": null,
   "outputs": [],
   "source": [
    "def add_data(node, visits):\n",
    "    data = []\n",
    "    # proving_edges = [edge for edge in node.out_edges if edge.distance_to_proof() < math.inf]\n",
    "    # for edge in proving_edges:\n",
    "    if node.out_edges:\n",
    "        for edge in node.out_edges:\n",
    "            datum = {\n",
    "                'goal': node.goal,\n",
    "                'tactic': edge.tactic,\n",
    "                'distance_to_proof': edge.distance_to_proof(),\n",
    "                'visits': visits[node.goal],\n",
    "            }\n",
    "            # todo could record error message for e.g. self-correcting proof approach>\n",
    "            if len(edge.dst) == 1 and isinstance(edge.dst[0], ErrorNode):\n",
    "                datum['error'] = True\n",
    "            else:\n",
    "                datum['error'] = False\n",
    "            data.append(datum)\n",
    "    return data\n",
    "\n",
    "\n",
    "full_data = []\n",
    "\n",
    "for trace in traces:\n",
    "    nodes = trace.nodes\n",
    "\n",
    "    updated_visit_count = {node: nodes[node].visit_count for node in nodes}\n",
    "\n",
    "    for goal, node in nodes.items():\n",
    "        for a in node.ancestors:\n",
    "            updated_visit_count[a] += node.visit_count\n",
    "\n",
    "    for node in nodes:\n",
    "        full_data.extend(add_data(nodes[node], updated_visit_count))\n"
   ],
   "metadata": {
    "collapsed": false
   },
   "id": "6146b02393590c29"
  },
  {
   "cell_type": "code",
   "execution_count": null,
   "outputs": [],
   "source": [
    "len(full_data)"
   ],
   "metadata": {
    "collapsed": false
   },
   "id": "b1ebd5e9e39a3174"
  },
  {
   "cell_type": "code",
   "execution_count": null,
   "outputs": [],
   "source": [],
   "metadata": {
    "collapsed": false
   }
  },
  {
   "cell_type": "code",
   "execution_count": null,
   "outputs": [],
   "source": [
    "full_data[5]"
   ],
   "metadata": {
    "collapsed": false
   }
  },
  {
   "cell_type": "code",
   "execution_count": null,
   "outputs": [],
   "source": [],
   "metadata": {
    "collapsed": false
   }
  },
  {
   "cell_type": "code",
   "execution_count": null,
   "outputs": [],
   "source": [
    "# add goal objective as in Polu et al\n",
    "def add_goal_step_data(node, visits, max_proof_len=10, neg_threshold=2048):\n",
    "    steps = node.distance_to_proof\n",
    "\n",
    "    if steps == math.inf:\n",
    "        if visits[node.goal] >= neg_threshold:\n",
    "            target = 0\n",
    "        else:\n",
    "            return None\n",
    "    elif steps >= max_proof_len:\n",
    "        target = 1\n",
    "    else:\n",
    "        # linearly project steps so that shorter proofs are allocated to higher buckets\n",
    "        # target = (max_bucket + 1 - steps) // (max_bucket // buckets)\n",
    "        target = (max_proof_len + 1) - steps\n",
    "\n",
    "    return {'goal': node.goal, 'target': target}\n",
    "\n",
    "\n",
    "\n",
    "\n",
    "goal_step_data = []\n",
    "\n",
    "for trace in traces:\n",
    "    nodes = trace.nodes\n",
    "\n",
    "    updated_visit_count = {node: nodes[node].visit_count for node in nodes}\n",
    "\n",
    "    for goal, node in nodes.items():\n",
    "        for a in node.ancestors:\n",
    "            updated_visit_count[a] += node.visit_count\n",
    "\n",
    "    for node in nodes:\n",
    "        step_datum = add_goal_step_data(nodes[node], updated_visit_count)\n",
    "        if step_datum:\n",
    "            goal_step_data.append(step_datum)"
   ],
   "metadata": {
    "collapsed": false
   }
  },
  {
   "cell_type": "code",
   "execution_count": null,
   "outputs": [],
   "source": [
    "def add_edge_data(node, visits, max_proof_len=9, neg_threshold=2048):\n",
    "    data = []\n",
    "    # proving_edges = [edge for edge in node.out_edges if edge.distance_to_proof() < math.inf]\n",
    "    # for edge in proving_edges:\n",
    "    if node.out_edges:\n",
    "        for edge in node.out_edges:\n",
    "            # if error, then give edge the worst score\n",
    "            if len(edge.dst) == 1 and isinstance(edge.dst[0], ErrorNode):\n",
    "                target = max_proof_len + 2\n",
    "            elif edge.distance_to_proof() == math.inf:\n",
    "                if sum([visits[d.goal] for d in edge.dst]) >= neg_threshold:\n",
    "                    target = max_proof_len + 1\n",
    "                else:\n",
    "                    continue\n",
    "            else:\n",
    "                target = min(max_proof_len, (edge.distance_to_proof() - 1))\n",
    "\n",
    "            datum = {\n",
    "                'goal': node.goal,\n",
    "                'tactic': edge.tactic,\n",
    "                'target': target\n",
    "            }\n",
    "\n",
    "            data.append(datum)\n",
    "\n",
    "    return data\n",
    "\n",
    "\n",
    "edge_data = []\n",
    "\n",
    "for trace in traces:\n",
    "    nodes = trace.nodes\n",
    "\n",
    "    updated_visit_count = {node: nodes[node].visit_count for node in nodes}\n",
    "\n",
    "    for goal, node in nodes.items():\n",
    "        for a in node.ancestors:\n",
    "            updated_visit_count[a] += node.visit_count\n",
    "\n",
    "    for node in nodes:\n",
    "        edge_data.extend(add_edge_data(nodes[node], updated_visit_count))\n"
   ],
   "metadata": {
    "collapsed": false
   }
  },
  {
   "cell_type": "code",
   "execution_count": null,
   "outputs": [],
   "source": [
    "len(edge_data)"
   ],
   "metadata": {
    "collapsed": false
   }
  },
  {
   "cell_type": "code",
   "execution_count": null,
   "outputs": [],
   "source": [
    "import numpy as np\n",
    "np.unique([t['target'] for t in edge_data], return_counts=True )"
   ],
   "metadata": {
    "collapsed": false
   }
  },
  {
   "cell_type": "code",
   "execution_count": null,
   "outputs": [],
   "source": [
    "import matplotlib.pyplot as plt\n",
    "\n",
    "plt.hist([t['target'] for t in edge_data])\n"
   ],
   "metadata": {
    "collapsed": false
   }
  },
  {
   "cell_type": "code",
   "execution_count": null,
   "outputs": [],
   "source": [
    "len(set([t['target'] for t in goal_step_data]))"
   ],
   "metadata": {
    "collapsed": false
   }
  },
  {
   "cell_type": "code",
   "execution_count": null,
   "outputs": [],
   "source": [
    "len(goal_step_data)"
   ],
   "metadata": {
    "collapsed": false
   }
  },
  {
   "cell_type": "code",
   "execution_count": null,
   "outputs": [],
   "source": [
    "import matplotlib.pyplot as plt"
   ],
   "metadata": {
    "collapsed": false
   }
  },
  {
   "cell_type": "code",
   "execution_count": null,
   "outputs": [],
   "source": [
    "plt.hist([g['target'] for g in goal_step_data])"
   ],
   "metadata": {
    "collapsed": false
   }
  },
  {
   "cell_type": "code",
   "execution_count": null,
   "outputs": [],
   "source": [
    "import numpy as np\n",
    "np.unique([t['target'] for t in goal_step_data], return_counts=True)"
   ],
   "metadata": {
    "collapsed": false
   }
  },
  {
   "cell_type": "code",
   "execution_count": null,
   "outputs": [],
   "source": [
    "from sklearn.utils.class_weight import compute_class_weight"
   ],
   "metadata": {
    "collapsed": false
   }
  },
  {
   "cell_type": "code",
   "execution_count": null,
   "outputs": [],
   "source": [
    "np.arange(0, 11)"
   ],
   "metadata": {
    "collapsed": false
   }
  },
  {
   "cell_type": "code",
   "execution_count": null,
   "outputs": [],
   "source": [
    "weights = compute_class_weight(class_weight='balanced', classes=np.arange(0, 11), y=[t['target'] for t in goal_step_data] + [1,2,3,4]).tolist()"
   ],
   "metadata": {
    "collapsed": false
   }
  },
  {
   "cell_type": "code",
   "execution_count": null,
   "outputs": [],
   "source": [
    "weights"
   ],
   "metadata": {
    "collapsed": false
   }
  },
  {
   "cell_type": "code",
   "execution_count": null,
   "outputs": [],
   "source": [
    "import random\n",
    "random.shuffle(goal_step_data)\n",
    "\n",
    "with open(\"goal_step_data.pk\", \"wb\") as f:\n",
    "    pickle.dump(goal_step_data[:int(0.9 * len(goal_step_data))], f)\n",
    "\n",
    "with open(\"goal_step_data_val.pk\", \"wb\") as f:\n",
    "    pickle.dump(goal_step_data[int(0.9*len(goal_step_data)):], f)\n",
    "#\n",
    "# with open(\"tac_data.pk\", \"wb\") as f:\n",
    "#     pickle.dump(full_data, f)\n",
    "\n"
   ],
   "metadata": {
    "collapsed": false
   }
  },
  {
   "cell_type": "code",
   "execution_count": null,
   "outputs": [],
   "source": [
    "from updown.search_tree_updown import ErrorNode, Status\n",
    "\n",
    "goal_data = []\n",
    "\n",
    "for trace in traces:\n",
    "    nodes = trace.nodes\n",
    "\n",
    "    updated_visit_count = {node: nodes[node].visit_count for node in nodes}\n",
    "\n",
    "    for goal, node in nodes.items():\n",
    "        for a in node.ancestors:\n",
    "            updated_visit_count[a] += node.visit_count\n",
    "\n",
    "    for node in nodes:\n",
    "        node_ = nodes[node]\n",
    "        goal_datum = {\n",
    "            'goal': node,\n",
    "            'raw_visit_count': node_.visit_count,\n",
    "            'full_visit_count': updated_visit_count[node],\n",
    "            'proved': int(node_.status==Status.PROVED),\n",
    "            'distance_to_proof': node_.distance_to_proof\n",
    "        }\n",
    "\n",
    "        # goal_data.append((node, node_.visit_count, updated_visit_count[node], int(node_.status==Status.PROVED), node_.distance_to_proof))\n",
    "        goal_data.append(goal_datum)\n",
    "\n"
   ],
   "metadata": {
    "collapsed": false
   },
   "id": "2ddb7461b5b7a8c6"
  },
  {
   "cell_type": "code",
   "execution_count": null,
   "outputs": [],
   "source": [
    "goal_data[0]"
   ],
   "metadata": {
    "collapsed": false
   }
  },
  {
   "cell_type": "code",
   "execution_count": null,
   "outputs": [],
   "source": [
    "len(goal_data)"
   ],
   "metadata": {
    "collapsed": false
   }
  },
  {
   "cell_type": "code",
   "execution_count": null,
   "outputs": [],
   "source": [
    "len(goal_data)"
   ],
   "metadata": {
    "collapsed": false
   },
   "id": "59b97d55ae27536c"
  },
  {
   "cell_type": "code",
   "execution_count": null,
   "outputs": [],
   "source": [
    "print (goal_data[2])"
   ],
   "metadata": {
    "collapsed": false
   },
   "id": "276994cffe1eab47"
  },
  {
   "cell_type": "code",
   "execution_count": null,
   "outputs": [],
   "source": [
    "print (goal_data[0])"
   ],
   "metadata": {
    "collapsed": false
   }
  },
  {
   "cell_type": "code",
   "execution_count": null,
   "outputs": [],
   "source": [
    "print (full_data[1])"
   ],
   "metadata": {
    "collapsed": false
   }
  },
  {
   "cell_type": "code",
   "execution_count": null,
   "outputs": [],
   "source": [
    "import random\n",
    "random.shuffle(goal_data)\n",
    "\n",
    "with open(\"goal_data.pk\", \"wb\") as f:\n",
    "    pickle.dump(goal_data[:int(0.9 * len(goal_data))], f)\n",
    "\n",
    "with open(\"goal_data_val.pk\", \"wb\") as f:\n",
    "    pickle.dump(goal_data[int(0.9*len(goal_data)):], f)\n",
    "\n",
    "with open(\"tac_data.pk\", \"wb\") as f:\n",
    "    pickle.dump(full_data, f)\n"
   ],
   "metadata": {
    "collapsed": false
   }
  },
  {
   "cell_type": "code",
   "execution_count": null,
   "outputs": [],
   "source": [
    "import matplotlib.pyplot as plt"
   ],
   "metadata": {
    "collapsed": false
   },
   "id": "567bdca8431e71a6"
  },
  {
   "cell_type": "code",
   "execution_count": null,
   "outputs": [],
   "source": [
    "proven_visits = [g[2] for g in goal_data if g[3] == 1]"
   ],
   "metadata": {
    "collapsed": false
   },
   "id": "73a6540046f1099c"
  },
  {
   "cell_type": "code",
   "execution_count": null,
   "outputs": [],
   "source": [
    "len(proven_visits)"
   ],
   "metadata": {
    "collapsed": false
   },
   "id": "e6f861c72bd5b29f"
  },
  {
   "cell_type": "code",
   "execution_count": null,
   "outputs": [],
   "source": [
    "len([a for a in proven_visits if a > 0]) / len(proven_visits)"
   ],
   "metadata": {
    "collapsed": false
   },
   "id": "5e0ab27ba7db9e2f"
  },
  {
   "cell_type": "code",
   "execution_count": null,
   "outputs": [],
   "source": [
    "thresholds = [64, 128, 256, 512, 1024, 2056]\n",
    "\n",
    "for threshold in thresholds:\n",
    "    print (threshold)\n",
    "    p = len([a for a in proven_visits if a > threshold]) / len(proven_visits)\n",
    "    failed_visits = [g[2] for g in goal_data if g[3] != 1] #and g[2] < 1000]\n",
    "    q = len([a for a in failed_visits if a > threshold]) / len([a for a in failed_visits if a > 0])\n",
    "    # print (p/q)\n",
    "    print (p, q)\n",
    "    print ('\\n')\n",
    "\n"
   ],
   "metadata": {
    "collapsed": false
   },
   "id": "44242829f6ced98e"
  },
  {
   "cell_type": "code",
   "execution_count": null,
   "outputs": [],
   "source": [
    "plt.hist(proven_visits, bins=100)\n",
    "plt.show()"
   ],
   "metadata": {
    "collapsed": false
   },
   "id": "1bcdfa0285f4846e"
  },
  {
   "cell_type": "code",
   "execution_count": null,
   "outputs": [],
   "source": [
    "failed_visits = [g[2] for g in goal_data if g[3] != 1] #and g[2] < 1000]"
   ],
   "metadata": {
    "collapsed": false
   },
   "id": "425642c61d0dd6d5"
  },
  {
   "cell_type": "code",
   "execution_count": null,
   "outputs": [],
   "source": [
    "# only ~7% of nodes are explored\n",
    "len([a for a in failed_visits if a > 0]) / len(failed_visits)"
   ],
   "metadata": {
    "collapsed": false
   },
   "id": "ccd57ea554147a23"
  },
  {
   "cell_type": "code",
   "execution_count": null,
   "outputs": [],
   "source": [
    "len([a for a in failed_visits if a > 512]) / len([a for a in failed_visits if a > 0])"
   ],
   "metadata": {
    "collapsed": false
   },
   "id": "214e63550d4158d7"
  },
  {
   "cell_type": "code",
   "execution_count": null,
   "outputs": [],
   "source": [
    "\n",
    "len([a for a in failed_visits if a > 512])\n"
   ],
   "metadata": {
    "collapsed": false
   },
   "id": "72986c33cc4a7e75"
  },
  {
   "cell_type": "code",
   "execution_count": null,
   "outputs": [],
   "source": [],
   "metadata": {
    "collapsed": false
   },
   "id": "1fbb015c44613030"
  },
  {
   "cell_type": "code",
   "execution_count": null,
   "outputs": [],
   "source": [
    "plt.hist(failed_visits, bins=100)\n",
    "plt.show()"
   ],
   "metadata": {
    "collapsed": false
   },
   "id": "6524d4f75fb86543"
  },
  {
   "cell_type": "code",
   "execution_count": null,
   "outputs": [],
   "source": [
    "from prover.search_tree_context import TreeError\n",
    "\n",
    "for trace in traces:\n",
    "    nodes = trace.nodes\n",
    "\n",
    "    for node in nodes:\n",
    "        node_ = nodes[node]\n",
    "        if node_.out_edges:\n",
    "            if all([edge.dst[0].status == Status.FAILED and len(edge.dst) == 1 and not isinstance(edge.dst[0].inner, TreeError) for edge in node_.out_edges ]):\n",
    "                print ('failed')\n",
    "                \n",
    "                    \n",
    "        # goal_data.append((node, node_.visit_count, updated_visit_count[node], int(node_.status==Status.PROVED), node_.distance_to_proof))\n",
    "\n",
    "\n"
   ],
   "metadata": {
    "collapsed": false
   },
   "id": "ebb176fad6af3d00"
  },
  {
   "cell_type": "code",
   "execution_count": null,
   "outputs": [],
   "source": [
    "proven = [d for d in full_data if d[2] < math.inf]"
   ],
   "metadata": {
    "collapsed": false
   },
   "id": "eb08c93720b84d8e"
  },
  {
   "cell_type": "code",
   "execution_count": null,
   "outputs": [],
   "source": [
    "failed = [d for d in full_data if d[2] == math.inf]"
   ],
   "metadata": {
    "collapsed": false
   },
   "id": "b54399f20b52eeac"
  },
  {
   "cell_type": "code",
   "execution_count": null,
   "outputs": [],
   "source": [
    "len(failed)"
   ],
   "metadata": {
    "collapsed": false
   },
   "id": "c979976edac6cb9a"
  },
  {
   "cell_type": "code",
   "execution_count": null,
   "outputs": [],
   "source": [
    "# large percentage of failed tactics result in an error. Can safely take these as negative/low reward examples\n",
    "len([f for f in failed if f[-1]]) / len(failed)"
   ],
   "metadata": {
    "collapsed": false
   },
   "id": "13d07f8af507bf21"
  },
  {
   "cell_type": "code",
   "execution_count": null,
   "outputs": [],
   "source": [
    "len(proven) / len(full_data)"
   ],
   "metadata": {
    "collapsed": false
   },
   "id": "1fe31e84f51a4445"
  },
  {
   "cell_type": "code",
   "execution_count": null,
   "outputs": [],
   "source": [
    "prov_dict = {}\n",
    "\n",
    "for d in proven:\n",
    "    if d[0] not in prov_dict:\n",
    "        prov_dict[d[0]] = [(d[1], d[2], d[3], d[4])]\n",
    "    else:\n",
    "        prov_dict[d[0]].append((d[1], d[2], d[3], d[4]))"
   ],
   "metadata": {
    "collapsed": false
   },
   "id": "a119f369a9bcf100"
  },
  {
   "cell_type": "code",
   "execution_count": null,
   "outputs": [],
   "source": [
    "len(prov_dict)\n"
   ],
   "metadata": {
    "collapsed": false
   },
   "id": "6508aeef6b5b8e05"
  },
  {
   "cell_type": "code",
   "execution_count": null,
   "outputs": [],
   "source": [
    "len(proven)"
   ],
   "metadata": {
    "collapsed": false
   },
   "id": "acc1dd8f0f271f37"
  },
  {
   "cell_type": "code",
   "execution_count": null,
   "outputs": [],
   "source": [
    "# prov_dict.keys()"
   ],
   "metadata": {
    "collapsed": false
   },
   "id": "501996e6af3290de"
  },
  {
   "cell_type": "code",
   "execution_count": null,
   "outputs": [],
   "source": [
    "# sort by largest visit_count (as proxy for difficulty) and then by distance_to_proof, then by time taken for tactic\n",
    "sorted([sorted(l, key=lambda x: (x[1], x[3])) for l in list(prov_dict.values())], key= lambda l: l[0][2],reverse=True)"
   ],
   "metadata": {
    "collapsed": false
   },
   "id": "c0b2afa08f7568c2"
  },
  {
   "cell_type": "code",
   "execution_count": null,
   "outputs": [],
   "source": [
    "# from render_proof import render_proof\n",
    "# render_proof('traces/proven_set.nonempty.one_mem_div_2023-10-10_06:33.pk')\n",
    "# from lean_dojo import *\n",
    "\n",
    "# repo=LeanGitRepo(url='https://github.com/leanprover-community/mathlib', commit='32a7e535287f9c73f2e4d2aef306a39190f0b504')\n",
    "# for trace in traces:\n",
    "#     theorem = trace.theorem\n",
    "#     proof = trace.proof\n",
    "#     dojo, state_0 = Dojo(theorem).__enter__()\n",
    "#     state_1 = dojo.run_tac(state_0, ', '.join(proof))\n",
    "#     print (state_1)\n",
    "\n"
   ],
   "metadata": {
    "collapsed": false
   },
   "id": "75fbf09c67e032ae"
  }
 ],
 "metadata": {
  "kernelspec": {
   "display_name": "Python 3",
   "language": "python",
   "name": "python3"
  },
  "language_info": {
   "codemirror_mode": {
    "name": "ipython",
    "version": 2
   },
   "file_extension": ".py",
   "mimetype": "text/x-python",
   "name": "python",
   "nbconvert_exporter": "python",
   "pygments_lexer": "ipython2",
   "version": "2.7.6"
  }
 },
 "nbformat": 4,
 "nbformat_minor": 5
}
