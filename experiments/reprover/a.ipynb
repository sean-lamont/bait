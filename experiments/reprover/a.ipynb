{
 "cells": [
  {
   "cell_type": "code",
   "execution_count": 1,
   "outputs": [
    {
     "name": "stderr",
     "output_type": "stream",
     "text": [
      "2023-10-13 17:44:14.208562: I tensorflow/core/util/port.cc:110] oneDNN custom operations are on. You may see slightly different numerical results due to floating-point round-off errors from different computation orders. To turn them off, set the environment variable `TF_ENABLE_ONEDNN_OPTS=0`.\n",
      "2023-10-13 17:44:14.228747: I tensorflow/core/platform/cpu_feature_guard.cc:182] This TensorFlow binary is optimized to use available CPU instructions in performance-critical operations.\n",
      "To enable the following instructions: AVX2 AVX_VNNI FMA, in other operations, rebuild TensorFlow with the appropriate compiler flags.\n",
      "2023-10-13 17:44:14.524794: W tensorflow/compiler/tf2tensorrt/utils/py_utils.cc:38] TF-TRT Warning: Could not find TensorRT\n"
     ]
    },
    {
     "name": "stdout",
     "output_type": "stream",
     "text": [
      "[2023-10-13 17:44:18,414] [INFO] [real_accelerator.py:158:get_accelerator] Setting ds_accelerator to cuda (auto detect)\n"
     ]
    }
   ],
   "source": [
    "\n",
    "from goal_model_step.model import StepGoalModel\n",
    "import torch\n"
   ],
   "metadata": {
    "collapsed": false,
    "ExecuteTime": {
     "end_time": "2023-10-13T07:14:20.348206407Z",
     "start_time": "2023-10-13T07:14:13.189567196Z"
    }
   }
  },
  {
   "cell_type": "code",
   "execution_count": 2,
   "outputs": [],
   "source": [
    "goal_path = 'goal_step.ckpt'"
   ],
   "metadata": {
    "collapsed": false,
    "ExecuteTime": {
     "end_time": "2023-10-13T07:14:20.350382100Z",
     "start_time": "2023-10-13T07:14:20.349634544Z"
    }
   }
  },
  {
   "cell_type": "code",
   "execution_count": 3,
   "outputs": [
    {
     "name": "stdout",
     "output_type": "stream",
     "text": [
      "Processing zero checkpoint 'goal.ckpt/checkpoint'\n",
      "Detected checkpoint of type zero stage 2, world_size: 1\n",
      "Parsing checkpoint created by deepspeed==0.10.3\n",
      "Reconstructed fp32 state dict with 170 params 299637760 elements\n",
      "Saving fp32 state dict to /tmp/tmphf7pz5qb/lightning.cpkt\n"
     ]
    }
   ],
   "source": [
    "\n",
    "goal_model = StepGoalModel.load(goal_path, device=torch.device(\"cpu\"), freeze=True)\n",
    "\n"
   ],
   "metadata": {
    "collapsed": false,
    "ExecuteTime": {
     "end_time": "2023-10-13T07:14:26.052920346Z",
     "start_time": "2023-10-13T07:14:20.350722471Z"
    }
   }
  },
  {
   "cell_type": "code",
   "execution_count": 37,
   "metadata": {
    "collapsed": true,
    "ExecuteTime": {
     "end_time": "2023-10-13T07:44:36.872382063Z",
     "start_time": "2023-10-13T07:44:36.798858660Z"
    }
   },
   "outputs": [
    {
     "name": "stdout",
     "output_type": "stream",
     "text": [
      "tensor([[    -inf, -22.1560,     -inf,  ...,     -inf,     -inf,     -inf],\n",
      "        [    -inf, -18.0547,     -inf,  ...,     -inf,     -inf,     -inf],\n",
      "        [    -inf, -18.6227,     -inf,  ...,     -inf,     -inf,     -inf],\n",
      "        [    -inf, -18.4882,     -inf,  ...,     -inf,     -inf,     -inf]])\n",
      "torch.Size([4, 384])\n"
     ]
    }
   ],
   "source": [
    "out = goal_model.batch_generate(['<extra_id_0>asdfasdf', 'sdfdf', 'asdfasdfasdf',\"<extra_id_0>n : ℕ\\n⊢ gcd n n = n\" ])"
   ]
  },
  {
   "cell_type": "code",
   "execution_count": 39,
   "outputs": [
    {
     "data": {
      "text/plain": "tensor([-83.7897, -70.1934, -63.5459, -60.6499])"
     },
     "execution_count": 39,
     "metadata": {},
     "output_type": "execute_result"
    }
   ],
   "source": [
    "out"
   ],
   "metadata": {
    "collapsed": false,
    "ExecuteTime": {
     "end_time": "2023-10-13T07:44:41.296576643Z",
     "start_time": "2023-10-13T07:44:41.293562679Z"
    }
   }
  },
  {
   "cell_type": "code",
   "execution_count": 38,
   "outputs": [
    {
     "data": {
      "text/plain": "tensor([-23.1936,  -9.5973,  -2.9498,  -0.0538])"
     },
     "execution_count": 38,
     "metadata": {},
     "output_type": "execute_result"
    }
   ],
   "source": [
    "torch.log_softmax(out, 0)"
   ],
   "metadata": {
    "collapsed": false,
    "ExecuteTime": {
     "end_time": "2023-10-13T07:44:37.790668208Z",
     "start_time": "2023-10-13T07:44:37.785690401Z"
    }
   }
  },
  {
   "cell_type": "code",
   "execution_count": 41,
   "outputs": [],
   "source": [
    "import pickle\n",
    "with open(\"traces/failed_convex.is_linear_preimage_2023-10-13_20:12.pk\", \"rb\") as f:\n",
    "    trace = pickle.load(f)"
   ],
   "metadata": {
    "collapsed": false,
    "ExecuteTime": {
     "end_time": "2023-10-13T09:44:46.528408474Z",
     "start_time": "2023-10-13T09:44:46.313582734Z"
    }
   }
  },
  {
   "cell_type": "code",
   "execution_count": 48,
   "outputs": [
    {
     "data": {
      "text/plain": "Goal(assumptions=[Declaration(ident='𝕜', lean_type='Type u_1'), Declaration(ident='E', lean_type='Type u_2'), Declaration(ident='F', lean_type='Type u_3'), Declaration(ident='_inst_1', lean_type='ordered_semiring 𝕜'), Declaration(ident='_inst_2', lean_type='add_comm_monoid E'), Declaration(ident='_inst_3', lean_type='add_comm_monoid F'), Declaration(ident='_inst_4', lean_type='module 𝕜 E'), Declaration(ident='_inst_5', lean_type='module 𝕜 F'), Declaration(ident='s', lean_type='set F'), Declaration(ident='hs', lean_type='convex 𝕜 s'), Declaration(ident='f', lean_type='E → F'), Declaration(ident='hf', lean_type='is_linear_map 𝕜 f')], conclusion=\"convex 𝕜 (f ⁻¹' s)\")"
     },
     "execution_count": 48,
     "metadata": {},
     "output_type": "execute_result"
    }
   ],
   "source": [
    "trace.tree.state.goals[0]"
   ],
   "metadata": {
    "collapsed": false,
    "ExecuteTime": {
     "end_time": "2023-10-13T09:45:07.221723732Z",
     "start_time": "2023-10-13T09:45:07.218662470Z"
    }
   }
  },
  {
   "cell_type": "code",
   "execution_count": 51,
   "outputs": [],
   "source": [
    "nodes = trace.nodes"
   ],
   "metadata": {
    "collapsed": false,
    "ExecuteTime": {
     "end_time": "2023-10-13T09:47:03.246090258Z",
     "start_time": "2023-10-13T09:47:03.244391686Z"
    }
   }
  },
  {
   "cell_type": "code",
   "execution_count": 90,
   "outputs": [],
   "source": [
    "outs = [o.tactic for o in trace.tree.out_edges]\n"
   ],
   "metadata": {
    "collapsed": false,
    "ExecuteTime": {
     "end_time": "2023-10-15T23:58:52.649807812Z",
     "start_time": "2023-10-15T23:58:52.607631525Z"
    }
   }
  },
  {
   "cell_type": "code",
   "execution_count": 91,
   "outputs": [
    {
     "data": {
      "text/plain": "['intros x hx y hy a b ha hb hab',\n 'rintro x hx y hy a b ha hb hab',\n 'classical',\n 'intros x hx',\n 'intros x hx y hy a b ha hb hab ab',\n 'intros a ha b hb hab',\n 'intros p hp x hx y hy a b ha hb hab',\n 'intros y hy a b ha hb hab',\n 'intros x₁ hx₁ x₂ hx₂ a b ha hb hab',\n 'intros x hx y hy hxy a b ha hb hab',\n 'refine λ x hx y hy a b ha hb hab, _',\n 'intros a ha x hx y hy a b ha hb hab',\n 'rintros x hx y hy a b ha hb hab',\n 'rintro _ ⟨x, hx, rfl⟩ _ ⟨y, hy, rfl⟩ hxy a b ha hb hab',\n 'intros x₁ hx₁ x₂ hx y hy a b ha hb hab',\n 'intros x hx y hy _ a b ha hb hab',\n 'intros r hr x hx y hy a b ha hb hab',\n 'intros a b ha hb hab',\n 'intros a ha b hb ab',\n 'intros x hx y hy h',\n 'intros e he x hx y hy a b ha hb hab',\n 'obtain rfl | h := s.eq_empty_or_nonempty',\n 'intros e x hx y hy a b ha hb hab',\n 'intros a ha x hx a b ha hb hab',\n 'intros x hx y hy a b ha hb hab hab',\n 'intros x₁ hx₁ x₂ h',\n 'rintro a ha x hx y hy a b ha hb hab',\n 'intros a b ha hb ab',\n 'intros x₁ hx₁ x₂ hx hy a b ha hb hab',\n 'intros h x hx y hy a b ha hb hab',\n 'intros _ hx a b ha hb hab',\n 'rintros _ ⟨x, hx, rfl⟩ _ ⟨y, hy, rfl⟩ hxy a b ha hb hab',\n 'intros x hx y hy h a b ha hb hab',\n 'rintro ⟨x, hx, rfl⟩ ⟨y, hy, rfl⟩ hxy a b ha hb hab',\n \"obtain rfl | hs' := s.eq_empty_or_nonempty\",\n 'intros x₁ hx₁ x₂ hx',\n 'intros x₁ hx₁ x₂ hx h',\n 'rw convex_iff_segment_subset at ⊢ hs',\n 'intros x hx y hy _',\n 'intros x hx₁ hx₂ a b ha hb hab',\n 'intros a ha b hb hab ab',\n 'intros x hx y hy',\n 'intros',\n 'rintro _ ⟨x, hx, rfl⟩ ⟨y, hy, rfl⟩ hxy a b ha hb hab',\n 'intros p hp x hx',\n 'intros x₁ hx₁ x₂ hx₂',\n 'rintro ⟨x, hx⟩ ⟨y, hy⟩ hxy a b ha hb hab',\n 'intros x hX y hy a b ha hb hab',\n 'intros x₁ hx₂ a b ha hb hab',\n 'intros r hr x hx',\n 'intros r hr a b ha hb hab',\n 'intros l hl a b ha hb hab',\n 'obtain rfl | hs := s.eq_empty_or_nonempty',\n \"rintro convex 𝕜 (f ⁻¹' s)\",\n 'intros x₁ hx₁ hx₂ a b ha hb hab',\n \"let f' := hf.to_linear_map.convex_on\",\n 'intros e₁ e₂',\n 'intros x₀ hx₀ a b ha hb hab',\n \"rintro _ ⟨e, he, rfl⟩ _ ⟨e', he', rfl⟩ ha a b ha hb hab\",\n \"let f' := hf.convex_on\",\n 'intros e he x hx i hi a b ha hb hab',\n 'intros x hx y hy e a b ha hb hab',\n 'split',\n \"let f' := hf.preimage f\"]"
     },
     "execution_count": 91,
     "metadata": {},
     "output_type": "execute_result"
    }
   ],
   "source": [
    "outs"
   ],
   "metadata": {
    "collapsed": false,
    "ExecuteTime": {
     "end_time": "2023-10-15T23:58:55.273730627Z",
     "start_time": "2023-10-15T23:58:55.269769389Z"
    }
   }
  },
  {
   "cell_type": "code",
   "execution_count": 101,
   "outputs": [],
   "source": [
    "child_goals = [nodes[child].state.goals[0] for child in trace.tree.children if len(nodes[child].state.goals) == 1]"
   ],
   "metadata": {
    "collapsed": false,
    "ExecuteTime": {
     "end_time": "2023-10-15T23:59:28.391140646Z",
     "start_time": "2023-10-15T23:59:28.389769264Z"
    }
   }
  },
  {
   "cell_type": "code",
   "execution_count": 104,
   "outputs": [
    {
     "data": {
      "text/plain": "['𝕜',\n 'E',\n 'F',\n '_inst_1',\n '_inst_2',\n '_inst_3',\n '_inst_4',\n '_inst_5',\n 's',\n 'hs',\n 'f',\n 'hf',\n 'r',\n 'hr',\n 'a',\n 'b',\n 'ha',\n 'hb',\n 'hab']"
     },
     "execution_count": 104,
     "metadata": {},
     "output_type": "execute_result"
    }
   ],
   "source": [
    "[a.ident for a in child_goals[3].assumptions]"
   ],
   "metadata": {
    "collapsed": false,
    "ExecuteTime": {
     "end_time": "2023-10-16T00:00:22.942714863Z",
     "start_time": "2023-10-16T00:00:22.940402342Z"
    }
   }
  },
  {
   "cell_type": "code",
   "execution_count": 106,
   "outputs": [
    {
     "data": {
      "text/plain": "['0',\n '≤',\n 'hb',\n '→',\n 'ha',\n '+',\n 'hb',\n '=',\n '1',\n '→',\n 'ha',\n '•',\n 'r',\n '+',\n 'hb',\n '•',\n 'a',\n '∈',\n 'f',\n \"⁻¹'\",\n 's']"
     },
     "execution_count": 106,
     "metadata": {},
     "output_type": "execute_result"
    }
   ],
   "source": [
    "child_goals[3].conclusion.split(' ')"
   ],
   "metadata": {
    "collapsed": false,
    "ExecuteTime": {
     "end_time": "2023-10-16T00:00:37.669507736Z",
     "start_time": "2023-10-16T00:00:37.667318091Z"
    }
   }
  },
  {
   "cell_type": "code",
   "execution_count": null,
   "outputs": [],
   "source": [
    "split_chars  = ['⦃', '⦄', '[', ']', '(', ')', '-']"
   ],
   "metadata": {
    "collapsed": false
   }
  },
  {
   "cell_type": "code",
   "execution_count": null,
   "outputs": [],
   "source": [
    "import re\n",
    "_TOKEN_RE = re.compile(r'⦃|⦄|,|\\{|}|\\(|\\)|\\[|\\]|[^\\s@⊢:(){}[]]+')\n"
   ],
   "metadata": {
    "collapsed": false
   }
  },
  {
   "cell_type": "code",
   "execution_count": 107,
   "outputs": [],
   "source": [
    "decs = [(a.ident, a.lean_type.split(' ')) for c in child_goals for a in c.assumptions]\n"
   ],
   "metadata": {
    "collapsed": false,
    "ExecuteTime": {
     "end_time": "2023-10-16T00:00:57.001782067Z",
     "start_time": "2023-10-16T00:00:56.950046243Z"
    }
   }
  },
  {
   "cell_type": "code",
   "execution_count": 108,
   "outputs": [
    {
     "data": {
      "text/plain": "[('𝕜', ['Type', 'u_1']),\n ('E', ['Type', 'u_2']),\n ('F', ['Type', 'u_3']),\n ('_inst_1', ['ordered_semiring', '𝕜']),\n ('_inst_2', ['add_comm_monoid', 'E']),\n ('_inst_3', ['add_comm_monoid', 'F']),\n ('_inst_4', ['module', '𝕜', 'E']),\n ('_inst_5', ['module', '𝕜', 'F']),\n ('s', ['set', 'F']),\n ('hs', ['convex', '𝕜', 's']),\n ('f', ['E', '→', 'F']),\n ('hf', ['is_linear_map', '𝕜', 'f']),\n ('y', ['E']),\n ('hy', ['y', '∈', 'f', \"⁻¹'\", 's']),\n ('a', ['E']),\n ('b', ['a', '∈', 'f', \"⁻¹'\", 's']),\n ('ha', ['𝕜']),\n ('hb', ['𝕜']),\n ('hab', ['0', '≤', 'ha']),\n ('𝕜', ['Type', 'u_1']),\n ('E', ['Type', 'u_2']),\n ('F', ['Type', 'u_3']),\n ('_inst_1', ['ordered_semiring', '𝕜']),\n ('_inst_2', ['add_comm_monoid', 'E']),\n ('_inst_3', ['add_comm_monoid', 'F']),\n ('_inst_4', ['module', '𝕜', 'E']),\n ('_inst_5', ['module', '𝕜', 'F']),\n ('s', ['set', 'F']),\n ('hs', ['convex', '𝕜', 's']),\n ('f', ['E', '→', 'F']),\n ('hf', ['is_linear_map', '𝕜', 'f']),\n ('x', ['E']),\n ('hx', ['x', '∈', 'f', \"⁻¹'\", 's']),\n ('y', ['E']),\n ('hy', ['y', '∈', 'f', \"⁻¹'\", 's']),\n ('h', ['𝕜']),\n ('𝕜', ['Type', 'u_1']),\n ('E', ['Type', 'u_2']),\n ('F', ['Type', 'u_3']),\n ('_inst_1', ['ordered_semiring', '𝕜']),\n ('_inst_2', ['add_comm_monoid', 'E']),\n ('_inst_3', ['add_comm_monoid', 'F']),\n ('_inst_4', ['module', '𝕜', 'E']),\n ('_inst_5', ['module', '𝕜', 'F']),\n ('s', ['set', 'F']),\n ('hs', ['convex', '𝕜', 's']),\n ('f', ['E', '→', 'F']),\n ('hf', ['is_linear_map', '𝕜', 'f']),\n ('x₁', ['E']),\n ('hx₁', ['x₁', '∈', 'f', \"⁻¹'\", 's']),\n ('x₂', ['E']),\n ('hx₂', ['x₂', '∈', 'f', \"⁻¹'\", 's']),\n ('a', ['𝕜']),\n ('b', ['𝕜']),\n ('ha', ['0', '≤', 'a']),\n ('hb', ['0', '≤', 'b']),\n ('hab', ['a', '+', 'b', '=', '1']),\n ('𝕜', ['Type', 'u_1']),\n ('E', ['Type', 'u_2']),\n ('F', ['Type', 'u_3']),\n ('_inst_1', ['ordered_semiring', '𝕜']),\n ('_inst_2', ['add_comm_monoid', 'E']),\n ('_inst_3', ['add_comm_monoid', 'F']),\n ('_inst_4', ['module', '𝕜', 'E']),\n ('_inst_5', ['module', '𝕜', 'F']),\n ('s', ['set', 'F']),\n ('hs', ['convex', '𝕜', 's']),\n ('f', ['E', '→', 'F']),\n ('hf', ['is_linear_map', '𝕜', 'f']),\n ('r', ['E']),\n ('hr', ['r', '∈', 'f', \"⁻¹'\", 's']),\n ('a', ['E']),\n ('b', ['a', '∈', 'f', \"⁻¹'\", 's']),\n ('ha', ['𝕜']),\n ('hb', ['𝕜']),\n ('hab', ['0', '≤', 'ha']),\n ('𝕜', ['Type', 'u_1']),\n ('E', ['Type', 'u_2']),\n ('F', ['Type', 'u_3']),\n ('_inst_1', ['ordered_semiring', '𝕜']),\n ('_inst_2', ['add_comm_monoid', 'E']),\n ('_inst_3', ['add_comm_monoid', 'F']),\n ('_inst_4', ['module', '𝕜', 'E']),\n ('_inst_5', ['module', '𝕜', 'F']),\n ('s', ['set', 'F']),\n ('hs', ['convex', '𝕜', 's']),\n ('f', ['E', '→', 'F']),\n ('hf', ['is_linear_map', '𝕜', 'f']),\n ('x', ['E']),\n ('hX', ['x', '∈', 'f', \"⁻¹'\", 's']),\n ('y', ['E']),\n ('hy', ['y', '∈', 'f', \"⁻¹'\", 's']),\n ('a', ['𝕜']),\n ('b', ['𝕜']),\n ('ha', ['0', '≤', 'a']),\n ('hb', ['0', '≤', 'b']),\n ('hab', ['a', '+', 'b', '=', '1']),\n ('𝕜', ['Type', 'u_1']),\n ('E', ['Type', 'u_2']),\n ('F', ['Type', 'u_3']),\n ('_inst_1', ['ordered_semiring', '𝕜']),\n ('_inst_2', ['add_comm_monoid', 'E']),\n ('_inst_3', ['add_comm_monoid', 'F']),\n ('_inst_4', ['module', '𝕜', 'E']),\n ('_inst_5', ['module', '𝕜', 'F']),\n ('s', ['set', 'F']),\n ('hs', ['convex', '𝕜', 's']),\n ('f', ['E', '→', 'F']),\n ('hf', ['is_linear_map', '𝕜', 'f']),\n ('x₁', ['E']),\n ('hx₂', ['x₁', '∈', 'f', \"⁻¹'\", 's']),\n ('a', ['E']),\n ('b', ['a', '∈', 'f', \"⁻¹'\", 's']),\n ('ha', ['𝕜']),\n ('hb', ['𝕜']),\n ('hab', ['0', '≤', 'ha']),\n ('𝕜', ['Type', 'u_1']),\n ('E', ['Type', 'u_2']),\n ('F', ['Type', 'u_3']),\n ('_inst_1', ['ordered_semiring', '𝕜']),\n ('_inst_2', ['add_comm_monoid', 'E']),\n ('_inst_3', ['add_comm_monoid', 'F']),\n ('_inst_4', ['module', '𝕜', 'E']),\n ('_inst_5', ['module', '𝕜', 'F']),\n ('s', ['set', 'F']),\n ('hs', ['convex', '𝕜', 's']),\n ('f', ['E', '→', 'F']),\n ('hf', ['is_linear_map', '𝕜', 'f']),\n ('x₁', ['E']),\n ('hx₁', ['x₁', '∈', 'f', \"⁻¹'\", 's']),\n ('x₂', ['E']),\n ('hx₂', ['x₂', '∈', 'f', \"⁻¹'\", 's']),\n ('𝕜', ['Type', 'u_1']),\n ('E', ['Type', 'u_2']),\n ('F', ['Type', 'u_3']),\n ('_inst_1', ['ordered_semiring', '𝕜']),\n ('_inst_2', ['add_comm_monoid', 'E']),\n ('_inst_3', ['add_comm_monoid', 'F']),\n ('_inst_4', ['module', '𝕜', 'E']),\n ('_inst_5', ['module', '𝕜', 'F']),\n ('s', ['set', 'F']),\n ('hs', ['convex', '𝕜', 's']),\n ('f', ['E', '→', 'F']),\n ('hf', ['is_linear_map', '𝕜', 'f']),\n ('a', ['E']),\n ('ha', ['a', '∈', 'f', \"⁻¹'\", 's']),\n ('b', ['E']),\n ('hb', ['b', '∈', 'f', \"⁻¹'\", 's']),\n ('hab', ['𝕜']),\n ('ab', ['𝕜']),\n ('𝕜', ['Type', 'u_1']),\n ('E', ['Type', 'u_2']),\n ('F', ['Type', 'u_3']),\n ('_inst_1', ['ordered_semiring', '𝕜']),\n ('_inst_2', ['add_comm_monoid', 'E']),\n ('_inst_3', ['add_comm_monoid', 'F']),\n ('_inst_4', ['module', '𝕜', 'E']),\n ('_inst_5', ['module', '𝕜', 'F']),\n ('s', ['set', 'F']),\n ('hs', ['convex', '𝕜', 's']),\n ('f', ['E', '→', 'F']),\n ('hf', ['is_linear_map', '𝕜', 'f']),\n ('x', ['E']),\n ('hx', ['x', '∈', 'f', \"⁻¹'\", 's']),\n ('𝕜', ['Type', 'u_1']),\n ('E', ['Type', 'u_2']),\n ('F', ['Type', 'u_3']),\n ('_inst_1', ['ordered_semiring', '𝕜']),\n ('_inst_2', ['add_comm_monoid', 'E']),\n ('_inst_3', ['add_comm_monoid', 'F']),\n ('_inst_4', ['module', '𝕜', 'E']),\n ('_inst_5', ['module', '𝕜', 'F']),\n ('s', ['set', 'F']),\n ('hs', ['convex', '𝕜', 's']),\n ('f', ['E', '→', 'F']),\n ('hf', ['is_linear_map', '𝕜', 'f']),\n ('x₁', ['E']),\n ('hx₁', ['x₁', '∈', 'f', \"⁻¹'\", 's']),\n ('x₂', ['E']),\n ('h', ['x₂', '∈', 'f', \"⁻¹'\", 's']),\n ('𝕜', ['Type', 'u_1']),\n ('E', ['Type', 'u_2']),\n ('F', ['Type', 'u_3']),\n ('_inst_1', ['ordered_semiring', '𝕜']),\n ('_inst_2', ['add_comm_monoid', 'E']),\n ('_inst_3', ['add_comm_monoid', 'F']),\n ('_inst_4', ['module', '𝕜', 'E']),\n ('_inst_5', ['module', '𝕜', 'F']),\n ('s', ['set', 'F']),\n ('hs', ['convex', '𝕜', 's']),\n ('f', ['E', '→', 'F']),\n ('hf', ['is_linear_map', '𝕜', 'f']),\n ('a', ['E']),\n ('ha', ['a', '∈', 'f', \"⁻¹'\", 's']),\n ('x', ['E']),\n ('hx', ['x', '∈', 'f', \"⁻¹'\", 's']),\n ('a', ['𝕜']),\n ('b', ['𝕜']),\n ('ha', ['0', '≤', 'a']),\n ('hb', ['0', '≤', 'b']),\n ('hab', ['a', '+', 'b', '=', '1']),\n ('𝕜', ['Type', 'u_1']),\n ('E', ['Type', 'u_2']),\n ('F', ['Type', 'u_3']),\n ('_inst_1', ['ordered_semiring', '𝕜']),\n ('_inst_2', ['add_comm_monoid', 'E']),\n ('_inst_3', ['add_comm_monoid', 'F']),\n ('_inst_4', ['module', '𝕜', 'E']),\n ('_inst_5', ['module', '𝕜', 'F']),\n ('s', ['set', 'F']),\n ('hs', ['convex', '𝕜', 's']),\n ('f', ['E', '→', 'F']),\n ('hf', ['is_linear_map', '𝕜', 'f']),\n ('a', ['E']),\n ('ha', ['a', '∈', 'f', \"⁻¹'\", 's']),\n ('b', ['E']),\n ('hb', ['b', '∈', 'f', \"⁻¹'\", 's']),\n ('ab', ['𝕜']),\n ('𝕜', ['Type', 'u_1']),\n ('E', ['Type', 'u_2']),\n ('F', ['Type', 'u_3']),\n ('_inst_1', ['ordered_semiring', '𝕜']),\n ('_inst_2', ['add_comm_monoid', 'E']),\n ('_inst_3', ['add_comm_monoid', 'F']),\n ('_inst_4', ['module', '𝕜', 'E']),\n ('_inst_5', ['module', '𝕜', 'F']),\n ('s', ['set', 'F']),\n ('hs', ['convex', '𝕜', 's']),\n ('f', ['E', '→', 'F']),\n ('hf', ['is_linear_map', '𝕜', 'f']),\n ('e₁', ['E']),\n ('e₂', ['e₁', '∈', 'f', \"⁻¹'\", 's']),\n ('𝕜', ['Type', 'u_1']),\n ('E', ['Type', 'u_2']),\n ('F', ['Type', 'u_3']),\n ('_inst_1', ['ordered_semiring', '𝕜']),\n ('_inst_2', ['add_comm_monoid', 'E']),\n ('_inst_3', ['add_comm_monoid', 'F']),\n ('_inst_4', ['module', '𝕜', 'E']),\n ('_inst_5', ['module', '𝕜', 'F']),\n ('s', ['set', 'F']),\n ('hs', ['convex', '𝕜', 's']),\n ('f', ['E', '→', 'F']),\n ('hf', ['is_linear_map', '𝕜', 'f']),\n ('a', ['E']),\n ('b', ['a', '∈', 'f', \"⁻¹'\", 's']),\n ('ha', ['E']),\n ('hb', ['ha', '∈', 'f', \"⁻¹'\", 's']),\n ('ab', ['𝕜']),\n ('𝕜', ['Type', 'u_1']),\n ('E', ['Type', 'u_2']),\n ('F', ['Type', 'u_3']),\n ('_inst_1', ['ordered_semiring', '𝕜']),\n ('_inst_2', ['add_comm_monoid', 'E']),\n ('_inst_3', ['add_comm_monoid', 'F']),\n ('_inst_4', ['module', '𝕜', 'E']),\n ('_inst_5', ['module', '𝕜', 'F']),\n ('s', ['set', 'F']),\n ('hs', ['convex', '𝕜', 's']),\n ('f', ['E', '→', 'F']),\n ('hf', ['is_linear_map', '𝕜', 'f']),\n ('x', ['E']),\n ('hx', ['x', '∈', 'f', \"⁻¹'\", 's']),\n ('y', ['E']),\n ('hy', ['y', '∈', 'f', \"⁻¹'\", 's']),\n ('a', ['𝕜']),\n ('b', ['𝕜']),\n ('ha', ['0', '≤', 'a']),\n ('hb', ['0', '≤', 'b']),\n ('hab', ['a', '+', 'b', '=', '1']),\n ('𝕜', ['Type', 'u_1']),\n ('E', ['Type', 'u_2']),\n ('F', ['Type', 'u_3']),\n ('_inst_1', ['ordered_semiring', '𝕜']),\n ('_inst_2', ['add_comm_monoid', 'E']),\n ('_inst_3', ['add_comm_monoid', 'F']),\n ('_inst_4', ['module', '𝕜', 'E']),\n ('_inst_5', ['module', '𝕜', 'F']),\n ('s', ['set', 'F']),\n ('hs', ['convex', '𝕜', 's']),\n ('f', ['E', '→', 'F']),\n ('hf', ['is_linear_map', '𝕜', 'f']),\n ('x₁', ['E']),\n ('hx₁', ['x₁', '∈', 'f', \"⁻¹'\", 's']),\n ('x₂', ['E']),\n ('hx', ['x₂', '∈', 'f', \"⁻¹'\", 's']),\n ('h', ['𝕜']),\n ('𝕜', ['Type', 'u_1']),\n ('E', ['Type', 'u_2']),\n ('F', ['Type', 'u_3']),\n ('_inst_1', ['ordered_semiring', '𝕜']),\n ('_inst_2', ['add_comm_monoid', 'E']),\n ('_inst_3', ['add_comm_monoid', 'F']),\n ('_inst_4', ['module', '𝕜', 'E']),\n ('_inst_5', ['module', '𝕜', 'F']),\n ('s', ['set', 'F']),\n ('hs', ['convex', '𝕜', 's']),\n ('f', ['E', '→', 'F']),\n ('hf', ['is_linear_map', '𝕜', 'f']),\n ('x', ['E']),\n ('hx₁', ['x', '∈', 'f', \"⁻¹'\", 's']),\n ('hx₂', ['E']),\n ('a', ['hx₂', '∈', 'f', \"⁻¹'\", 's']),\n ('b', ['𝕜']),\n ('ha', ['𝕜']),\n ('hb', ['0', '≤', 'b']),\n ('hab', ['0', '≤', 'ha']),\n ('𝕜', ['Type', 'u_1']),\n ('E', ['Type', 'u_2']),\n ('F', ['Type', 'u_3']),\n ('_inst_1', ['ordered_semiring', '𝕜']),\n ('_inst_2', ['add_comm_monoid', 'E']),\n ('_inst_3', ['add_comm_monoid', 'F']),\n ('_inst_4', ['module', '𝕜', 'E']),\n ('_inst_5', ['module', '𝕜', 'F']),\n ('s', ['set', 'F']),\n ('hs', ['convex', '𝕜', 's']),\n ('f', ['E', '→', 'F']),\n ('hf', ['is_linear_map', '𝕜', 'f']),\n ('a', ['E']),\n ('b', ['a', '∈', 'f', \"⁻¹'\", 's']),\n ('ha', ['E']),\n ('hb', ['ha', '∈', 'f', \"⁻¹'\", 's']),\n ('hab', ['𝕜']),\n ('𝕜', ['Type', 'u_1']),\n ('E', ['Type', 'u_2']),\n ('F', ['Type', 'u_3']),\n ('_inst_1', ['ordered_semiring', '𝕜']),\n ('_inst_2', ['add_comm_monoid', 'E']),\n ('_inst_3', ['add_comm_monoid', 'F']),\n ('_inst_4', ['module', '𝕜', 'E']),\n ('_inst_5', ['module', '𝕜', 'F']),\n ('s', ['set', 'F']),\n ('hs', ['convex', '𝕜', 's']),\n ('f', ['E', '→', 'F']),\n ('hf', ['is_linear_map', '𝕜', 'f']),\n ('x', ['E']),\n ('hx', ['x', '∈', 'f', \"⁻¹'\", 's']),\n ('y', ['E']),\n ('hy', ['y', '∈', 'f', \"⁻¹'\", 's']),\n ('a', ['𝕜']),\n ('𝕜', ['Type', 'u_1']),\n ('E', ['Type', 'u_2']),\n ('F', ['Type', 'u_3']),\n ('_inst_1', ['ordered_semiring', '𝕜']),\n ('_inst_2', ['add_comm_monoid', 'E']),\n ('_inst_3', ['add_comm_monoid', 'F']),\n ('_inst_4', ['module', '𝕜', 'E']),\n ('_inst_5', ['module', '𝕜', 'F']),\n ('s', ['set', 'F']),\n ('hs', ['convex', '𝕜', 's']),\n ('f', ['E', '→', 'F']),\n ('hf', ['is_linear_map', '𝕜', 'f']),\n ('r', ['E']),\n ('hr', ['r', '∈', 'f', \"⁻¹'\", 's']),\n ('x', ['E']),\n ('hx', ['x', '∈', 'f', \"⁻¹'\", 's']),\n ('𝕜', ['Type', 'u_1']),\n ('E', ['Type', 'u_2']),\n ('F', ['Type', 'u_3']),\n ('_inst_1', ['ordered_semiring', '𝕜']),\n ('_inst_2', ['add_comm_monoid', 'E']),\n ('_inst_3', ['add_comm_monoid', 'F']),\n ('_inst_4', ['module', '𝕜', 'E']),\n ('_inst_5', ['module', '𝕜', 'F']),\n ('s', ['set', 'F']),\n ('hs', ['convex', '𝕜', 's']),\n ('f', ['E', '→', 'F']),\n ('hf', ['is_linear_map', '𝕜', 'f']),\n ('x', ['E']),\n ('hx', ['x', '∈', 'f', \"⁻¹'\", 's']),\n ('y', ['E']),\n ('hy', ['y', '∈', 'f', \"⁻¹'\", 's']),\n ('𝕜', ['Type', 'u_1']),\n ('E', ['Type', 'u_2']),\n ('F', ['Type', 'u_3']),\n ('_inst_1', ['ordered_semiring', '𝕜']),\n ('_inst_2', ['add_comm_monoid', 'E']),\n ('_inst_3', ['add_comm_monoid', 'F']),\n ('_inst_4', ['module', '𝕜', 'E']),\n ('_inst_5', ['module', '𝕜', 'F']),\n ('s', ['set', 'F']),\n ('hs', ['convex', '𝕜', 's']),\n ('f', ['E', '→', 'F']),\n ('hf', ['is_linear_map', '𝕜', 'f']),\n ('x₀', ['E']),\n ('hx₀', ['x₀', '∈', 'f', \"⁻¹'\", 's']),\n ('a', ['E']),\n ('b', ['a', '∈', 'f', \"⁻¹'\", 's']),\n ('ha', ['𝕜']),\n ('hb', ['𝕜']),\n ('hab', ['0', '≤', 'ha']),\n ('𝕜', ['Type', 'u_1']),\n ('E', ['Type', 'u_2']),\n ('F', ['Type', 'u_3']),\n ('_inst_1', ['ordered_semiring', '𝕜']),\n ('_inst_2', ['add_comm_monoid', 'E']),\n ('_inst_3', ['add_comm_monoid', 'F']),\n ('_inst_4', ['module', '𝕜', 'E']),\n ('_inst_5', ['module', '𝕜', 'F']),\n ('s', ['set', 'F']),\n ('hs', ['convex', '𝕜', 's']),\n ('f', ['E', '→', 'F']),\n ('hf', ['is_linear_map', '𝕜', 'f']),\n ('l', ['E']),\n ('hl', ['l', '∈', 'f', \"⁻¹'\", 's']),\n ('a', ['E']),\n ('b', ['a', '∈', 'f', \"⁻¹'\", 's']),\n ('ha', ['𝕜']),\n ('hb', ['𝕜']),\n ('hab', ['0', '≤', 'ha']),\n ('𝕜', ['Type', 'u_1']),\n ('E', ['Type', 'u_2']),\n ('F', ['Type', 'u_3']),\n ('_inst_1', ['ordered_semiring', '𝕜']),\n ('_inst_2', ['add_comm_monoid', 'E']),\n ('_inst_3', ['add_comm_monoid', 'F']),\n ('_inst_4', ['module', '𝕜', 'E']),\n ('_inst_5', ['module', '𝕜', 'F']),\n ('s', ['set', 'F']),\n ('hs', ['convex', '𝕜', 's']),\n ('f', ['E', '→', 'F']),\n ('hf', ['is_linear_map', '𝕜', 'f']),\n ('x₁', ['E']),\n ('hx₁', ['x₁', '∈', 'f', \"⁻¹'\", 's']),\n ('x₂', ['E']),\n ('hx', ['x₂', '∈', 'f', \"⁻¹'\", 's']),\n ('𝕜', ['Type', 'u_1']),\n ('E', ['Type', 'u_2']),\n ('F', ['Type', 'u_3']),\n ('_inst_1', ['ordered_semiring', '𝕜']),\n ('_inst_2', ['add_comm_monoid', 'E']),\n ('_inst_3', ['add_comm_monoid', 'F']),\n ('_inst_4', ['module', '𝕜', 'E']),\n ('_inst_5', ['module', '𝕜', 'F']),\n ('s', ['set', 'F']),\n ('hs', ['convex', '𝕜', 's']),\n ('f', ['E', '→', 'F']),\n ('hf', ['is_linear_map', '𝕜', 'f']),\n ('x₁', ['E']),\n ('hx₁', ['x₁', '∈', 'f', \"⁻¹'\", 's']),\n ('hx₂', ['E']),\n ('a', ['hx₂', '∈', 'f', \"⁻¹'\", 's']),\n ('b', ['𝕜']),\n ('ha', ['𝕜']),\n ('hb', ['0', '≤', 'b']),\n ('hab', ['0', '≤', 'ha']),\n ('𝕜', ['Type', 'u_1']),\n ('E', ['Type', 'u_2']),\n ('F', ['Type', 'u_3']),\n ('_inst_1', ['ordered_semiring', '𝕜']),\n ('_inst_2', ['add_comm_monoid', 'E']),\n ('_inst_3', ['add_comm_monoid', 'F']),\n ('_inst_4', ['module', '𝕜', 'E']),\n ('_inst_5', ['module', '𝕜', 'F']),\n ('s', ['set', 'F']),\n ('hs', ['convex', '𝕜', 's']),\n ('f', ['E', '→', 'F']),\n ('hf', ['is_linear_map', '𝕜', 'f']),\n ('x', ['E']),\n ('hx', ['x', '∈', 'f', \"⁻¹'\", 's']),\n ('a', ['E']),\n ('b', ['a', '∈', 'f', \"⁻¹'\", 's']),\n ('ha', ['𝕜']),\n ('hb', ['𝕜']),\n ('hab', ['0', '≤', 'ha']),\n ('𝕜', ['Type', 'u_1']),\n ('E', ['Type', 'u_2']),\n ('F', ['Type', 'u_3']),\n ('_inst_1', ['ordered_semiring', '𝕜']),\n ('_inst_2', ['add_comm_monoid', 'E']),\n ('_inst_3', ['add_comm_monoid', 'F']),\n ('_inst_4', ['module', '𝕜', 'E']),\n ('_inst_5', ['module', '𝕜', 'F']),\n ('s', ['set', 'F']),\n ('hs', ['convex', '𝕜', 's']),\n ('f', ['E', '→', 'F']),\n ('hf', ['is_linear_map', '𝕜', 'f']),\n ('a', ['E']),\n ('ha', ['a', '∈', 'f', \"⁻¹'\", 's']),\n ('b', ['E']),\n ('hb', ['b', '∈', 'f', \"⁻¹'\", 's']),\n ('hab', ['𝕜']),\n ('𝕜', ['Type', 'u_1']),\n ('E', ['Type', 'u_2']),\n ('F', ['Type', 'u_3']),\n ('_inst_1', ['ordered_semiring', '𝕜']),\n ('_inst_2', ['add_comm_monoid', 'E']),\n ('_inst_3', ['add_comm_monoid', 'F']),\n ('_inst_4', ['module', '𝕜', 'E']),\n ('_inst_5', ['module', '𝕜', 'F']),\n ('s', ['set', 'F']),\n ('hs', ['convex', '𝕜', 's']),\n ('f', ['E', '→', 'F']),\n ('hf', ['is_linear_map', '𝕜', 'f']),\n ('p', ['E']),\n ('hp', ['p', '∈', 'f', \"⁻¹'\", 's']),\n ('x', ['E']),\n ('hx', ['x', '∈', 'f', \"⁻¹'\", 's']),\n ('𝕜', ['Type', 'u_1']),\n ('E', ['Type', 'u_2']),\n ('F', ['Type', 'u_3']),\n ('_inst_1', ['ordered_semiring', '𝕜']),\n ('_inst_2', ['add_comm_monoid', 'E']),\n ('_inst_3', ['add_comm_monoid', 'F']),\n ('_inst_4', ['module', '𝕜', 'E']),\n ('_inst_5', ['module', '𝕜', 'F']),\n ('s', ['set', 'F']),\n ('f', ['E', '→', 'F']),\n ('hf', ['is_linear_map', '𝕜', 'f']),\n ('hs',\n  ['∀',\n   '⦃x',\n   ':',\n   'F⦄,',\n   'x',\n   '∈',\n   's',\n   '→',\n   '∀',\n   '⦃y',\n   ':',\n   'F⦄,',\n   'y',\n   '∈',\n   's',\n   '→',\n   '[x',\n   '-[𝕜]',\n   'y]',\n   '⊆',\n   's'])]"
     },
     "execution_count": 108,
     "metadata": {},
     "output_type": "execute_result"
    }
   ],
   "source": [
    "decs"
   ],
   "metadata": {
    "collapsed": false,
    "ExecuteTime": {
     "end_time": "2023-10-16T00:00:57.879240247Z",
     "start_time": "2023-10-16T00:00:57.835722868Z"
    }
   }
  },
  {
   "cell_type": "code",
   "execution_count": null,
   "outputs": [],
   "source": [],
   "metadata": {
    "collapsed": false
   }
  },
  {
   "cell_type": "code",
   "execution_count": 64,
   "outputs": [
    {
     "data": {
      "text/plain": "\"0 ≤ hb → ha + hb = 1 → ha • y + hb • a ∈ f ⁻¹' s\""
     },
     "execution_count": 64,
     "metadata": {},
     "output_type": "execute_result"
    }
   ],
   "source": [
    "child_goals[0]"
   ],
   "metadata": {
    "collapsed": false,
    "ExecuteTime": {
     "end_time": "2023-10-13T09:48:27.916580513Z",
     "start_time": "2023-10-13T09:48:27.915279409Z"
    }
   }
  },
  {
   "cell_type": "code",
   "execution_count": 65,
   "outputs": [
    {
     "data": {
      "text/plain": "\"a • x₁ + b • x₂ ∈ f ⁻¹' s\""
     },
     "execution_count": 65,
     "metadata": {},
     "output_type": "execute_result"
    }
   ],
   "source": [
    "child_goals[2]"
   ],
   "metadata": {
    "collapsed": false,
    "ExecuteTime": {
     "end_time": "2023-10-13T09:48:28.537037354Z",
     "start_time": "2023-10-13T09:48:28.535182364Z"
    }
   }
  },
  {
   "cell_type": "code",
   "execution_count": 3,
   "outputs": [],
   "source": [
    "prev_goals= ['ι : Type u_1,\\n𝕜 : Type u_2,\\n_inst_1 : is_R_or_C 𝕜,\\nG : ι → Type u_4,\\n_inst_4 : Π (i : ι), normed_add_comm_group (G i),\\n_inst_5 : Π (i : ι), inner_product_space 𝕜 (G i),\\nf g : ↥(lp G 2),\\nthis : true\\n⊢ ∀ (i : ι), inner (⇑f i) (⇑g i) = inner (⇑f i) (⇑g i)', 'ι : Type u_1,\\n𝕜 : Type u_2,\\n_inst_1 : is_R_or_C 𝕜,\\nG : ι → Type u_4,\\n_inst_4 : Π (i : ι), normed_add_comm_group (G i),\\n_inst_5 : Π (i : ι), inner_product_space 𝕜 (G i),\\nf g : ↥(lp G 2),\\nthis : true,\\nthis : ∀ (i : ι), inner (⇑f i) (⇑g i) = inner (⇑f i) (⇑g i)\\n⊢ has_sum (λ (i : ι), inner (⇑f i) (⇑g i)) 2', 'ι : Type u_1,\\n𝕜 : Type u_2,\\n_inst_1 : is_R_or_C 𝕜,\\nG : ι → Type u_4,\\n_inst_4 : Π (i : ι), normed_add_comm_group (G i),\\n_inst_5 : Π (i : ι), inner_product_space 𝕜 (G i),\\nf g : ↥(lp G 2)\\n⊢ ∀ (i : ι), inner (⇑f i) (⇑g i) = inner (⇑f i) (⇑g i)']"
   ],
   "metadata": {
    "collapsed": false,
    "ExecuteTime": {
     "end_time": "2023-10-16T08:02:48.638272804Z",
     "start_time": "2023-10-16T08:02:48.629679530Z"
    }
   }
  },
  {
   "cell_type": "code",
   "execution_count": 4,
   "outputs": [
    {
     "data": {
      "text/plain": "3"
     },
     "execution_count": 4,
     "metadata": {},
     "output_type": "execute_result"
    }
   ],
   "source": [
    "len(prev_goals)"
   ],
   "metadata": {
    "collapsed": false,
    "ExecuteTime": {
     "end_time": "2023-10-16T08:02:49.390958620Z",
     "start_time": "2023-10-16T08:02:49.387865112Z"
    }
   }
  },
  {
   "cell_type": "code",
   "execution_count": 6,
   "outputs": [],
   "source": [
    "\n",
    "response = ['ι : Type u_1,\\n𝕜 : Type u_2,\\n_inst_1 : is_R_or_C 𝕜,\\nG : ι → Type u_4,\\n_inst_4 : Π (i : ι), normed_add_comm_group (G i),\\n_inst_5 : Π (i : ι), inner_product_space 𝕜 (G i),\\nf g : ↥(lp G 2)\\n⊢ ∀ (i : ι), inner (⇑f i) (⇑g i) = inner (⇑f i) (⇑g i)',\n",
    "'ι : Type u_1,\\n𝕜 : Type u_2,\\n_inst_1 : is_R_or_C 𝕜,\\nG : ι → Type u_4,\\n_inst_4 : Π (i : ι), normed_add_comm_group (G i),\\n_inst_5 : Π (i : ι), inner_product_space 𝕜 (G i),\\nf g : ↥(lp G 2),\\nthis : true,\\nthis : ∀ (i : ι), inner (⇑f i) (⇑g i) = inner (⇑f i) (⇑g i)\\n⊢ has_sum (λ (i : ι), inner (⇑f i) (⇑g i)) 2',\n",
    "'ι : Type u_1,\\n𝕜 : Type u_2,\\n_inst_1 : is_R_or_C 𝕜,\\nG : ι → Type u_4,\\n_inst_4 : Π (i : ι), normed_add_comm_group (G i),\\n_inst_5 : Π (i : ι), inner_product_space 𝕜 (G i),\\nf g : ↥(lp G 2)\\n⊢ ∀ (i : ι), inner (⇑f i) (⇑g i) = inner (⇑f i) (⇑g i)']\n",
    "\n",
    "tac_state = ['ι : Type u_1,\\n𝕜 : Type u_2,\\n_inst_1 : is_R_or_C 𝕜,\\nG : ι → Type u_4,\\n_inst_4 : Π (i : ι), normed_add_comm_group (G i),\\n_inst_5 : Π (i : ι), inner_product_space 𝕜 (G i),\\nf g : ↥(lp G 2),\\nthis : true\\n⊢ ∀ (i : ι), inner (⇑f i) (⇑g i) = inner (⇑f i) (⇑g i)',\n",
    "'ι : Type u_1,\\n𝕜 : Type u_2,\\n_inst_1 : is_R_or_C 𝕜,\\nG : ι → Type u_4,\\n_inst_4 : Π (i : ι), normed_add_comm_group (G i),\\n_inst_5 : Π (i : ι), inner_product_space 𝕜 (G i),\\nf g : ↥(lp G 2),\\nthis : true,\\nthis : ∀ (i : ι), inner (⇑f i) (⇑g i) = inner (⇑f i) (⇑g i)\\n⊢ has_sum (λ (i : ι), inner (⇑f i) (⇑g i)) 2',\n",
    "'ι : Type u_1,\\n𝕜 : Type u_2,\\n_inst_1 : is_R_or_C 𝕜,\\nG : ι → Type u_4,\\n_inst_4 : Π (i : ι), normed_add_comm_group (G i),\\n_inst_5 : Π (i : ι), inner_product_space 𝕜 (G i),\\nf g : ↥(lp G 2)\\n⊢ ∀ (i : ι), inner (⇑f i) (⇑g i) = inner (⇑f i) (⇑g i)']\n"
   ],
   "metadata": {
    "collapsed": false,
    "ExecuteTime": {
     "end_time": "2023-10-16T08:08:09.269377843Z",
     "start_time": "2023-10-16T08:08:09.267856757Z"
    }
   }
  },
  {
   "cell_type": "code",
   "execution_count": 39,
   "outputs": [
    {
     "data": {
      "text/plain": "[]"
     },
     "execution_count": 39,
     "metadata": {},
     "output_type": "execute_result"
    }
   ],
   "source": [
    "[g for g in response if g not in prev_goals]"
   ],
   "metadata": {
    "collapsed": false,
    "ExecuteTime": {
     "end_time": "2023-10-16T08:11:56.302711Z",
     "start_time": "2023-10-16T08:11:56.300125838Z"
    }
   }
  },
  {
   "cell_type": "code",
   "execution_count": 48,
   "outputs": [
    {
     "data": {
      "text/plain": "True"
     },
     "execution_count": 48,
     "metadata": {},
     "output_type": "execute_result"
    }
   ],
   "source": [
    "response[1] == prev_goals[1]"
   ],
   "metadata": {
    "collapsed": false,
    "ExecuteTime": {
     "end_time": "2023-10-16T08:13:29.620526998Z",
     "start_time": "2023-10-16T08:13:29.617521098Z"
    }
   }
  },
  {
   "cell_type": "code",
   "execution_count": 43,
   "outputs": [
    {
     "data": {
      "text/plain": "'ι : Type u_1,\\n𝕜 : Type u_2,\\n_inst_1 : is_R_or_C 𝕜,\\nG : ι → Type u_4,\\n_inst_4 : Π (i : ι), normed_add_comm_group (G i),\\n_inst_5 : Π (i : ι), inner_product_space 𝕜 (G i),\\nf g : ↥(lp G 2)\\n⊢ ∀ (i : ι), inner (⇑f i) (⇑g i) = inner (⇑f i) (⇑g i)'"
     },
     "execution_count": 43,
     "metadata": {},
     "output_type": "execute_result"
    }
   ],
   "source": [
    "response[0]"
   ],
   "metadata": {
    "collapsed": false,
    "ExecuteTime": {
     "end_time": "2023-10-16T08:12:45.498308056Z",
     "start_time": "2023-10-16T08:12:45.496073831Z"
    }
   }
  },
  {
   "cell_type": "code",
   "execution_count": 45,
   "outputs": [
    {
     "data": {
      "text/plain": "'ι : Type u_1,\\n𝕜 : Type u_2,\\n_inst_1 : is_R_or_C 𝕜,\\nG : ι → Type u_4,\\n_inst_4 : Π (i : ι), normed_add_comm_group (G i),\\n_inst_5 : Π (i : ι), inner_product_space 𝕜 (G i),\\nf g : ↥(lp G 2)\\n⊢ ∀ (i : ι), inner (⇑f i) (⇑g i) = inner (⇑f i) (⇑g i)'"
     },
     "execution_count": 45,
     "metadata": {},
     "output_type": "execute_result"
    }
   ],
   "source": [
    "prev_goals[2]"
   ],
   "metadata": {
    "collapsed": false,
    "ExecuteTime": {
     "end_time": "2023-10-16T08:13:11.862722906Z",
     "start_time": "2023-10-16T08:13:11.849111767Z"
    }
   }
  },
  {
   "cell_type": "code",
   "execution_count": 53,
   "outputs": [
    {
     "data": {
      "text/plain": "'ι : Type u_1,\\n𝕜 : Type u_2,\\n_inst_1 : is_R_or_C 𝕜,\\nG : ι → Type u_4,\\n_inst_4 : Π (i : ι), normed_add_comm_group (G i),\\n_inst_5 : Π (i : ι), inner_product_space 𝕜 (G i),\\nf g : ↥(lp G 2)\\n⊢ ∀ (i : ι), inner (⇑f i) (⇑g i) = inner (⇑f i) (⇑g i)'"
     },
     "execution_count": 53,
     "metadata": {},
     "output_type": "execute_result"
    }
   ],
   "source": [
    "response[2]"
   ],
   "metadata": {
    "collapsed": false,
    "ExecuteTime": {
     "end_time": "2023-10-16T08:15:34.529196553Z",
     "start_time": "2023-10-16T08:15:34.526564517Z"
    }
   }
  },
  {
   "cell_type": "code",
   "execution_count": 46,
   "outputs": [
    {
     "data": {
      "text/plain": "'ι : Type u_1,\\n𝕜 : Type u_2,\\n_inst_1 : is_R_or_C 𝕜,\\nG : ι → Type u_4,\\n_inst_4 : Π (i : ι), normed_add_comm_group (G i),\\n_inst_5 : Π (i : ι), inner_product_space 𝕜 (G i),\\nf g : ↥(lp G 2),\\nthis : true,\\nthis : ∀ (i : ι), inner (⇑f i) (⇑g i) = inner (⇑f i) (⇑g i)\\n⊢ has_sum (λ (i : ι), inner (⇑f i) (⇑g i)) 2'"
     },
     "execution_count": 46,
     "metadata": {},
     "output_type": "execute_result"
    }
   ],
   "source": [
    "response[1]"
   ],
   "metadata": {
    "collapsed": false,
    "ExecuteTime": {
     "end_time": "2023-10-16T08:13:16.070214681Z",
     "start_time": "2023-10-16T08:13:16.067906947Z"
    }
   }
  },
  {
   "cell_type": "code",
   "execution_count": 47,
   "outputs": [
    {
     "data": {
      "text/plain": "'ι : Type u_1,\\n𝕜 : Type u_2,\\n_inst_1 : is_R_or_C 𝕜,\\nG : ι → Type u_4,\\n_inst_4 : Π (i : ι), normed_add_comm_group (G i),\\n_inst_5 : Π (i : ι), inner_product_space 𝕜 (G i),\\nf g : ↥(lp G 2),\\nthis : true,\\nthis : ∀ (i : ι), inner (⇑f i) (⇑g i) = inner (⇑f i) (⇑g i)\\n⊢ has_sum (λ (i : ι), inner (⇑f i) (⇑g i)) 2'"
     },
     "execution_count": 47,
     "metadata": {},
     "output_type": "execute_result"
    }
   ],
   "source": [
    "prev_goals[1]"
   ],
   "metadata": {
    "collapsed": false,
    "ExecuteTime": {
     "end_time": "2023-10-16T08:13:19.987780483Z",
     "start_time": "2023-10-16T08:13:19.985219189Z"
    }
   }
  },
  {
   "cell_type": "code",
   "execution_count": 49,
   "outputs": [
    {
     "data": {
      "text/plain": "'ι : Type u_1,\\n𝕜 : Type u_2,\\n_inst_1 : is_R_or_C 𝕜,\\nG : ι → Type u_4,\\n_inst_4 : Π (i : ι), normed_add_comm_group (G i),\\n_inst_5 : Π (i : ι), inner_product_space 𝕜 (G i),\\nf g : ↥(lp G 2),\\nthis : true\\n⊢ ∀ (i : ι), inner (⇑f i) (⇑g i) = inner (⇑f i) (⇑g i)'"
     },
     "execution_count": 49,
     "metadata": {},
     "output_type": "execute_result"
    }
   ],
   "source": [
    "prev_goals[0]"
   ],
   "metadata": {
    "collapsed": false,
    "ExecuteTime": {
     "end_time": "2023-10-16T08:13:40.637953846Z",
     "start_time": "2023-10-16T08:13:40.635649197Z"
    }
   }
  },
  {
   "cell_type": "code",
   "execution_count": 51,
   "outputs": [
    {
     "data": {
      "text/plain": "True"
     },
     "execution_count": 51,
     "metadata": {},
     "output_type": "execute_result"
    }
   ],
   "source": [
    "response[2] in prev_goals"
   ],
   "metadata": {
    "collapsed": false,
    "ExecuteTime": {
     "end_time": "2023-10-16T08:15:05.203141252Z",
     "start_time": "2023-10-16T08:15:05.200071257Z"
    }
   }
  },
  {
   "cell_type": "code",
   "execution_count": 52,
   "outputs": [
    {
     "data": {
      "text/plain": "2"
     },
     "execution_count": 52,
     "metadata": {},
     "output_type": "execute_result"
    }
   ],
   "source": [
    "prev_goals.index(response[2])"
   ],
   "metadata": {
    "collapsed": false,
    "ExecuteTime": {
     "end_time": "2023-10-16T08:15:12.181630493Z",
     "start_time": "2023-10-16T08:15:12.141298271Z"
    }
   }
  },
  {
   "cell_type": "code",
   "execution_count": 9,
   "outputs": [
    {
     "data": {
      "text/plain": "3"
     },
     "execution_count": 9,
     "metadata": {},
     "output_type": "execute_result"
    }
   ],
   "source": [
    "len(tac_state)"
   ],
   "metadata": {
    "collapsed": false,
    "ExecuteTime": {
     "end_time": "2023-10-16T08:08:23.433364199Z",
     "start_time": "2023-10-16T08:08:23.429859120Z"
    }
   }
  },
  {
   "cell_type": "code",
   "execution_count": 26,
   "outputs": [
    {
     "data": {
      "text/plain": "False"
     },
     "execution_count": 26,
     "metadata": {},
     "output_type": "execute_result"
    }
   ],
   "source": [
    "tac_state[0] == response[2]"
   ],
   "metadata": {
    "collapsed": false,
    "ExecuteTime": {
     "end_time": "2023-10-16T08:10:27.730751208Z",
     "start_time": "2023-10-16T08:10:27.725923208Z"
    }
   }
  },
  {
   "cell_type": "code",
   "execution_count": 17,
   "outputs": [
    {
     "data": {
      "text/plain": "True"
     },
     "execution_count": 17,
     "metadata": {},
     "output_type": "execute_result"
    }
   ],
   "source": [
    "response[2] in prev_goals"
   ],
   "metadata": {
    "collapsed": false,
    "ExecuteTime": {
     "end_time": "2023-10-16T08:08:47.373539041Z",
     "start_time": "2023-10-16T08:08:47.371816885Z"
    }
   }
  },
  {
   "cell_type": "code",
   "execution_count": 38,
   "outputs": [
    {
     "data": {
      "text/plain": "'ι : Type u_1,\\n𝕜 : Type u_2,\\n_inst_1 : is_R_or_C 𝕜,\\nG : ι → Type u_4,\\n_inst_4 : Π (i : ι), normed_add_comm_group (G i),\\n_inst_5 : Π (i : ι), inner_product_space 𝕜 (G i),\\nf g : ↥(lp G 2)\\n⊢ ∀ (i : ι), inner (⇑f i) (⇑g i) = inner (⇑f i) (⇑g i)'"
     },
     "execution_count": 38,
     "metadata": {},
     "output_type": "execute_result"
    }
   ],
   "source": [
    "response[2]"
   ],
   "metadata": {
    "collapsed": false,
    "ExecuteTime": {
     "end_time": "2023-10-16T08:10:59.602355397Z",
     "start_time": "2023-10-16T08:10:59.601563331Z"
    }
   }
  },
  {
   "cell_type": "code",
   "execution_count": 37,
   "outputs": [
    {
     "data": {
      "text/plain": "'ι : Type u_1,\\n𝕜 : Type u_2,\\n_inst_1 : is_R_or_C 𝕜,\\nG : ι → Type u_4,\\n_inst_4 : Π (i : ι), normed_add_comm_group (G i),\\n_inst_5 : Π (i : ι), inner_product_space 𝕜 (G i),\\nf g : ↥(lp G 2)\\n⊢ ∀ (i : ι), inner (⇑f i) (⇑g i) = inner (⇑f i) (⇑g i)'"
     },
     "execution_count": 37,
     "metadata": {},
     "output_type": "execute_result"
    }
   ],
   "source": [
    "tac_state[2]"
   ],
   "metadata": {
    "collapsed": false,
    "ExecuteTime": {
     "end_time": "2023-10-16T08:10:59.221054567Z",
     "start_time": "2023-10-16T08:10:59.218661872Z"
    }
   }
  }
 ],
 "metadata": {
  "kernelspec": {
   "display_name": "Python 3",
   "language": "python",
   "name": "python3"
  },
  "language_info": {
   "codemirror_mode": {
    "name": "ipython",
    "version": 2
   },
   "file_extension": ".py",
   "mimetype": "text/x-python",
   "name": "python",
   "nbconvert_exporter": "python",
   "pygments_lexer": "ipython2",
   "version": "2.7.6"
  }
 },
 "nbformat": 4,
 "nbformat_minor": 0
}
